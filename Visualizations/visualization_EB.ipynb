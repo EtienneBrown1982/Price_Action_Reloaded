{
 "cells": [
  {
   "cell_type": "code",
   "execution_count": 1,
   "metadata": {},
   "outputs": [
    {
     "data": {
      "application/javascript": "(function(root) {\n  function now() {\n    return new Date();\n  }\n\n  var force = true;\n  var py_version = '3.2.1'.replace('rc', '-rc.').replace('.dev', '-dev.');\n  var is_dev = py_version.indexOf(\"+\") !== -1 || py_version.indexOf(\"-\") !== -1;\n  var reloading = false;\n  var Bokeh = root.Bokeh;\n  var bokeh_loaded = Bokeh != null && (Bokeh.version === py_version || (Bokeh.versions !== undefined && Bokeh.versions.has(py_version)));\n\n  if (typeof (root._bokeh_timeout) === \"undefined\" || force) {\n    root._bokeh_timeout = Date.now() + 5000;\n    root._bokeh_failed_load = false;\n  }\n\n  function run_callbacks() {\n    try {\n      root._bokeh_onload_callbacks.forEach(function(callback) {\n        if (callback != null)\n          callback();\n      });\n    } finally {\n      delete root._bokeh_onload_callbacks;\n    }\n    console.debug(\"Bokeh: all callbacks have finished\");\n  }\n\n  function load_libs(css_urls, js_urls, js_modules, js_exports, callback) {\n    if (css_urls == null) css_urls = [];\n    if (js_urls == null) js_urls = [];\n    if (js_modules == null) js_modules = [];\n    if (js_exports == null) js_exports = {};\n\n    root._bokeh_onload_callbacks.push(callback);\n\n    if (root._bokeh_is_loading > 0) {\n      console.debug(\"Bokeh: BokehJS is being loaded, scheduling callback at\", now());\n      return null;\n    }\n    if (js_urls.length === 0 && js_modules.length === 0 && Object.keys(js_exports).length === 0) {\n      run_callbacks();\n      return null;\n    }\n    if (!reloading) {\n      console.debug(\"Bokeh: BokehJS not loaded, scheduling load and callback at\", now());\n    }\n\n    function on_load() {\n      root._bokeh_is_loading--;\n      if (root._bokeh_is_loading === 0) {\n        console.debug(\"Bokeh: all BokehJS libraries/stylesheets loaded\");\n        run_callbacks()\n      }\n    }\n    window._bokeh_on_load = on_load\n\n    function on_error() {\n      console.error(\"failed to load \" + url);\n    }\n\n    var skip = [];\n    if (window.requirejs) {\n      window.requirejs.config({'packages': {}, 'paths': {'jspanel': 'https://cdn.jsdelivr.net/npm/jspanel4@4.12.0/dist/jspanel', 'jspanel-modal': 'https://cdn.jsdelivr.net/npm/jspanel4@4.12.0/dist/extensions/modal/jspanel.modal', 'jspanel-tooltip': 'https://cdn.jsdelivr.net/npm/jspanel4@4.12.0/dist/extensions/tooltip/jspanel.tooltip', 'jspanel-hint': 'https://cdn.jsdelivr.net/npm/jspanel4@4.12.0/dist/extensions/hint/jspanel.hint', 'jspanel-layout': 'https://cdn.jsdelivr.net/npm/jspanel4@4.12.0/dist/extensions/layout/jspanel.layout', 'jspanel-contextmenu': 'https://cdn.jsdelivr.net/npm/jspanel4@4.12.0/dist/extensions/contextmenu/jspanel.contextmenu', 'jspanel-dock': 'https://cdn.jsdelivr.net/npm/jspanel4@4.12.0/dist/extensions/dock/jspanel.dock', 'gridstack': 'https://cdn.jsdelivr.net/npm/gridstack@7.2.3/dist/gridstack-all', 'notyf': 'https://cdn.jsdelivr.net/npm/notyf@3/notyf.min'}, 'shim': {'jspanel': {'exports': 'jsPanel'}, 'gridstack': {'exports': 'GridStack'}}});\n      require([\"jspanel\"], function(jsPanel) {\n\twindow.jsPanel = jsPanel\n\ton_load()\n      })\n      require([\"jspanel-modal\"], function() {\n\ton_load()\n      })\n      require([\"jspanel-tooltip\"], function() {\n\ton_load()\n      })\n      require([\"jspanel-hint\"], function() {\n\ton_load()\n      })\n      require([\"jspanel-layout\"], function() {\n\ton_load()\n      })\n      require([\"jspanel-contextmenu\"], function() {\n\ton_load()\n      })\n      require([\"jspanel-dock\"], function() {\n\ton_load()\n      })\n      require([\"gridstack\"], function(GridStack) {\n\twindow.GridStack = GridStack\n\ton_load()\n      })\n      require([\"notyf\"], function() {\n\ton_load()\n      })\n      root._bokeh_is_loading = css_urls.length + 9;\n    } else {\n      root._bokeh_is_loading = css_urls.length + js_urls.length + js_modules.length + Object.keys(js_exports).length;\n    }\n\n    var existing_stylesheets = []\n    var links = document.getElementsByTagName('link')\n    for (var i = 0; i < links.length; i++) {\n      var link = links[i]\n      if (link.href != null) {\n\texisting_stylesheets.push(link.href)\n      }\n    }\n    for (var i = 0; i < css_urls.length; i++) {\n      var url = css_urls[i];\n      if (existing_stylesheets.indexOf(url) !== -1) {\n\ton_load()\n\tcontinue;\n      }\n      const element = document.createElement(\"link\");\n      element.onload = on_load;\n      element.onerror = on_error;\n      element.rel = \"stylesheet\";\n      element.type = \"text/css\";\n      element.href = url;\n      console.debug(\"Bokeh: injecting link tag for BokehJS stylesheet: \", url);\n      document.body.appendChild(element);\n    }    if (((window['jsPanel'] !== undefined) && (!(window['jsPanel'] instanceof HTMLElement))) || window.requirejs) {\n      var urls = ['https://cdn.holoviz.org/panel/1.2.3/dist/bundled/floatpanel/jspanel4@4.12.0/dist/jspanel.js', 'https://cdn.holoviz.org/panel/1.2.3/dist/bundled/floatpanel/jspanel4@4.12.0/dist/extensions/modal/jspanel.modal.js', 'https://cdn.holoviz.org/panel/1.2.3/dist/bundled/floatpanel/jspanel4@4.12.0/dist/extensions/tooltip/jspanel.tooltip.js', 'https://cdn.holoviz.org/panel/1.2.3/dist/bundled/floatpanel/jspanel4@4.12.0/dist/extensions/hint/jspanel.hint.js', 'https://cdn.holoviz.org/panel/1.2.3/dist/bundled/floatpanel/jspanel4@4.12.0/dist/extensions/layout/jspanel.layout.js', 'https://cdn.holoviz.org/panel/1.2.3/dist/bundled/floatpanel/jspanel4@4.12.0/dist/extensions/contextmenu/jspanel.contextmenu.js', 'https://cdn.holoviz.org/panel/1.2.3/dist/bundled/floatpanel/jspanel4@4.12.0/dist/extensions/dock/jspanel.dock.js'];\n      for (var i = 0; i < urls.length; i++) {\n        skip.push(urls[i])\n      }\n    }    if (((window['GridStack'] !== undefined) && (!(window['GridStack'] instanceof HTMLElement))) || window.requirejs) {\n      var urls = ['https://cdn.holoviz.org/panel/1.2.3/dist/bundled/gridstack/gridstack@7.2.3/dist/gridstack-all.js'];\n      for (var i = 0; i < urls.length; i++) {\n        skip.push(urls[i])\n      }\n    }    if (((window['Notyf'] !== undefined) && (!(window['Notyf'] instanceof HTMLElement))) || window.requirejs) {\n      var urls = ['https://cdn.holoviz.org/panel/1.2.3/dist/bundled/notificationarea/notyf@3/notyf.min.js'];\n      for (var i = 0; i < urls.length; i++) {\n        skip.push(urls[i])\n      }\n    }    var existing_scripts = []\n    var scripts = document.getElementsByTagName('script')\n    for (var i = 0; i < scripts.length; i++) {\n      var script = scripts[i]\n      if (script.src != null) {\n\texisting_scripts.push(script.src)\n      }\n    }\n    for (var i = 0; i < js_urls.length; i++) {\n      var url = js_urls[i];\n      if (skip.indexOf(url) !== -1 || existing_scripts.indexOf(url) !== -1) {\n\tif (!window.requirejs) {\n\t  on_load();\n\t}\n\tcontinue;\n      }\n      var element = document.createElement('script');\n      element.onload = on_load;\n      element.onerror = on_error;\n      element.async = false;\n      element.src = url;\n      console.debug(\"Bokeh: injecting script tag for BokehJS library: \", url);\n      document.head.appendChild(element);\n    }\n    for (var i = 0; i < js_modules.length; i++) {\n      var url = js_modules[i];\n      if (skip.indexOf(url) !== -1 || existing_scripts.indexOf(url) !== -1) {\n\tif (!window.requirejs) {\n\t  on_load();\n\t}\n\tcontinue;\n      }\n      var element = document.createElement('script');\n      element.onload = on_load;\n      element.onerror = on_error;\n      element.async = false;\n      element.src = url;\n      element.type = \"module\";\n      console.debug(\"Bokeh: injecting script tag for BokehJS library: \", url);\n      document.head.appendChild(element);\n    }\n    for (const name in js_exports) {\n      var url = js_exports[name];\n      if (skip.indexOf(url) >= 0 || root[name] != null) {\n\tif (!window.requirejs) {\n\t  on_load();\n\t}\n\tcontinue;\n      }\n      var element = document.createElement('script');\n      element.onerror = on_error;\n      element.async = false;\n      element.type = \"module\";\n      console.debug(\"Bokeh: injecting script tag for BokehJS library: \", url);\n      element.textContent = `\n      import ${name} from \"${url}\"\n      window.${name} = ${name}\n      window._bokeh_on_load()\n      `\n      document.head.appendChild(element);\n    }\n    if (!js_urls.length && !js_modules.length) {\n      on_load()\n    }\n  };\n\n  function inject_raw_css(css) {\n    const element = document.createElement(\"style\");\n    element.appendChild(document.createTextNode(css));\n    document.body.appendChild(element);\n  }\n\n  var js_urls = [\"https://cdn.bokeh.org/bokeh/release/bokeh-3.2.1.min.js\", \"https://cdn.bokeh.org/bokeh/release/bokeh-gl-3.2.1.min.js\", \"https://cdn.bokeh.org/bokeh/release/bokeh-widgets-3.2.1.min.js\", \"https://cdn.bokeh.org/bokeh/release/bokeh-tables-3.2.1.min.js\", \"https://cdn.holoviz.org/panel/1.2.3/dist/panel.min.js\"];\n  var js_modules = [];\n  var js_exports = {};\n  var css_urls = [];\n  var inline_js = [    function(Bokeh) {\n      Bokeh.set_log_level(\"info\");\n    },\nfunction(Bokeh) {} // ensure no trailing comma for IE\n  ];\n\n  function run_inline_js() {\n    if ((root.Bokeh !== undefined) || (force === true)) {\n      for (var i = 0; i < inline_js.length; i++) {\n        inline_js[i].call(root, root.Bokeh);\n      }\n      // Cache old bokeh versions\n      if (Bokeh != undefined && !reloading) {\n\tvar NewBokeh = root.Bokeh;\n\tif (Bokeh.versions === undefined) {\n\t  Bokeh.versions = new Map();\n\t}\n\tif (NewBokeh.version !== Bokeh.version) {\n\t  Bokeh.versions.set(NewBokeh.version, NewBokeh)\n\t}\n\troot.Bokeh = Bokeh;\n      }} else if (Date.now() < root._bokeh_timeout) {\n      setTimeout(run_inline_js, 100);\n    } else if (!root._bokeh_failed_load) {\n      console.log(\"Bokeh: BokehJS failed to load within specified timeout.\");\n      root._bokeh_failed_load = true;\n    }\n    root._bokeh_is_initializing = false\n  }\n\n  function load_or_wait() {\n    // Implement a backoff loop that tries to ensure we do not load multiple\n    // versions of Bokeh and its dependencies at the same time.\n    // In recent versions we use the root._bokeh_is_initializing flag\n    // to determine whether there is an ongoing attempt to initialize\n    // bokeh, however for backward compatibility we also try to ensure\n    // that we do not start loading a newer (Panel>=1.0 and Bokeh>3) version\n    // before older versions are fully initialized.\n    if (root._bokeh_is_initializing && Date.now() > root._bokeh_timeout) {\n      root._bokeh_is_initializing = false;\n      root._bokeh_onload_callbacks = undefined;\n      console.log(\"Bokeh: BokehJS was loaded multiple times but one version failed to initialize.\");\n      load_or_wait();\n    } else if (root._bokeh_is_initializing || (typeof root._bokeh_is_initializing === \"undefined\" && root._bokeh_onload_callbacks !== undefined)) {\n      setTimeout(load_or_wait, 100);\n    } else {\n      Bokeh = root.Bokeh;\n      bokeh_loaded = Bokeh != null && (Bokeh.version === py_version || (Bokeh.versions !== undefined && Bokeh.versions.has(py_version)));\n      root._bokeh_is_initializing = true\n      root._bokeh_onload_callbacks = []\n      if (!reloading && (!bokeh_loaded || is_dev)) {\n\troot.Bokeh = undefined;\n      }\n      load_libs(css_urls, js_urls, js_modules, js_exports, function() {\n\tconsole.debug(\"Bokeh: BokehJS plotting callback run at\", now());\n\trun_inline_js();\n      });\n    }\n  }\n  // Give older versions of the autoload script a head-start to ensure\n  // they initialize before we start loading newer version.\n  setTimeout(load_or_wait, 100)\n}(window));",
      "application/vnd.holoviews_load.v0+json": ""
     },
     "metadata": {},
     "output_type": "display_data"
    },
    {
     "data": {
      "application/javascript": "\nif ((window.PyViz === undefined) || (window.PyViz instanceof HTMLElement)) {\n  window.PyViz = {comms: {}, comm_status:{}, kernels:{}, receivers: {}, plot_index: []}\n}\n\n\n    function JupyterCommManager() {\n    }\n\n    JupyterCommManager.prototype.register_target = function(plot_id, comm_id, msg_handler) {\n      if (window.comm_manager || ((window.Jupyter !== undefined) && (Jupyter.notebook.kernel != null))) {\n        var comm_manager = window.comm_manager || Jupyter.notebook.kernel.comm_manager;\n        comm_manager.register_target(comm_id, function(comm) {\n          comm.on_msg(msg_handler);\n        });\n      } else if ((plot_id in window.PyViz.kernels) && (window.PyViz.kernels[plot_id])) {\n        window.PyViz.kernels[plot_id].registerCommTarget(comm_id, function(comm) {\n          comm.onMsg = msg_handler;\n        });\n      } else if (typeof google != 'undefined' && google.colab.kernel != null) {\n        google.colab.kernel.comms.registerTarget(comm_id, (comm) => {\n          var messages = comm.messages[Symbol.asyncIterator]();\n          function processIteratorResult(result) {\n            var message = result.value;\n            console.log(message)\n            var content = {data: message.data, comm_id};\n            var buffers = []\n            for (var buffer of message.buffers || []) {\n              buffers.push(new DataView(buffer))\n            }\n            var metadata = message.metadata || {};\n            var msg = {content, buffers, metadata}\n            msg_handler(msg);\n            return messages.next().then(processIteratorResult);\n          }\n          return messages.next().then(processIteratorResult);\n        })\n      }\n    }\n\n    JupyterCommManager.prototype.get_client_comm = function(plot_id, comm_id, msg_handler) {\n      if (comm_id in window.PyViz.comms) {\n        return window.PyViz.comms[comm_id];\n      } else if (window.comm_manager || ((window.Jupyter !== undefined) && (Jupyter.notebook.kernel != null))) {\n        var comm_manager = window.comm_manager || Jupyter.notebook.kernel.comm_manager;\n        var comm = comm_manager.new_comm(comm_id, {}, {}, {}, comm_id);\n        if (msg_handler) {\n          comm.on_msg(msg_handler);\n        }\n      } else if ((plot_id in window.PyViz.kernels) && (window.PyViz.kernels[plot_id])) {\n        var comm = window.PyViz.kernels[plot_id].connectToComm(comm_id);\n        comm.open();\n        if (msg_handler) {\n          comm.onMsg = msg_handler;\n        }\n      } else if (typeof google != 'undefined' && google.colab.kernel != null) {\n        var comm_promise = google.colab.kernel.comms.open(comm_id)\n        comm_promise.then((comm) => {\n          window.PyViz.comms[comm_id] = comm;\n          if (msg_handler) {\n            var messages = comm.messages[Symbol.asyncIterator]();\n            function processIteratorResult(result) {\n              var message = result.value;\n              var content = {data: message.data};\n              var metadata = message.metadata || {comm_id};\n              var msg = {content, metadata}\n              msg_handler(msg);\n              return messages.next().then(processIteratorResult);\n            }\n            return messages.next().then(processIteratorResult);\n          }\n        }) \n        var sendClosure = (data, metadata, buffers, disposeOnDone) => {\n          return comm_promise.then((comm) => {\n            comm.send(data, metadata, buffers, disposeOnDone);\n          });\n        };\n        var comm = {\n          send: sendClosure\n        };\n      }\n      window.PyViz.comms[comm_id] = comm;\n      return comm;\n    }\n    window.PyViz.comm_manager = new JupyterCommManager();\n    \n\n\nvar JS_MIME_TYPE = 'application/javascript';\nvar HTML_MIME_TYPE = 'text/html';\nvar EXEC_MIME_TYPE = 'application/vnd.holoviews_exec.v0+json';\nvar CLASS_NAME = 'output';\n\n/**\n * Render data to the DOM node\n */\nfunction render(props, node) {\n  var div = document.createElement(\"div\");\n  var script = document.createElement(\"script\");\n  node.appendChild(div);\n  node.appendChild(script);\n}\n\n/**\n * Handle when a new output is added\n */\nfunction handle_add_output(event, handle) {\n  var output_area = handle.output_area;\n  var output = handle.output;\n  if ((output.data == undefined) || (!output.data.hasOwnProperty(EXEC_MIME_TYPE))) {\n    return\n  }\n  var id = output.metadata[EXEC_MIME_TYPE][\"id\"];\n  var toinsert = output_area.element.find(\".\" + CLASS_NAME.split(' ')[0]);\n  if (id !== undefined) {\n    var nchildren = toinsert.length;\n    var html_node = toinsert[nchildren-1].children[0];\n    html_node.innerHTML = output.data[HTML_MIME_TYPE];\n    var scripts = [];\n    var nodelist = html_node.querySelectorAll(\"script\");\n    for (var i in nodelist) {\n      if (nodelist.hasOwnProperty(i)) {\n        scripts.push(nodelist[i])\n      }\n    }\n\n    scripts.forEach( function (oldScript) {\n      var newScript = document.createElement(\"script\");\n      var attrs = [];\n      var nodemap = oldScript.attributes;\n      for (var j in nodemap) {\n        if (nodemap.hasOwnProperty(j)) {\n          attrs.push(nodemap[j])\n        }\n      }\n      attrs.forEach(function(attr) { newScript.setAttribute(attr.name, attr.value) });\n      newScript.appendChild(document.createTextNode(oldScript.innerHTML));\n      oldScript.parentNode.replaceChild(newScript, oldScript);\n    });\n    if (JS_MIME_TYPE in output.data) {\n      toinsert[nchildren-1].children[1].textContent = output.data[JS_MIME_TYPE];\n    }\n    output_area._hv_plot_id = id;\n    if ((window.Bokeh !== undefined) && (id in Bokeh.index)) {\n      window.PyViz.plot_index[id] = Bokeh.index[id];\n    } else {\n      window.PyViz.plot_index[id] = null;\n    }\n  } else if (output.metadata[EXEC_MIME_TYPE][\"server_id\"] !== undefined) {\n    var bk_div = document.createElement(\"div\");\n    bk_div.innerHTML = output.data[HTML_MIME_TYPE];\n    var script_attrs = bk_div.children[0].attributes;\n    for (var i = 0; i < script_attrs.length; i++) {\n      toinsert[toinsert.length - 1].childNodes[1].setAttribute(script_attrs[i].name, script_attrs[i].value);\n    }\n    // store reference to server id on output_area\n    output_area._bokeh_server_id = output.metadata[EXEC_MIME_TYPE][\"server_id\"];\n  }\n}\n\n/**\n * Handle when an output is cleared or removed\n */\nfunction handle_clear_output(event, handle) {\n  var id = handle.cell.output_area._hv_plot_id;\n  var server_id = handle.cell.output_area._bokeh_server_id;\n  if (((id === undefined) || !(id in PyViz.plot_index)) && (server_id !== undefined)) { return; }\n  var comm = window.PyViz.comm_manager.get_client_comm(\"hv-extension-comm\", \"hv-extension-comm\", function () {});\n  if (server_id !== null) {\n    comm.send({event_type: 'server_delete', 'id': server_id});\n    return;\n  } else if (comm !== null) {\n    comm.send({event_type: 'delete', 'id': id});\n  }\n  delete PyViz.plot_index[id];\n  if ((window.Bokeh !== undefined) & (id in window.Bokeh.index)) {\n    var doc = window.Bokeh.index[id].model.document\n    doc.clear();\n    const i = window.Bokeh.documents.indexOf(doc);\n    if (i > -1) {\n      window.Bokeh.documents.splice(i, 1);\n    }\n  }\n}\n\n/**\n * Handle kernel restart event\n */\nfunction handle_kernel_cleanup(event, handle) {\n  delete PyViz.comms[\"hv-extension-comm\"];\n  window.PyViz.plot_index = {}\n}\n\n/**\n * Handle update_display_data messages\n */\nfunction handle_update_output(event, handle) {\n  handle_clear_output(event, {cell: {output_area: handle.output_area}})\n  handle_add_output(event, handle)\n}\n\nfunction register_renderer(events, OutputArea) {\n  function append_mime(data, metadata, element) {\n    // create a DOM node to render to\n    var toinsert = this.create_output_subarea(\n    metadata,\n    CLASS_NAME,\n    EXEC_MIME_TYPE\n    );\n    this.keyboard_manager.register_events(toinsert);\n    // Render to node\n    var props = {data: data, metadata: metadata[EXEC_MIME_TYPE]};\n    render(props, toinsert[0]);\n    element.append(toinsert);\n    return toinsert\n  }\n\n  events.on('output_added.OutputArea', handle_add_output);\n  events.on('output_updated.OutputArea', handle_update_output);\n  events.on('clear_output.CodeCell', handle_clear_output);\n  events.on('delete.Cell', handle_clear_output);\n  events.on('kernel_ready.Kernel', handle_kernel_cleanup);\n\n  OutputArea.prototype.register_mime_type(EXEC_MIME_TYPE, append_mime, {\n    safe: true,\n    index: 0\n  });\n}\n\nif (window.Jupyter !== undefined) {\n  try {\n    var events = require('base/js/events');\n    var OutputArea = require('notebook/js/outputarea').OutputArea;\n    if (OutputArea.prototype.mime_types().indexOf(EXEC_MIME_TYPE) == -1) {\n      register_renderer(events, OutputArea);\n    }\n  } catch(err) {\n  }\n}\n",
      "application/vnd.holoviews_load.v0+json": ""
     },
     "metadata": {},
     "output_type": "display_data"
    },
    {
     "data": {
      "text/html": [
       "<style>*[data-root-id],\n",
       "*[data-root-id] > * {\n",
       "  box-sizing: border-box;\n",
       "  font-family: var(--jp-ui-font-family);\n",
       "  font-size: var(--jp-ui-font-size1);\n",
       "  color: var(--vscode-editor-foreground, var(--jp-ui-font-color1));\n",
       "}\n",
       "\n",
       "/* Override VSCode background color */\n",
       ".cell-output-ipywidget-background:has(\n",
       "    > .cell-output-ipywidget-background > .lm-Widget > *[data-root-id]\n",
       "  ),\n",
       ".cell-output-ipywidget-background:has(> .lm-Widget > *[data-root-id]) {\n",
       "  background-color: transparent !important;\n",
       "}\n",
       "</style>"
      ]
     },
     "metadata": {},
     "output_type": "display_data"
    },
    {
     "data": {
      "application/javascript": "(function(root) {\n  function now() {\n    return new Date();\n  }\n\n  var force = true;\n  var py_version = '3.2.1'.replace('rc', '-rc.').replace('.dev', '-dev.');\n  var is_dev = py_version.indexOf(\"+\") !== -1 || py_version.indexOf(\"-\") !== -1;\n  var reloading = true;\n  var Bokeh = root.Bokeh;\n  var bokeh_loaded = Bokeh != null && (Bokeh.version === py_version || (Bokeh.versions !== undefined && Bokeh.versions.has(py_version)));\n\n  if (typeof (root._bokeh_timeout) === \"undefined\" || force) {\n    root._bokeh_timeout = Date.now() + 5000;\n    root._bokeh_failed_load = false;\n  }\n\n  function run_callbacks() {\n    try {\n      root._bokeh_onload_callbacks.forEach(function(callback) {\n        if (callback != null)\n          callback();\n      });\n    } finally {\n      delete root._bokeh_onload_callbacks;\n    }\n    console.debug(\"Bokeh: all callbacks have finished\");\n  }\n\n  function load_libs(css_urls, js_urls, js_modules, js_exports, callback) {\n    if (css_urls == null) css_urls = [];\n    if (js_urls == null) js_urls = [];\n    if (js_modules == null) js_modules = [];\n    if (js_exports == null) js_exports = {};\n\n    root._bokeh_onload_callbacks.push(callback);\n\n    if (root._bokeh_is_loading > 0) {\n      console.debug(\"Bokeh: BokehJS is being loaded, scheduling callback at\", now());\n      return null;\n    }\n    if (js_urls.length === 0 && js_modules.length === 0 && Object.keys(js_exports).length === 0) {\n      run_callbacks();\n      return null;\n    }\n    if (!reloading) {\n      console.debug(\"Bokeh: BokehJS not loaded, scheduling load and callback at\", now());\n    }\n\n    function on_load() {\n      root._bokeh_is_loading--;\n      if (root._bokeh_is_loading === 0) {\n        console.debug(\"Bokeh: all BokehJS libraries/stylesheets loaded\");\n        run_callbacks()\n      }\n    }\n    window._bokeh_on_load = on_load\n\n    function on_error() {\n      console.error(\"failed to load \" + url);\n    }\n\n    var skip = [];\n    if (window.requirejs) {\n      window.requirejs.config({'packages': {}, 'paths': {'jspanel': 'https://cdn.jsdelivr.net/npm/jspanel4@4.12.0/dist/jspanel', 'jspanel-modal': 'https://cdn.jsdelivr.net/npm/jspanel4@4.12.0/dist/extensions/modal/jspanel.modal', 'jspanel-tooltip': 'https://cdn.jsdelivr.net/npm/jspanel4@4.12.0/dist/extensions/tooltip/jspanel.tooltip', 'jspanel-hint': 'https://cdn.jsdelivr.net/npm/jspanel4@4.12.0/dist/extensions/hint/jspanel.hint', 'jspanel-layout': 'https://cdn.jsdelivr.net/npm/jspanel4@4.12.0/dist/extensions/layout/jspanel.layout', 'jspanel-contextmenu': 'https://cdn.jsdelivr.net/npm/jspanel4@4.12.0/dist/extensions/contextmenu/jspanel.contextmenu', 'jspanel-dock': 'https://cdn.jsdelivr.net/npm/jspanel4@4.12.0/dist/extensions/dock/jspanel.dock', 'gridstack': 'https://cdn.jsdelivr.net/npm/gridstack@7.2.3/dist/gridstack-all', 'notyf': 'https://cdn.jsdelivr.net/npm/notyf@3/notyf.min'}, 'shim': {'jspanel': {'exports': 'jsPanel'}, 'gridstack': {'exports': 'GridStack'}}});\n      require([\"jspanel\"], function(jsPanel) {\n\twindow.jsPanel = jsPanel\n\ton_load()\n      })\n      require([\"jspanel-modal\"], function() {\n\ton_load()\n      })\n      require([\"jspanel-tooltip\"], function() {\n\ton_load()\n      })\n      require([\"jspanel-hint\"], function() {\n\ton_load()\n      })\n      require([\"jspanel-layout\"], function() {\n\ton_load()\n      })\n      require([\"jspanel-contextmenu\"], function() {\n\ton_load()\n      })\n      require([\"jspanel-dock\"], function() {\n\ton_load()\n      })\n      require([\"gridstack\"], function(GridStack) {\n\twindow.GridStack = GridStack\n\ton_load()\n      })\n      require([\"notyf\"], function() {\n\ton_load()\n      })\n      root._bokeh_is_loading = css_urls.length + 9;\n    } else {\n      root._bokeh_is_loading = css_urls.length + js_urls.length + js_modules.length + Object.keys(js_exports).length;\n    }\n\n    var existing_stylesheets = []\n    var links = document.getElementsByTagName('link')\n    for (var i = 0; i < links.length; i++) {\n      var link = links[i]\n      if (link.href != null) {\n\texisting_stylesheets.push(link.href)\n      }\n    }\n    for (var i = 0; i < css_urls.length; i++) {\n      var url = css_urls[i];\n      if (existing_stylesheets.indexOf(url) !== -1) {\n\ton_load()\n\tcontinue;\n      }\n      const element = document.createElement(\"link\");\n      element.onload = on_load;\n      element.onerror = on_error;\n      element.rel = \"stylesheet\";\n      element.type = \"text/css\";\n      element.href = url;\n      console.debug(\"Bokeh: injecting link tag for BokehJS stylesheet: \", url);\n      document.body.appendChild(element);\n    }    if (((window['jsPanel'] !== undefined) && (!(window['jsPanel'] instanceof HTMLElement))) || window.requirejs) {\n      var urls = ['https://cdn.holoviz.org/panel/1.2.3/dist/bundled/floatpanel/jspanel4@4.12.0/dist/jspanel.js', 'https://cdn.holoviz.org/panel/1.2.3/dist/bundled/floatpanel/jspanel4@4.12.0/dist/extensions/modal/jspanel.modal.js', 'https://cdn.holoviz.org/panel/1.2.3/dist/bundled/floatpanel/jspanel4@4.12.0/dist/extensions/tooltip/jspanel.tooltip.js', 'https://cdn.holoviz.org/panel/1.2.3/dist/bundled/floatpanel/jspanel4@4.12.0/dist/extensions/hint/jspanel.hint.js', 'https://cdn.holoviz.org/panel/1.2.3/dist/bundled/floatpanel/jspanel4@4.12.0/dist/extensions/layout/jspanel.layout.js', 'https://cdn.holoviz.org/panel/1.2.3/dist/bundled/floatpanel/jspanel4@4.12.0/dist/extensions/contextmenu/jspanel.contextmenu.js', 'https://cdn.holoviz.org/panel/1.2.3/dist/bundled/floatpanel/jspanel4@4.12.0/dist/extensions/dock/jspanel.dock.js'];\n      for (var i = 0; i < urls.length; i++) {\n        skip.push(urls[i])\n      }\n    }    if (((window['GridStack'] !== undefined) && (!(window['GridStack'] instanceof HTMLElement))) || window.requirejs) {\n      var urls = ['https://cdn.holoviz.org/panel/1.2.3/dist/bundled/gridstack/gridstack@7.2.3/dist/gridstack-all.js'];\n      for (var i = 0; i < urls.length; i++) {\n        skip.push(urls[i])\n      }\n    }    if (((window['Notyf'] !== undefined) && (!(window['Notyf'] instanceof HTMLElement))) || window.requirejs) {\n      var urls = ['https://cdn.holoviz.org/panel/1.2.3/dist/bundled/notificationarea/notyf@3/notyf.min.js'];\n      for (var i = 0; i < urls.length; i++) {\n        skip.push(urls[i])\n      }\n    }    var existing_scripts = []\n    var scripts = document.getElementsByTagName('script')\n    for (var i = 0; i < scripts.length; i++) {\n      var script = scripts[i]\n      if (script.src != null) {\n\texisting_scripts.push(script.src)\n      }\n    }\n    for (var i = 0; i < js_urls.length; i++) {\n      var url = js_urls[i];\n      if (skip.indexOf(url) !== -1 || existing_scripts.indexOf(url) !== -1) {\n\tif (!window.requirejs) {\n\t  on_load();\n\t}\n\tcontinue;\n      }\n      var element = document.createElement('script');\n      element.onload = on_load;\n      element.onerror = on_error;\n      element.async = false;\n      element.src = url;\n      console.debug(\"Bokeh: injecting script tag for BokehJS library: \", url);\n      document.head.appendChild(element);\n    }\n    for (var i = 0; i < js_modules.length; i++) {\n      var url = js_modules[i];\n      if (skip.indexOf(url) !== -1 || existing_scripts.indexOf(url) !== -1) {\n\tif (!window.requirejs) {\n\t  on_load();\n\t}\n\tcontinue;\n      }\n      var element = document.createElement('script');\n      element.onload = on_load;\n      element.onerror = on_error;\n      element.async = false;\n      element.src = url;\n      element.type = \"module\";\n      console.debug(\"Bokeh: injecting script tag for BokehJS library: \", url);\n      document.head.appendChild(element);\n    }\n    for (const name in js_exports) {\n      var url = js_exports[name];\n      if (skip.indexOf(url) >= 0 || root[name] != null) {\n\tif (!window.requirejs) {\n\t  on_load();\n\t}\n\tcontinue;\n      }\n      var element = document.createElement('script');\n      element.onerror = on_error;\n      element.async = false;\n      element.type = \"module\";\n      console.debug(\"Bokeh: injecting script tag for BokehJS library: \", url);\n      element.textContent = `\n      import ${name} from \"${url}\"\n      window.${name} = ${name}\n      window._bokeh_on_load()\n      `\n      document.head.appendChild(element);\n    }\n    if (!js_urls.length && !js_modules.length) {\n      on_load()\n    }\n  };\n\n  function inject_raw_css(css) {\n    const element = document.createElement(\"style\");\n    element.appendChild(document.createTextNode(css));\n    document.body.appendChild(element);\n  }\n\n  var js_urls = [];\n  var js_modules = [];\n  var js_exports = {};\n  var css_urls = [];\n  var inline_js = [    function(Bokeh) {\n      Bokeh.set_log_level(\"info\");\n    },\nfunction(Bokeh) {} // ensure no trailing comma for IE\n  ];\n\n  function run_inline_js() {\n    if ((root.Bokeh !== undefined) || (force === true)) {\n      for (var i = 0; i < inline_js.length; i++) {\n        inline_js[i].call(root, root.Bokeh);\n      }\n      // Cache old bokeh versions\n      if (Bokeh != undefined && !reloading) {\n\tvar NewBokeh = root.Bokeh;\n\tif (Bokeh.versions === undefined) {\n\t  Bokeh.versions = new Map();\n\t}\n\tif (NewBokeh.version !== Bokeh.version) {\n\t  Bokeh.versions.set(NewBokeh.version, NewBokeh)\n\t}\n\troot.Bokeh = Bokeh;\n      }} else if (Date.now() < root._bokeh_timeout) {\n      setTimeout(run_inline_js, 100);\n    } else if (!root._bokeh_failed_load) {\n      console.log(\"Bokeh: BokehJS failed to load within specified timeout.\");\n      root._bokeh_failed_load = true;\n    }\n    root._bokeh_is_initializing = false\n  }\n\n  function load_or_wait() {\n    // Implement a backoff loop that tries to ensure we do not load multiple\n    // versions of Bokeh and its dependencies at the same time.\n    // In recent versions we use the root._bokeh_is_initializing flag\n    // to determine whether there is an ongoing attempt to initialize\n    // bokeh, however for backward compatibility we also try to ensure\n    // that we do not start loading a newer (Panel>=1.0 and Bokeh>3) version\n    // before older versions are fully initialized.\n    if (root._bokeh_is_initializing && Date.now() > root._bokeh_timeout) {\n      root._bokeh_is_initializing = false;\n      root._bokeh_onload_callbacks = undefined;\n      console.log(\"Bokeh: BokehJS was loaded multiple times but one version failed to initialize.\");\n      load_or_wait();\n    } else if (root._bokeh_is_initializing || (typeof root._bokeh_is_initializing === \"undefined\" && root._bokeh_onload_callbacks !== undefined)) {\n      setTimeout(load_or_wait, 100);\n    } else {\n      Bokeh = root.Bokeh;\n      bokeh_loaded = Bokeh != null && (Bokeh.version === py_version || (Bokeh.versions !== undefined && Bokeh.versions.has(py_version)));\n      root._bokeh_is_initializing = true\n      root._bokeh_onload_callbacks = []\n      if (!reloading && (!bokeh_loaded || is_dev)) {\n\troot.Bokeh = undefined;\n      }\n      load_libs(css_urls, js_urls, js_modules, js_exports, function() {\n\tconsole.debug(\"Bokeh: BokehJS plotting callback run at\", now());\n\trun_inline_js();\n      });\n    }\n  }\n  // Give older versions of the autoload script a head-start to ensure\n  // they initialize before we start loading newer version.\n  setTimeout(load_or_wait, 100)\n}(window));",
      "application/vnd.holoviews_load.v0+json": ""
     },
     "metadata": {},
     "output_type": "display_data"
    },
    {
     "data": {
      "application/javascript": "\nif ((window.PyViz === undefined) || (window.PyViz instanceof HTMLElement)) {\n  window.PyViz = {comms: {}, comm_status:{}, kernels:{}, receivers: {}, plot_index: []}\n}\n\n\n    function JupyterCommManager() {\n    }\n\n    JupyterCommManager.prototype.register_target = function(plot_id, comm_id, msg_handler) {\n      if (window.comm_manager || ((window.Jupyter !== undefined) && (Jupyter.notebook.kernel != null))) {\n        var comm_manager = window.comm_manager || Jupyter.notebook.kernel.comm_manager;\n        comm_manager.register_target(comm_id, function(comm) {\n          comm.on_msg(msg_handler);\n        });\n      } else if ((plot_id in window.PyViz.kernels) && (window.PyViz.kernels[plot_id])) {\n        window.PyViz.kernels[plot_id].registerCommTarget(comm_id, function(comm) {\n          comm.onMsg = msg_handler;\n        });\n      } else if (typeof google != 'undefined' && google.colab.kernel != null) {\n        google.colab.kernel.comms.registerTarget(comm_id, (comm) => {\n          var messages = comm.messages[Symbol.asyncIterator]();\n          function processIteratorResult(result) {\n            var message = result.value;\n            console.log(message)\n            var content = {data: message.data, comm_id};\n            var buffers = []\n            for (var buffer of message.buffers || []) {\n              buffers.push(new DataView(buffer))\n            }\n            var metadata = message.metadata || {};\n            var msg = {content, buffers, metadata}\n            msg_handler(msg);\n            return messages.next().then(processIteratorResult);\n          }\n          return messages.next().then(processIteratorResult);\n        })\n      }\n    }\n\n    JupyterCommManager.prototype.get_client_comm = function(plot_id, comm_id, msg_handler) {\n      if (comm_id in window.PyViz.comms) {\n        return window.PyViz.comms[comm_id];\n      } else if (window.comm_manager || ((window.Jupyter !== undefined) && (Jupyter.notebook.kernel != null))) {\n        var comm_manager = window.comm_manager || Jupyter.notebook.kernel.comm_manager;\n        var comm = comm_manager.new_comm(comm_id, {}, {}, {}, comm_id);\n        if (msg_handler) {\n          comm.on_msg(msg_handler);\n        }\n      } else if ((plot_id in window.PyViz.kernels) && (window.PyViz.kernels[plot_id])) {\n        var comm = window.PyViz.kernels[plot_id].connectToComm(comm_id);\n        comm.open();\n        if (msg_handler) {\n          comm.onMsg = msg_handler;\n        }\n      } else if (typeof google != 'undefined' && google.colab.kernel != null) {\n        var comm_promise = google.colab.kernel.comms.open(comm_id)\n        comm_promise.then((comm) => {\n          window.PyViz.comms[comm_id] = comm;\n          if (msg_handler) {\n            var messages = comm.messages[Symbol.asyncIterator]();\n            function processIteratorResult(result) {\n              var message = result.value;\n              var content = {data: message.data};\n              var metadata = message.metadata || {comm_id};\n              var msg = {content, metadata}\n              msg_handler(msg);\n              return messages.next().then(processIteratorResult);\n            }\n            return messages.next().then(processIteratorResult);\n          }\n        }) \n        var sendClosure = (data, metadata, buffers, disposeOnDone) => {\n          return comm_promise.then((comm) => {\n            comm.send(data, metadata, buffers, disposeOnDone);\n          });\n        };\n        var comm = {\n          send: sendClosure\n        };\n      }\n      window.PyViz.comms[comm_id] = comm;\n      return comm;\n    }\n    window.PyViz.comm_manager = new JupyterCommManager();\n    \n\n\nvar JS_MIME_TYPE = 'application/javascript';\nvar HTML_MIME_TYPE = 'text/html';\nvar EXEC_MIME_TYPE = 'application/vnd.holoviews_exec.v0+json';\nvar CLASS_NAME = 'output';\n\n/**\n * Render data to the DOM node\n */\nfunction render(props, node) {\n  var div = document.createElement(\"div\");\n  var script = document.createElement(\"script\");\n  node.appendChild(div);\n  node.appendChild(script);\n}\n\n/**\n * Handle when a new output is added\n */\nfunction handle_add_output(event, handle) {\n  var output_area = handle.output_area;\n  var output = handle.output;\n  if ((output.data == undefined) || (!output.data.hasOwnProperty(EXEC_MIME_TYPE))) {\n    return\n  }\n  var id = output.metadata[EXEC_MIME_TYPE][\"id\"];\n  var toinsert = output_area.element.find(\".\" + CLASS_NAME.split(' ')[0]);\n  if (id !== undefined) {\n    var nchildren = toinsert.length;\n    var html_node = toinsert[nchildren-1].children[0];\n    html_node.innerHTML = output.data[HTML_MIME_TYPE];\n    var scripts = [];\n    var nodelist = html_node.querySelectorAll(\"script\");\n    for (var i in nodelist) {\n      if (nodelist.hasOwnProperty(i)) {\n        scripts.push(nodelist[i])\n      }\n    }\n\n    scripts.forEach( function (oldScript) {\n      var newScript = document.createElement(\"script\");\n      var attrs = [];\n      var nodemap = oldScript.attributes;\n      for (var j in nodemap) {\n        if (nodemap.hasOwnProperty(j)) {\n          attrs.push(nodemap[j])\n        }\n      }\n      attrs.forEach(function(attr) { newScript.setAttribute(attr.name, attr.value) });\n      newScript.appendChild(document.createTextNode(oldScript.innerHTML));\n      oldScript.parentNode.replaceChild(newScript, oldScript);\n    });\n    if (JS_MIME_TYPE in output.data) {\n      toinsert[nchildren-1].children[1].textContent = output.data[JS_MIME_TYPE];\n    }\n    output_area._hv_plot_id = id;\n    if ((window.Bokeh !== undefined) && (id in Bokeh.index)) {\n      window.PyViz.plot_index[id] = Bokeh.index[id];\n    } else {\n      window.PyViz.plot_index[id] = null;\n    }\n  } else if (output.metadata[EXEC_MIME_TYPE][\"server_id\"] !== undefined) {\n    var bk_div = document.createElement(\"div\");\n    bk_div.innerHTML = output.data[HTML_MIME_TYPE];\n    var script_attrs = bk_div.children[0].attributes;\n    for (var i = 0; i < script_attrs.length; i++) {\n      toinsert[toinsert.length - 1].childNodes[1].setAttribute(script_attrs[i].name, script_attrs[i].value);\n    }\n    // store reference to server id on output_area\n    output_area._bokeh_server_id = output.metadata[EXEC_MIME_TYPE][\"server_id\"];\n  }\n}\n\n/**\n * Handle when an output is cleared or removed\n */\nfunction handle_clear_output(event, handle) {\n  var id = handle.cell.output_area._hv_plot_id;\n  var server_id = handle.cell.output_area._bokeh_server_id;\n  if (((id === undefined) || !(id in PyViz.plot_index)) && (server_id !== undefined)) { return; }\n  var comm = window.PyViz.comm_manager.get_client_comm(\"hv-extension-comm\", \"hv-extension-comm\", function () {});\n  if (server_id !== null) {\n    comm.send({event_type: 'server_delete', 'id': server_id});\n    return;\n  } else if (comm !== null) {\n    comm.send({event_type: 'delete', 'id': id});\n  }\n  delete PyViz.plot_index[id];\n  if ((window.Bokeh !== undefined) & (id in window.Bokeh.index)) {\n    var doc = window.Bokeh.index[id].model.document\n    doc.clear();\n    const i = window.Bokeh.documents.indexOf(doc);\n    if (i > -1) {\n      window.Bokeh.documents.splice(i, 1);\n    }\n  }\n}\n\n/**\n * Handle kernel restart event\n */\nfunction handle_kernel_cleanup(event, handle) {\n  delete PyViz.comms[\"hv-extension-comm\"];\n  window.PyViz.plot_index = {}\n}\n\n/**\n * Handle update_display_data messages\n */\nfunction handle_update_output(event, handle) {\n  handle_clear_output(event, {cell: {output_area: handle.output_area}})\n  handle_add_output(event, handle)\n}\n\nfunction register_renderer(events, OutputArea) {\n  function append_mime(data, metadata, element) {\n    // create a DOM node to render to\n    var toinsert = this.create_output_subarea(\n    metadata,\n    CLASS_NAME,\n    EXEC_MIME_TYPE\n    );\n    this.keyboard_manager.register_events(toinsert);\n    // Render to node\n    var props = {data: data, metadata: metadata[EXEC_MIME_TYPE]};\n    render(props, toinsert[0]);\n    element.append(toinsert);\n    return toinsert\n  }\n\n  events.on('output_added.OutputArea', handle_add_output);\n  events.on('output_updated.OutputArea', handle_update_output);\n  events.on('clear_output.CodeCell', handle_clear_output);\n  events.on('delete.Cell', handle_clear_output);\n  events.on('kernel_ready.Kernel', handle_kernel_cleanup);\n\n  OutputArea.prototype.register_mime_type(EXEC_MIME_TYPE, append_mime, {\n    safe: true,\n    index: 0\n  });\n}\n\nif (window.Jupyter !== undefined) {\n  try {\n    var events = require('base/js/events');\n    var OutputArea = require('notebook/js/outputarea').OutputArea;\n    if (OutputArea.prototype.mime_types().indexOf(EXEC_MIME_TYPE) == -1) {\n      register_renderer(events, OutputArea);\n    }\n  } catch(err) {\n  }\n}\n",
      "application/vnd.holoviews_load.v0+json": ""
     },
     "metadata": {},
     "output_type": "display_data"
    },
    {
     "data": {
      "text/html": [
       "<style>*[data-root-id],\n",
       "*[data-root-id] > * {\n",
       "  box-sizing: border-box;\n",
       "  font-family: var(--jp-ui-font-family);\n",
       "  font-size: var(--jp-ui-font-size1);\n",
       "  color: var(--vscode-editor-foreground, var(--jp-ui-font-color1));\n",
       "}\n",
       "\n",
       "/* Override VSCode background color */\n",
       ".cell-output-ipywidget-background:has(\n",
       "    > .cell-output-ipywidget-background > .lm-Widget > *[data-root-id]\n",
       "  ),\n",
       ".cell-output-ipywidget-background:has(> .lm-Widget > *[data-root-id]) {\n",
       "  background-color: transparent !important;\n",
       "}\n",
       "</style>"
      ]
     },
     "metadata": {},
     "output_type": "display_data"
    }
   ],
   "source": [
    "# Import libraries \n",
    "\n",
    "import numpy as np\n",
    "import os\n",
    "import pandas as pd\n",
    "\n",
    "from datetime import datetime, timedelta\n",
    "from dotenv import load_dotenv\n",
    " \n",
    "from alpaca.data.requests import StockBarsRequest\n",
    "from alpaca.data.historical.stock import StockHistoricalDataClient\n",
    "from  alpaca.data.timeframe import TimeFrame, TimeFrameUnit\n",
    "\n",
    "import matplotlib.pyplot as plt\n",
    "from mpl_toolkits.mplot3d import Axes3D\n",
    "\n",
    "import hvplot.pandas\n",
    "import holoviews as hv\n",
    "hv.extension(\"bokeh\")\n",
    "\n",
    "import plotly.express as px\n",
    "import plotly.graph_objects as go\n",
    "\n"
   ]
  },
  {
   "cell_type": "code",
   "execution_count": 2,
   "metadata": {},
   "outputs": [
    {
     "data": {
      "text/plain": [
       "True"
      ]
     },
     "execution_count": 2,
     "metadata": {},
     "output_type": "execute_result"
    }
   ],
   "source": [
    "# Load .env file\n",
    "\n",
    "load_dotenv()"
   ]
  },
  {
   "cell_type": "code",
   "execution_count": 3,
   "metadata": {},
   "outputs": [],
   "source": [
    "# Set Alpaca API key and secret\n",
    "\n",
    "ALPACA_API_KEY = os.getenv(\"ALPACA_API_KEY\")\n",
    "ALPACA_SECRET_KEY = os.getenv(\"ALPACA_API_SECRET\")\n",
    "client = StockHistoricalDataClient(ALPACA_API_KEY, ALPACA_SECRET_KEY)\n",
    "\n",
    "# Create the Alpaca API object\n",
    "\n",
    "timeframe = TimeFrame(5, TimeFrameUnit.Minute)\n",
    "symbol = 'TSLA'\n",
    "start = datetime.utcnow() - timedelta(days=5)\n",
    "end=datetime.utcnow() - timedelta(days=1)\n",
    "request = StockBarsRequest(symbol_or_symbols=symbol, start=start, end=end, timeframe=timeframe)"
   ]
  },
  {
   "cell_type": "code",
   "execution_count": 4,
   "metadata": {},
   "outputs": [],
   "source": [
    "source_df = client.get_stock_bars(request).df.tz_convert('America/New_York', level=1)"
   ]
  },
  {
   "cell_type": "code",
   "execution_count": 5,
   "metadata": {},
   "outputs": [
    {
     "data": {
      "text/html": [
       "<div>\n",
       "<style scoped>\n",
       "    .dataframe tbody tr th:only-of-type {\n",
       "        vertical-align: middle;\n",
       "    }\n",
       "\n",
       "    .dataframe tbody tr th {\n",
       "        vertical-align: top;\n",
       "    }\n",
       "\n",
       "    .dataframe thead th {\n",
       "        text-align: right;\n",
       "    }\n",
       "</style>\n",
       "<table border=\"1\" class=\"dataframe\">\n",
       "  <thead>\n",
       "    <tr style=\"text-align: right;\">\n",
       "      <th></th>\n",
       "      <th></th>\n",
       "      <th>open</th>\n",
       "      <th>high</th>\n",
       "      <th>low</th>\n",
       "      <th>close</th>\n",
       "      <th>volume</th>\n",
       "      <th>trade_count</th>\n",
       "      <th>vwap</th>\n",
       "    </tr>\n",
       "    <tr>\n",
       "      <th>symbol</th>\n",
       "      <th>timestamp</th>\n",
       "      <th></th>\n",
       "      <th></th>\n",
       "      <th></th>\n",
       "      <th></th>\n",
       "      <th></th>\n",
       "      <th></th>\n",
       "      <th></th>\n",
       "    </tr>\n",
       "  </thead>\n",
       "  <tbody>\n",
       "    <tr>\n",
       "      <th rowspan=\"5\" valign=\"top\">TSLA</th>\n",
       "      <th>2024-02-21 11:10:00-05:00</th>\n",
       "      <td>194.7300</td>\n",
       "      <td>195.3700</td>\n",
       "      <td>194.61</td>\n",
       "      <td>194.8611</td>\n",
       "      <td>1193641.0</td>\n",
       "      <td>19039.0</td>\n",
       "      <td>195.025000</td>\n",
       "    </tr>\n",
       "    <tr>\n",
       "      <th>2024-02-21 11:15:00-05:00</th>\n",
       "      <td>194.8700</td>\n",
       "      <td>195.3699</td>\n",
       "      <td>194.64</td>\n",
       "      <td>195.3050</td>\n",
       "      <td>1168009.0</td>\n",
       "      <td>18576.0</td>\n",
       "      <td>194.930842</td>\n",
       "    </tr>\n",
       "    <tr>\n",
       "      <th>2024-02-21 11:20:00-05:00</th>\n",
       "      <td>195.3050</td>\n",
       "      <td>195.4400</td>\n",
       "      <td>194.28</td>\n",
       "      <td>194.7400</td>\n",
       "      <td>1458341.0</td>\n",
       "      <td>11730.0</td>\n",
       "      <td>194.802368</td>\n",
       "    </tr>\n",
       "    <tr>\n",
       "      <th>2024-02-21 11:25:00-05:00</th>\n",
       "      <td>194.7570</td>\n",
       "      <td>195.1350</td>\n",
       "      <td>193.95</td>\n",
       "      <td>194.0600</td>\n",
       "      <td>1618820.0</td>\n",
       "      <td>13181.0</td>\n",
       "      <td>194.435504</td>\n",
       "    </tr>\n",
       "    <tr>\n",
       "      <th>2024-02-21 11:30:00-05:00</th>\n",
       "      <td>194.0799</td>\n",
       "      <td>194.1900</td>\n",
       "      <td>193.71</td>\n",
       "      <td>194.1200</td>\n",
       "      <td>1300289.0</td>\n",
       "      <td>10227.0</td>\n",
       "      <td>193.959131</td>\n",
       "    </tr>\n",
       "  </tbody>\n",
       "</table>\n",
       "</div>"
      ],
      "text/plain": [
       "                                      open      high     low     close  \\\n",
       "symbol timestamp                                                         \n",
       "TSLA   2024-02-21 11:10:00-05:00  194.7300  195.3700  194.61  194.8611   \n",
       "       2024-02-21 11:15:00-05:00  194.8700  195.3699  194.64  195.3050   \n",
       "       2024-02-21 11:20:00-05:00  195.3050  195.4400  194.28  194.7400   \n",
       "       2024-02-21 11:25:00-05:00  194.7570  195.1350  193.95  194.0600   \n",
       "       2024-02-21 11:30:00-05:00  194.0799  194.1900  193.71  194.1200   \n",
       "\n",
       "                                     volume  trade_count        vwap  \n",
       "symbol timestamp                                                      \n",
       "TSLA   2024-02-21 11:10:00-05:00  1193641.0      19039.0  195.025000  \n",
       "       2024-02-21 11:15:00-05:00  1168009.0      18576.0  194.930842  \n",
       "       2024-02-21 11:20:00-05:00  1458341.0      11730.0  194.802368  \n",
       "       2024-02-21 11:25:00-05:00  1618820.0      13181.0  194.435504  \n",
       "       2024-02-21 11:30:00-05:00  1300289.0      10227.0  193.959131  "
      ]
     },
     "metadata": {},
     "output_type": "display_data"
    }
   ],
   "source": [
    "display(source_df.tail())"
   ]
  },
  {
   "cell_type": "code",
   "execution_count": 6,
   "metadata": {},
   "outputs": [],
   "source": [
    "bars_df = source_df.copy()\n",
    "# pct_change is profit from last close\n",
    "bars_df[\"pct_change\"] = bars_df[\"close\"].pct_change()\n",
    "# signal for when we want to be in or out of a stock\n",
    "bars_df[\"signal\"] = np.where(bars_df[\"pct_change\"] > 0, 1.0, 0.0)\n",
    "# reaction is the signal diff\n",
    "bars_df[\"reaction\"] = bars_df[\"signal\"].diff()\n",
    "# action is if we could perfectly predict the next close\n",
    "bars_df[\"action\"] = bars_df[\"reaction\"].shift(-1)\n",
    "# these values are the high, low, and open as a percentage of the current close\n",
    "bars_df[\"high %\"] = (bars_df[\"high\"] - bars_df[\"close\"])/bars_df[\"close\"]\n",
    "bars_df[\"low %\"] = (bars_df[\"low\"] - bars_df[\"close\"])/bars_df[\"close\"]\n",
    "bars_df[\"open %\"] = (bars_df[\"open\"] - bars_df[\"close\"])/bars_df[\"close\"]"
   ]
  },
  {
   "cell_type": "code",
   "execution_count": 7,
   "metadata": {},
   "outputs": [],
   "source": [
    "# So we want to add the high, low, and open for the 15 minute and 60 minute window\n",
    "minutes = 5\n",
    "windows = [3, 12]"
   ]
  },
  {
   "cell_type": "code",
   "execution_count": 8,
   "metadata": {},
   "outputs": [],
   "source": [
    "for window in windows:\n",
    "    wm = window*minutes\n",
    "    # compute the rolling high, low, open for a given window.  the close is the same at this time for all windows\n",
    "    bars_df[f\"high - {wm}\"] = bars_df[\"high\"].rolling(window=window).max()\n",
    "    bars_df[f\"low - {wm}\"] = bars_df[\"low\"].rolling(window=window).min()\n",
    "    bars_df[f\"open - {wm}\"] = bars_df[\"open\"].shift(periods=window-1)\n",
    "    bars_df[f\"close - {wm}\"] = bars_df[\"close\"].shift(periods=window-1)\n",
    "    # these values are the high, low, and open as a percentage of the current close\n",
    "    bars_df[f\"high % - {wm}\"] = (bars_df[f\"high - {wm}\"] - bars_df[\"close\"])/bars_df[\"close\"]\n",
    "    bars_df[f\"low % - {wm}\"] = (bars_df[f\"low - {wm}\"] - bars_df[\"close\"])/bars_df[\"close\"]\n",
    "    bars_df[f\"open % - {wm}\"] = (bars_df[f\"open - {wm}\"] - bars_df[\"close\"])/bars_df[\"close\"]\n",
    "    bars_df[f\"close % - {wm}\"] = (bars_df[f\"close - {wm}\"] - bars_df[\"close\"])/bars_df[\"close\"]"
   ]
  },
  {
   "cell_type": "code",
   "execution_count": 9,
   "metadata": {},
   "outputs": [
    {
     "data": {
      "text/html": [
       "<div>\n",
       "<style scoped>\n",
       "    .dataframe tbody tr th:only-of-type {\n",
       "        vertical-align: middle;\n",
       "    }\n",
       "\n",
       "    .dataframe tbody tr th {\n",
       "        vertical-align: top;\n",
       "    }\n",
       "\n",
       "    .dataframe thead th {\n",
       "        text-align: right;\n",
       "    }\n",
       "</style>\n",
       "<table border=\"1\" class=\"dataframe\">\n",
       "  <thead>\n",
       "    <tr style=\"text-align: right;\">\n",
       "      <th></th>\n",
       "      <th></th>\n",
       "      <th>open</th>\n",
       "      <th>high</th>\n",
       "      <th>low</th>\n",
       "      <th>close</th>\n",
       "      <th>volume</th>\n",
       "      <th>trade_count</th>\n",
       "      <th>vwap</th>\n",
       "      <th>pct_change</th>\n",
       "      <th>signal</th>\n",
       "      <th>reaction</th>\n",
       "      <th>...</th>\n",
       "      <th>open % - 15</th>\n",
       "      <th>close % - 15</th>\n",
       "      <th>high - 60</th>\n",
       "      <th>low - 60</th>\n",
       "      <th>open - 60</th>\n",
       "      <th>close - 60</th>\n",
       "      <th>high % - 60</th>\n",
       "      <th>low % - 60</th>\n",
       "      <th>open % - 60</th>\n",
       "      <th>close % - 60</th>\n",
       "    </tr>\n",
       "    <tr>\n",
       "      <th>symbol</th>\n",
       "      <th>timestamp</th>\n",
       "      <th></th>\n",
       "      <th></th>\n",
       "      <th></th>\n",
       "      <th></th>\n",
       "      <th></th>\n",
       "      <th></th>\n",
       "      <th></th>\n",
       "      <th></th>\n",
       "      <th></th>\n",
       "      <th></th>\n",
       "      <th></th>\n",
       "      <th></th>\n",
       "      <th></th>\n",
       "      <th></th>\n",
       "      <th></th>\n",
       "      <th></th>\n",
       "      <th></th>\n",
       "      <th></th>\n",
       "      <th></th>\n",
       "      <th></th>\n",
       "      <th></th>\n",
       "    </tr>\n",
       "  </thead>\n",
       "  <tbody>\n",
       "    <tr>\n",
       "      <th rowspan=\"11\" valign=\"top\">TSLA</th>\n",
       "      <th>2024-02-20 04:00:00-05:00</th>\n",
       "      <td>196.9800</td>\n",
       "      <td>198.2300</td>\n",
       "      <td>196.37</td>\n",
       "      <td>197.3000</td>\n",
       "      <td>45358.0</td>\n",
       "      <td>1353.0</td>\n",
       "      <td>197.439241</td>\n",
       "      <td>NaN</td>\n",
       "      <td>0.0</td>\n",
       "      <td>NaN</td>\n",
       "      <td>...</td>\n",
       "      <td>NaN</td>\n",
       "      <td>NaN</td>\n",
       "      <td>NaN</td>\n",
       "      <td>NaN</td>\n",
       "      <td>NaN</td>\n",
       "      <td>NaN</td>\n",
       "      <td>NaN</td>\n",
       "      <td>NaN</td>\n",
       "      <td>NaN</td>\n",
       "      <td>NaN</td>\n",
       "    </tr>\n",
       "    <tr>\n",
       "      <th>2024-02-20 04:05:00-05:00</th>\n",
       "      <td>197.1900</td>\n",
       "      <td>197.3600</td>\n",
       "      <td>196.82</td>\n",
       "      <td>196.8200</td>\n",
       "      <td>17128.0</td>\n",
       "      <td>523.0</td>\n",
       "      <td>197.046080</td>\n",
       "      <td>-0.002433</td>\n",
       "      <td>0.0</td>\n",
       "      <td>0.0</td>\n",
       "      <td>...</td>\n",
       "      <td>NaN</td>\n",
       "      <td>NaN</td>\n",
       "      <td>NaN</td>\n",
       "      <td>NaN</td>\n",
       "      <td>NaN</td>\n",
       "      <td>NaN</td>\n",
       "      <td>NaN</td>\n",
       "      <td>NaN</td>\n",
       "      <td>NaN</td>\n",
       "      <td>NaN</td>\n",
       "    </tr>\n",
       "    <tr>\n",
       "      <th>2024-02-20 04:10:00-05:00</th>\n",
       "      <td>196.8200</td>\n",
       "      <td>197.1100</td>\n",
       "      <td>196.72</td>\n",
       "      <td>197.1100</td>\n",
       "      <td>23857.0</td>\n",
       "      <td>548.0</td>\n",
       "      <td>196.912064</td>\n",
       "      <td>0.001473</td>\n",
       "      <td>1.0</td>\n",
       "      <td>1.0</td>\n",
       "      <td>...</td>\n",
       "      <td>-0.000660</td>\n",
       "      <td>0.000964</td>\n",
       "      <td>NaN</td>\n",
       "      <td>NaN</td>\n",
       "      <td>NaN</td>\n",
       "      <td>NaN</td>\n",
       "      <td>NaN</td>\n",
       "      <td>NaN</td>\n",
       "      <td>NaN</td>\n",
       "      <td>NaN</td>\n",
       "    </tr>\n",
       "    <tr>\n",
       "      <th>2024-02-20 04:15:00-05:00</th>\n",
       "      <td>197.1500</td>\n",
       "      <td>197.5000</td>\n",
       "      <td>197.06</td>\n",
       "      <td>197.2400</td>\n",
       "      <td>17774.0</td>\n",
       "      <td>460.0</td>\n",
       "      <td>197.375357</td>\n",
       "      <td>0.000660</td>\n",
       "      <td>1.0</td>\n",
       "      <td>0.0</td>\n",
       "      <td>...</td>\n",
       "      <td>-0.000253</td>\n",
       "      <td>-0.002129</td>\n",
       "      <td>NaN</td>\n",
       "      <td>NaN</td>\n",
       "      <td>NaN</td>\n",
       "      <td>NaN</td>\n",
       "      <td>NaN</td>\n",
       "      <td>NaN</td>\n",
       "      <td>NaN</td>\n",
       "      <td>NaN</td>\n",
       "    </tr>\n",
       "    <tr>\n",
       "      <th>2024-02-20 04:20:00-05:00</th>\n",
       "      <td>197.1800</td>\n",
       "      <td>197.2900</td>\n",
       "      <td>197.00</td>\n",
       "      <td>197.0000</td>\n",
       "      <td>7822.0</td>\n",
       "      <td>367.0</td>\n",
       "      <td>197.117828</td>\n",
       "      <td>-0.001217</td>\n",
       "      <td>0.0</td>\n",
       "      <td>-1.0</td>\n",
       "      <td>...</td>\n",
       "      <td>-0.000914</td>\n",
       "      <td>0.000558</td>\n",
       "      <td>NaN</td>\n",
       "      <td>NaN</td>\n",
       "      <td>NaN</td>\n",
       "      <td>NaN</td>\n",
       "      <td>NaN</td>\n",
       "      <td>NaN</td>\n",
       "      <td>NaN</td>\n",
       "      <td>NaN</td>\n",
       "    </tr>\n",
       "    <tr>\n",
       "      <th>...</th>\n",
       "      <td>...</td>\n",
       "      <td>...</td>\n",
       "      <td>...</td>\n",
       "      <td>...</td>\n",
       "      <td>...</td>\n",
       "      <td>...</td>\n",
       "      <td>...</td>\n",
       "      <td>...</td>\n",
       "      <td>...</td>\n",
       "      <td>...</td>\n",
       "      <td>...</td>\n",
       "      <td>...</td>\n",
       "      <td>...</td>\n",
       "      <td>...</td>\n",
       "      <td>...</td>\n",
       "      <td>...</td>\n",
       "      <td>...</td>\n",
       "      <td>...</td>\n",
       "      <td>...</td>\n",
       "      <td>...</td>\n",
       "      <td>...</td>\n",
       "    </tr>\n",
       "    <tr>\n",
       "      <th>2024-02-20 11:55:00-05:00</th>\n",
       "      <td>191.8450</td>\n",
       "      <td>192.1185</td>\n",
       "      <td>191.33</td>\n",
       "      <td>191.3501</td>\n",
       "      <td>921445.0</td>\n",
       "      <td>9791.0</td>\n",
       "      <td>191.769544</td>\n",
       "      <td>-0.002581</td>\n",
       "      <td>0.0</td>\n",
       "      <td>0.0</td>\n",
       "      <td>...</td>\n",
       "      <td>0.005173</td>\n",
       "      <td>0.005121</td>\n",
       "      <td>193.7486</td>\n",
       "      <td>191.33</td>\n",
       "      <td>193.1800</td>\n",
       "      <td>193.1200</td>\n",
       "      <td>0.012535</td>\n",
       "      <td>-0.000105</td>\n",
       "      <td>0.009563</td>\n",
       "      <td>0.009250</td>\n",
       "    </tr>\n",
       "    <tr>\n",
       "      <th>2024-02-20 12:00:00-05:00</th>\n",
       "      <td>191.3600</td>\n",
       "      <td>191.3800</td>\n",
       "      <td>190.30</td>\n",
       "      <td>190.3214</td>\n",
       "      <td>1596715.0</td>\n",
       "      <td>18533.0</td>\n",
       "      <td>190.788006</td>\n",
       "      <td>-0.005376</td>\n",
       "      <td>0.0</td>\n",
       "      <td>0.0</td>\n",
       "      <td>...</td>\n",
       "      <td>0.010501</td>\n",
       "      <td>0.008007</td>\n",
       "      <td>193.7486</td>\n",
       "      <td>190.30</td>\n",
       "      <td>193.1101</td>\n",
       "      <td>193.0001</td>\n",
       "      <td>0.018007</td>\n",
       "      <td>-0.000112</td>\n",
       "      <td>0.014653</td>\n",
       "      <td>0.014075</td>\n",
       "    </tr>\n",
       "    <tr>\n",
       "      <th>2024-02-20 12:05:00-05:00</th>\n",
       "      <td>190.3172</td>\n",
       "      <td>190.6300</td>\n",
       "      <td>190.05</td>\n",
       "      <td>190.1000</td>\n",
       "      <td>1335448.0</td>\n",
       "      <td>11658.0</td>\n",
       "      <td>190.290828</td>\n",
       "      <td>-0.001163</td>\n",
       "      <td>0.0</td>\n",
       "      <td>0.0</td>\n",
       "      <td>...</td>\n",
       "      <td>0.009179</td>\n",
       "      <td>0.006576</td>\n",
       "      <td>193.7486</td>\n",
       "      <td>190.05</td>\n",
       "      <td>193.0200</td>\n",
       "      <td>193.1400</td>\n",
       "      <td>0.019193</td>\n",
       "      <td>-0.000263</td>\n",
       "      <td>0.015360</td>\n",
       "      <td>0.015992</td>\n",
       "    </tr>\n",
       "    <tr>\n",
       "      <th>2024-02-20 12:10:00-05:00</th>\n",
       "      <td>190.0900</td>\n",
       "      <td>190.3900</td>\n",
       "      <td>189.72</td>\n",
       "      <td>189.8808</td>\n",
       "      <td>1596768.0</td>\n",
       "      <td>20904.0</td>\n",
       "      <td>190.013529</td>\n",
       "      <td>-0.001153</td>\n",
       "      <td>0.0</td>\n",
       "      <td>0.0</td>\n",
       "      <td>...</td>\n",
       "      <td>0.007790</td>\n",
       "      <td>0.002320</td>\n",
       "      <td>193.7486</td>\n",
       "      <td>189.72</td>\n",
       "      <td>193.1100</td>\n",
       "      <td>193.1200</td>\n",
       "      <td>0.020370</td>\n",
       "      <td>-0.000847</td>\n",
       "      <td>0.017006</td>\n",
       "      <td>0.017059</td>\n",
       "    </tr>\n",
       "    <tr>\n",
       "      <th>2024-02-20 12:15:00-05:00</th>\n",
       "      <td>189.8700</td>\n",
       "      <td>189.9999</td>\n",
       "      <td>189.38</td>\n",
       "      <td>189.4157</td>\n",
       "      <td>1383978.0</td>\n",
       "      <td>13199.0</td>\n",
       "      <td>189.682267</td>\n",
       "      <td>-0.002449</td>\n",
       "      <td>0.0</td>\n",
       "      <td>0.0</td>\n",
       "      <td>...</td>\n",
       "      <td>0.004759</td>\n",
       "      <td>0.003613</td>\n",
       "      <td>193.2400</td>\n",
       "      <td>189.38</td>\n",
       "      <td>193.1201</td>\n",
       "      <td>193.0000</td>\n",
       "      <td>0.020190</td>\n",
       "      <td>-0.000188</td>\n",
       "      <td>0.019557</td>\n",
       "      <td>0.018923</td>\n",
       "    </tr>\n",
       "  </tbody>\n",
       "</table>\n",
       "<p>100 rows × 30 columns</p>\n",
       "</div>"
      ],
      "text/plain": [
       "                                      open      high     low     close  \\\n",
       "symbol timestamp                                                         \n",
       "TSLA   2024-02-20 04:00:00-05:00  196.9800  198.2300  196.37  197.3000   \n",
       "       2024-02-20 04:05:00-05:00  197.1900  197.3600  196.82  196.8200   \n",
       "       2024-02-20 04:10:00-05:00  196.8200  197.1100  196.72  197.1100   \n",
       "       2024-02-20 04:15:00-05:00  197.1500  197.5000  197.06  197.2400   \n",
       "       2024-02-20 04:20:00-05:00  197.1800  197.2900  197.00  197.0000   \n",
       "...                                    ...       ...     ...       ...   \n",
       "       2024-02-20 11:55:00-05:00  191.8450  192.1185  191.33  191.3501   \n",
       "       2024-02-20 12:00:00-05:00  191.3600  191.3800  190.30  190.3214   \n",
       "       2024-02-20 12:05:00-05:00  190.3172  190.6300  190.05  190.1000   \n",
       "       2024-02-20 12:10:00-05:00  190.0900  190.3900  189.72  189.8808   \n",
       "       2024-02-20 12:15:00-05:00  189.8700  189.9999  189.38  189.4157   \n",
       "\n",
       "                                     volume  trade_count        vwap  \\\n",
       "symbol timestamp                                                       \n",
       "TSLA   2024-02-20 04:00:00-05:00    45358.0       1353.0  197.439241   \n",
       "       2024-02-20 04:05:00-05:00    17128.0        523.0  197.046080   \n",
       "       2024-02-20 04:10:00-05:00    23857.0        548.0  196.912064   \n",
       "       2024-02-20 04:15:00-05:00    17774.0        460.0  197.375357   \n",
       "       2024-02-20 04:20:00-05:00     7822.0        367.0  197.117828   \n",
       "...                                     ...          ...         ...   \n",
       "       2024-02-20 11:55:00-05:00   921445.0       9791.0  191.769544   \n",
       "       2024-02-20 12:00:00-05:00  1596715.0      18533.0  190.788006   \n",
       "       2024-02-20 12:05:00-05:00  1335448.0      11658.0  190.290828   \n",
       "       2024-02-20 12:10:00-05:00  1596768.0      20904.0  190.013529   \n",
       "       2024-02-20 12:15:00-05:00  1383978.0      13199.0  189.682267   \n",
       "\n",
       "                                  pct_change  signal  reaction  ...  \\\n",
       "symbol timestamp                                                ...   \n",
       "TSLA   2024-02-20 04:00:00-05:00         NaN     0.0       NaN  ...   \n",
       "       2024-02-20 04:05:00-05:00   -0.002433     0.0       0.0  ...   \n",
       "       2024-02-20 04:10:00-05:00    0.001473     1.0       1.0  ...   \n",
       "       2024-02-20 04:15:00-05:00    0.000660     1.0       0.0  ...   \n",
       "       2024-02-20 04:20:00-05:00   -0.001217     0.0      -1.0  ...   \n",
       "...                                      ...     ...       ...  ...   \n",
       "       2024-02-20 11:55:00-05:00   -0.002581     0.0       0.0  ...   \n",
       "       2024-02-20 12:00:00-05:00   -0.005376     0.0       0.0  ...   \n",
       "       2024-02-20 12:05:00-05:00   -0.001163     0.0       0.0  ...   \n",
       "       2024-02-20 12:10:00-05:00   -0.001153     0.0       0.0  ...   \n",
       "       2024-02-20 12:15:00-05:00   -0.002449     0.0       0.0  ...   \n",
       "\n",
       "                                  open % - 15  close % - 15  high - 60  \\\n",
       "symbol timestamp                                                         \n",
       "TSLA   2024-02-20 04:00:00-05:00          NaN           NaN        NaN   \n",
       "       2024-02-20 04:05:00-05:00          NaN           NaN        NaN   \n",
       "       2024-02-20 04:10:00-05:00    -0.000660      0.000964        NaN   \n",
       "       2024-02-20 04:15:00-05:00    -0.000253     -0.002129        NaN   \n",
       "       2024-02-20 04:20:00-05:00    -0.000914      0.000558        NaN   \n",
       "...                                       ...           ...        ...   \n",
       "       2024-02-20 11:55:00-05:00     0.005173      0.005121   193.7486   \n",
       "       2024-02-20 12:00:00-05:00     0.010501      0.008007   193.7486   \n",
       "       2024-02-20 12:05:00-05:00     0.009179      0.006576   193.7486   \n",
       "       2024-02-20 12:10:00-05:00     0.007790      0.002320   193.7486   \n",
       "       2024-02-20 12:15:00-05:00     0.004759      0.003613   193.2400   \n",
       "\n",
       "                                  low - 60  open - 60  close - 60  \\\n",
       "symbol timestamp                                                    \n",
       "TSLA   2024-02-20 04:00:00-05:00       NaN        NaN         NaN   \n",
       "       2024-02-20 04:05:00-05:00       NaN        NaN         NaN   \n",
       "       2024-02-20 04:10:00-05:00       NaN        NaN         NaN   \n",
       "       2024-02-20 04:15:00-05:00       NaN        NaN         NaN   \n",
       "       2024-02-20 04:20:00-05:00       NaN        NaN         NaN   \n",
       "...                                    ...        ...         ...   \n",
       "       2024-02-20 11:55:00-05:00    191.33   193.1800    193.1200   \n",
       "       2024-02-20 12:00:00-05:00    190.30   193.1101    193.0001   \n",
       "       2024-02-20 12:05:00-05:00    190.05   193.0200    193.1400   \n",
       "       2024-02-20 12:10:00-05:00    189.72   193.1100    193.1200   \n",
       "       2024-02-20 12:15:00-05:00    189.38   193.1201    193.0000   \n",
       "\n",
       "                                  high % - 60  low % - 60  open % - 60  \\\n",
       "symbol timestamp                                                         \n",
       "TSLA   2024-02-20 04:00:00-05:00          NaN         NaN          NaN   \n",
       "       2024-02-20 04:05:00-05:00          NaN         NaN          NaN   \n",
       "       2024-02-20 04:10:00-05:00          NaN         NaN          NaN   \n",
       "       2024-02-20 04:15:00-05:00          NaN         NaN          NaN   \n",
       "       2024-02-20 04:20:00-05:00          NaN         NaN          NaN   \n",
       "...                                       ...         ...          ...   \n",
       "       2024-02-20 11:55:00-05:00     0.012535   -0.000105     0.009563   \n",
       "       2024-02-20 12:00:00-05:00     0.018007   -0.000112     0.014653   \n",
       "       2024-02-20 12:05:00-05:00     0.019193   -0.000263     0.015360   \n",
       "       2024-02-20 12:10:00-05:00     0.020370   -0.000847     0.017006   \n",
       "       2024-02-20 12:15:00-05:00     0.020190   -0.000188     0.019557   \n",
       "\n",
       "                                  close % - 60  \n",
       "symbol timestamp                                \n",
       "TSLA   2024-02-20 04:00:00-05:00           NaN  \n",
       "       2024-02-20 04:05:00-05:00           NaN  \n",
       "       2024-02-20 04:10:00-05:00           NaN  \n",
       "       2024-02-20 04:15:00-05:00           NaN  \n",
       "       2024-02-20 04:20:00-05:00           NaN  \n",
       "...                                        ...  \n",
       "       2024-02-20 11:55:00-05:00      0.009250  \n",
       "       2024-02-20 12:00:00-05:00      0.014075  \n",
       "       2024-02-20 12:05:00-05:00      0.015992  \n",
       "       2024-02-20 12:10:00-05:00      0.017059  \n",
       "       2024-02-20 12:15:00-05:00      0.018923  \n",
       "\n",
       "[100 rows x 30 columns]"
      ]
     },
     "metadata": {},
     "output_type": "display_data"
    },
    {
     "data": {
      "text/html": [
       "<div>\n",
       "<style scoped>\n",
       "    .dataframe tbody tr th:only-of-type {\n",
       "        vertical-align: middle;\n",
       "    }\n",
       "\n",
       "    .dataframe tbody tr th {\n",
       "        vertical-align: top;\n",
       "    }\n",
       "\n",
       "    .dataframe thead th {\n",
       "        text-align: right;\n",
       "    }\n",
       "</style>\n",
       "<table border=\"1\" class=\"dataframe\">\n",
       "  <thead>\n",
       "    <tr style=\"text-align: right;\">\n",
       "      <th></th>\n",
       "      <th></th>\n",
       "      <th>open</th>\n",
       "      <th>high</th>\n",
       "      <th>low</th>\n",
       "      <th>close</th>\n",
       "      <th>volume</th>\n",
       "      <th>trade_count</th>\n",
       "      <th>vwap</th>\n",
       "      <th>pct_change</th>\n",
       "      <th>signal</th>\n",
       "      <th>reaction</th>\n",
       "      <th>...</th>\n",
       "      <th>open % - 15</th>\n",
       "      <th>close % - 15</th>\n",
       "      <th>high - 60</th>\n",
       "      <th>low - 60</th>\n",
       "      <th>open - 60</th>\n",
       "      <th>close - 60</th>\n",
       "      <th>high % - 60</th>\n",
       "      <th>low % - 60</th>\n",
       "      <th>open % - 60</th>\n",
       "      <th>close % - 60</th>\n",
       "    </tr>\n",
       "    <tr>\n",
       "      <th>symbol</th>\n",
       "      <th>timestamp</th>\n",
       "      <th></th>\n",
       "      <th></th>\n",
       "      <th></th>\n",
       "      <th></th>\n",
       "      <th></th>\n",
       "      <th></th>\n",
       "      <th></th>\n",
       "      <th></th>\n",
       "      <th></th>\n",
       "      <th></th>\n",
       "      <th></th>\n",
       "      <th></th>\n",
       "      <th></th>\n",
       "      <th></th>\n",
       "      <th></th>\n",
       "      <th></th>\n",
       "      <th></th>\n",
       "      <th></th>\n",
       "      <th></th>\n",
       "      <th></th>\n",
       "      <th></th>\n",
       "    </tr>\n",
       "  </thead>\n",
       "  <tbody>\n",
       "    <tr>\n",
       "      <th rowspan=\"11\" valign=\"top\">TSLA</th>\n",
       "      <th>2024-02-20 19:00:00-05:00</th>\n",
       "      <td>192.9400</td>\n",
       "      <td>192.9400</td>\n",
       "      <td>192.90</td>\n",
       "      <td>192.9100</td>\n",
       "      <td>1849.0</td>\n",
       "      <td>91.0</td>\n",
       "      <td>192.918046</td>\n",
       "      <td>0.000000</td>\n",
       "      <td>0.0</td>\n",
       "      <td>0.0</td>\n",
       "      <td>...</td>\n",
       "      <td>-0.000052</td>\n",
       "      <td>0.000933</td>\n",
       "      <td>193.5600</td>\n",
       "      <td>192.76</td>\n",
       "      <td>193.2300</td>\n",
       "      <td>193.2700</td>\n",
       "      <td>0.003369</td>\n",
       "      <td>-0.000778</td>\n",
       "      <td>0.001659</td>\n",
       "      <td>0.001866</td>\n",
       "    </tr>\n",
       "    <tr>\n",
       "      <th>2024-02-20 19:05:00-05:00</th>\n",
       "      <td>192.9000</td>\n",
       "      <td>192.9300</td>\n",
       "      <td>192.83</td>\n",
       "      <td>192.9000</td>\n",
       "      <td>4868.0</td>\n",
       "      <td>136.0</td>\n",
       "      <td>192.884879</td>\n",
       "      <td>-0.000052</td>\n",
       "      <td>0.0</td>\n",
       "      <td>0.0</td>\n",
       "      <td>...</td>\n",
       "      <td>0.000570</td>\n",
       "      <td>0.000052</td>\n",
       "      <td>193.5600</td>\n",
       "      <td>192.76</td>\n",
       "      <td>193.2600</td>\n",
       "      <td>193.5000</td>\n",
       "      <td>0.003421</td>\n",
       "      <td>-0.000726</td>\n",
       "      <td>0.001866</td>\n",
       "      <td>0.003110</td>\n",
       "    </tr>\n",
       "    <tr>\n",
       "      <th>2024-02-20 19:10:00-05:00</th>\n",
       "      <td>192.8700</td>\n",
       "      <td>192.8700</td>\n",
       "      <td>192.76</td>\n",
       "      <td>192.8000</td>\n",
       "      <td>10544.0</td>\n",
       "      <td>167.0</td>\n",
       "      <td>192.813098</td>\n",
       "      <td>-0.000518</td>\n",
       "      <td>0.0</td>\n",
       "      <td>0.0</td>\n",
       "      <td>...</td>\n",
       "      <td>0.000726</td>\n",
       "      <td>0.000571</td>\n",
       "      <td>193.5600</td>\n",
       "      <td>192.76</td>\n",
       "      <td>193.5500</td>\n",
       "      <td>193.5300</td>\n",
       "      <td>0.003942</td>\n",
       "      <td>-0.000207</td>\n",
       "      <td>0.003890</td>\n",
       "      <td>0.003786</td>\n",
       "    </tr>\n",
       "    <tr>\n",
       "      <th>2024-02-20 19:15:00-05:00</th>\n",
       "      <td>192.8000</td>\n",
       "      <td>192.8000</td>\n",
       "      <td>192.70</td>\n",
       "      <td>192.7000</td>\n",
       "      <td>14551.0</td>\n",
       "      <td>188.0</td>\n",
       "      <td>192.750829</td>\n",
       "      <td>-0.000519</td>\n",
       "      <td>0.0</td>\n",
       "      <td>0.0</td>\n",
       "      <td>...</td>\n",
       "      <td>0.001038</td>\n",
       "      <td>0.001038</td>\n",
       "      <td>193.5500</td>\n",
       "      <td>192.70</td>\n",
       "      <td>193.5500</td>\n",
       "      <td>193.3000</td>\n",
       "      <td>0.004411</td>\n",
       "      <td>0.000000</td>\n",
       "      <td>0.004411</td>\n",
       "      <td>0.003114</td>\n",
       "    </tr>\n",
       "    <tr>\n",
       "      <th>2024-02-20 19:20:00-05:00</th>\n",
       "      <td>192.6500</td>\n",
       "      <td>192.7200</td>\n",
       "      <td>192.61</td>\n",
       "      <td>192.7199</td>\n",
       "      <td>7581.0</td>\n",
       "      <td>137.0</td>\n",
       "      <td>192.663388</td>\n",
       "      <td>0.000103</td>\n",
       "      <td>1.0</td>\n",
       "      <td>1.0</td>\n",
       "      <td>...</td>\n",
       "      <td>0.000779</td>\n",
       "      <td>0.000416</td>\n",
       "      <td>193.4000</td>\n",
       "      <td>192.61</td>\n",
       "      <td>193.3437</td>\n",
       "      <td>193.2600</td>\n",
       "      <td>0.003529</td>\n",
       "      <td>-0.000570</td>\n",
       "      <td>0.003237</td>\n",
       "      <td>0.002803</td>\n",
       "    </tr>\n",
       "    <tr>\n",
       "      <th>...</th>\n",
       "      <td>...</td>\n",
       "      <td>...</td>\n",
       "      <td>...</td>\n",
       "      <td>...</td>\n",
       "      <td>...</td>\n",
       "      <td>...</td>\n",
       "      <td>...</td>\n",
       "      <td>...</td>\n",
       "      <td>...</td>\n",
       "      <td>...</td>\n",
       "      <td>...</td>\n",
       "      <td>...</td>\n",
       "      <td>...</td>\n",
       "      <td>...</td>\n",
       "      <td>...</td>\n",
       "      <td>...</td>\n",
       "      <td>...</td>\n",
       "      <td>...</td>\n",
       "      <td>...</td>\n",
       "      <td>...</td>\n",
       "      <td>...</td>\n",
       "    </tr>\n",
       "    <tr>\n",
       "      <th>2024-02-21 11:10:00-05:00</th>\n",
       "      <td>194.7300</td>\n",
       "      <td>195.3700</td>\n",
       "      <td>194.61</td>\n",
       "      <td>194.8611</td>\n",
       "      <td>1193641.0</td>\n",
       "      <td>19039.0</td>\n",
       "      <td>195.025000</td>\n",
       "      <td>0.000651</td>\n",
       "      <td>1.0</td>\n",
       "      <td>1.0</td>\n",
       "      <td>...</td>\n",
       "      <td>0.000764</td>\n",
       "      <td>-0.000031</td>\n",
       "      <td>198.0800</td>\n",
       "      <td>194.61</td>\n",
       "      <td>197.8800</td>\n",
       "      <td>197.0900</td>\n",
       "      <td>0.016519</td>\n",
       "      <td>-0.001289</td>\n",
       "      <td>0.015493</td>\n",
       "      <td>0.011438</td>\n",
       "    </tr>\n",
       "    <tr>\n",
       "      <th>2024-02-21 11:15:00-05:00</th>\n",
       "      <td>194.8700</td>\n",
       "      <td>195.3699</td>\n",
       "      <td>194.64</td>\n",
       "      <td>195.3050</td>\n",
       "      <td>1168009.0</td>\n",
       "      <td>18576.0</td>\n",
       "      <td>194.930842</td>\n",
       "      <td>0.002278</td>\n",
       "      <td>1.0</td>\n",
       "      <td>0.0</td>\n",
       "      <td>...</td>\n",
       "      <td>-0.002291</td>\n",
       "      <td>-0.002922</td>\n",
       "      <td>197.2096</td>\n",
       "      <td>194.61</td>\n",
       "      <td>197.0999</td>\n",
       "      <td>196.4020</td>\n",
       "      <td>0.009752</td>\n",
       "      <td>-0.003559</td>\n",
       "      <td>0.009190</td>\n",
       "      <td>0.005617</td>\n",
       "    </tr>\n",
       "    <tr>\n",
       "      <th>2024-02-21 11:20:00-05:00</th>\n",
       "      <td>195.3050</td>\n",
       "      <td>195.4400</td>\n",
       "      <td>194.28</td>\n",
       "      <td>194.7400</td>\n",
       "      <td>1458341.0</td>\n",
       "      <td>11730.0</td>\n",
       "      <td>194.802368</td>\n",
       "      <td>-0.002893</td>\n",
       "      <td>0.0</td>\n",
       "      <td>-1.0</td>\n",
       "      <td>...</td>\n",
       "      <td>-0.000051</td>\n",
       "      <td>0.000622</td>\n",
       "      <td>196.6800</td>\n",
       "      <td>194.28</td>\n",
       "      <td>196.4118</td>\n",
       "      <td>196.1700</td>\n",
       "      <td>0.009962</td>\n",
       "      <td>-0.002362</td>\n",
       "      <td>0.008585</td>\n",
       "      <td>0.007343</td>\n",
       "    </tr>\n",
       "    <tr>\n",
       "      <th>2024-02-21 11:25:00-05:00</th>\n",
       "      <td>194.7570</td>\n",
       "      <td>195.1350</td>\n",
       "      <td>193.95</td>\n",
       "      <td>194.0600</td>\n",
       "      <td>1618820.0</td>\n",
       "      <td>13181.0</td>\n",
       "      <td>194.435504</td>\n",
       "      <td>-0.003492</td>\n",
       "      <td>0.0</td>\n",
       "      <td>0.0</td>\n",
       "      <td>...</td>\n",
       "      <td>0.004174</td>\n",
       "      <td>0.006416</td>\n",
       "      <td>196.6700</td>\n",
       "      <td>193.95</td>\n",
       "      <td>196.2050</td>\n",
       "      <td>195.8804</td>\n",
       "      <td>0.013449</td>\n",
       "      <td>-0.000567</td>\n",
       "      <td>0.011053</td>\n",
       "      <td>0.009381</td>\n",
       "    </tr>\n",
       "    <tr>\n",
       "      <th>2024-02-21 11:30:00-05:00</th>\n",
       "      <td>194.0799</td>\n",
       "      <td>194.1900</td>\n",
       "      <td>193.71</td>\n",
       "      <td>194.1200</td>\n",
       "      <td>1300289.0</td>\n",
       "      <td>10227.0</td>\n",
       "      <td>193.959131</td>\n",
       "      <td>0.000309</td>\n",
       "      <td>1.0</td>\n",
       "      <td>1.0</td>\n",
       "      <td>...</td>\n",
       "      <td>0.006104</td>\n",
       "      <td>0.003194</td>\n",
       "      <td>196.4300</td>\n",
       "      <td>193.71</td>\n",
       "      <td>195.8700</td>\n",
       "      <td>195.7280</td>\n",
       "      <td>0.011900</td>\n",
       "      <td>-0.002112</td>\n",
       "      <td>0.009015</td>\n",
       "      <td>0.008284</td>\n",
       "    </tr>\n",
       "  </tbody>\n",
       "</table>\n",
       "<p>100 rows × 30 columns</p>\n",
       "</div>"
      ],
      "text/plain": [
       "                                      open      high     low     close  \\\n",
       "symbol timestamp                                                         \n",
       "TSLA   2024-02-20 19:00:00-05:00  192.9400  192.9400  192.90  192.9100   \n",
       "       2024-02-20 19:05:00-05:00  192.9000  192.9300  192.83  192.9000   \n",
       "       2024-02-20 19:10:00-05:00  192.8700  192.8700  192.76  192.8000   \n",
       "       2024-02-20 19:15:00-05:00  192.8000  192.8000  192.70  192.7000   \n",
       "       2024-02-20 19:20:00-05:00  192.6500  192.7200  192.61  192.7199   \n",
       "...                                    ...       ...     ...       ...   \n",
       "       2024-02-21 11:10:00-05:00  194.7300  195.3700  194.61  194.8611   \n",
       "       2024-02-21 11:15:00-05:00  194.8700  195.3699  194.64  195.3050   \n",
       "       2024-02-21 11:20:00-05:00  195.3050  195.4400  194.28  194.7400   \n",
       "       2024-02-21 11:25:00-05:00  194.7570  195.1350  193.95  194.0600   \n",
       "       2024-02-21 11:30:00-05:00  194.0799  194.1900  193.71  194.1200   \n",
       "\n",
       "                                     volume  trade_count        vwap  \\\n",
       "symbol timestamp                                                       \n",
       "TSLA   2024-02-20 19:00:00-05:00     1849.0         91.0  192.918046   \n",
       "       2024-02-20 19:05:00-05:00     4868.0        136.0  192.884879   \n",
       "       2024-02-20 19:10:00-05:00    10544.0        167.0  192.813098   \n",
       "       2024-02-20 19:15:00-05:00    14551.0        188.0  192.750829   \n",
       "       2024-02-20 19:20:00-05:00     7581.0        137.0  192.663388   \n",
       "...                                     ...          ...         ...   \n",
       "       2024-02-21 11:10:00-05:00  1193641.0      19039.0  195.025000   \n",
       "       2024-02-21 11:15:00-05:00  1168009.0      18576.0  194.930842   \n",
       "       2024-02-21 11:20:00-05:00  1458341.0      11730.0  194.802368   \n",
       "       2024-02-21 11:25:00-05:00  1618820.0      13181.0  194.435504   \n",
       "       2024-02-21 11:30:00-05:00  1300289.0      10227.0  193.959131   \n",
       "\n",
       "                                  pct_change  signal  reaction  ...  \\\n",
       "symbol timestamp                                                ...   \n",
       "TSLA   2024-02-20 19:00:00-05:00    0.000000     0.0       0.0  ...   \n",
       "       2024-02-20 19:05:00-05:00   -0.000052     0.0       0.0  ...   \n",
       "       2024-02-20 19:10:00-05:00   -0.000518     0.0       0.0  ...   \n",
       "       2024-02-20 19:15:00-05:00   -0.000519     0.0       0.0  ...   \n",
       "       2024-02-20 19:20:00-05:00    0.000103     1.0       1.0  ...   \n",
       "...                                      ...     ...       ...  ...   \n",
       "       2024-02-21 11:10:00-05:00    0.000651     1.0       1.0  ...   \n",
       "       2024-02-21 11:15:00-05:00    0.002278     1.0       0.0  ...   \n",
       "       2024-02-21 11:20:00-05:00   -0.002893     0.0      -1.0  ...   \n",
       "       2024-02-21 11:25:00-05:00   -0.003492     0.0       0.0  ...   \n",
       "       2024-02-21 11:30:00-05:00    0.000309     1.0       1.0  ...   \n",
       "\n",
       "                                  open % - 15  close % - 15  high - 60  \\\n",
       "symbol timestamp                                                         \n",
       "TSLA   2024-02-20 19:00:00-05:00    -0.000052      0.000933   193.5600   \n",
       "       2024-02-20 19:05:00-05:00     0.000570      0.000052   193.5600   \n",
       "       2024-02-20 19:10:00-05:00     0.000726      0.000571   193.5600   \n",
       "       2024-02-20 19:15:00-05:00     0.001038      0.001038   193.5500   \n",
       "       2024-02-20 19:20:00-05:00     0.000779      0.000416   193.4000   \n",
       "...                                       ...           ...        ...   \n",
       "       2024-02-21 11:10:00-05:00     0.000764     -0.000031   198.0800   \n",
       "       2024-02-21 11:15:00-05:00    -0.002291     -0.002922   197.2096   \n",
       "       2024-02-21 11:20:00-05:00    -0.000051      0.000622   196.6800   \n",
       "       2024-02-21 11:25:00-05:00     0.004174      0.006416   196.6700   \n",
       "       2024-02-21 11:30:00-05:00     0.006104      0.003194   196.4300   \n",
       "\n",
       "                                  low - 60  open - 60  close - 60  \\\n",
       "symbol timestamp                                                    \n",
       "TSLA   2024-02-20 19:00:00-05:00    192.76   193.2300    193.2700   \n",
       "       2024-02-20 19:05:00-05:00    192.76   193.2600    193.5000   \n",
       "       2024-02-20 19:10:00-05:00    192.76   193.5500    193.5300   \n",
       "       2024-02-20 19:15:00-05:00    192.70   193.5500    193.3000   \n",
       "       2024-02-20 19:20:00-05:00    192.61   193.3437    193.2600   \n",
       "...                                    ...        ...         ...   \n",
       "       2024-02-21 11:10:00-05:00    194.61   197.8800    197.0900   \n",
       "       2024-02-21 11:15:00-05:00    194.61   197.0999    196.4020   \n",
       "       2024-02-21 11:20:00-05:00    194.28   196.4118    196.1700   \n",
       "       2024-02-21 11:25:00-05:00    193.95   196.2050    195.8804   \n",
       "       2024-02-21 11:30:00-05:00    193.71   195.8700    195.7280   \n",
       "\n",
       "                                  high % - 60  low % - 60  open % - 60  \\\n",
       "symbol timestamp                                                         \n",
       "TSLA   2024-02-20 19:00:00-05:00     0.003369   -0.000778     0.001659   \n",
       "       2024-02-20 19:05:00-05:00     0.003421   -0.000726     0.001866   \n",
       "       2024-02-20 19:10:00-05:00     0.003942   -0.000207     0.003890   \n",
       "       2024-02-20 19:15:00-05:00     0.004411    0.000000     0.004411   \n",
       "       2024-02-20 19:20:00-05:00     0.003529   -0.000570     0.003237   \n",
       "...                                       ...         ...          ...   \n",
       "       2024-02-21 11:10:00-05:00     0.016519   -0.001289     0.015493   \n",
       "       2024-02-21 11:15:00-05:00     0.009752   -0.003559     0.009190   \n",
       "       2024-02-21 11:20:00-05:00     0.009962   -0.002362     0.008585   \n",
       "       2024-02-21 11:25:00-05:00     0.013449   -0.000567     0.011053   \n",
       "       2024-02-21 11:30:00-05:00     0.011900   -0.002112     0.009015   \n",
       "\n",
       "                                  close % - 60  \n",
       "symbol timestamp                                \n",
       "TSLA   2024-02-20 19:00:00-05:00      0.001866  \n",
       "       2024-02-20 19:05:00-05:00      0.003110  \n",
       "       2024-02-20 19:10:00-05:00      0.003786  \n",
       "       2024-02-20 19:15:00-05:00      0.003114  \n",
       "       2024-02-20 19:20:00-05:00      0.002803  \n",
       "...                                        ...  \n",
       "       2024-02-21 11:10:00-05:00      0.011438  \n",
       "       2024-02-21 11:15:00-05:00      0.005617  \n",
       "       2024-02-21 11:20:00-05:00      0.007343  \n",
       "       2024-02-21 11:25:00-05:00      0.009381  \n",
       "       2024-02-21 11:30:00-05:00      0.008284  \n",
       "\n",
       "[100 rows x 30 columns]"
      ]
     },
     "metadata": {},
     "output_type": "display_data"
    }
   ],
   "source": [
    "display(bars_df.head(100))\n",
    "display(bars_df.tail(100))"
   ]
  },
  {
   "cell_type": "code",
   "execution_count": 10,
   "metadata": {},
   "outputs": [
    {
     "name": "stdout",
     "output_type": "stream",
     "text": [
      "<class 'pandas.core.frame.DataFrame'>\n",
      "MultiIndex: 280 entries, ('TSLA', Timestamp('2024-02-20 04:00:00-0500', tz='America/New_York')) to ('TSLA', Timestamp('2024-02-21 11:30:00-0500', tz='America/New_York'))\n",
      "Data columns (total 30 columns):\n",
      " #   Column        Non-Null Count  Dtype  \n",
      "---  ------        --------------  -----  \n",
      " 0   open          280 non-null    float64\n",
      " 1   high          280 non-null    float64\n",
      " 2   low           280 non-null    float64\n",
      " 3   close         280 non-null    float64\n",
      " 4   volume        280 non-null    float64\n",
      " 5   trade_count   280 non-null    float64\n",
      " 6   vwap          280 non-null    float64\n",
      " 7   pct_change    279 non-null    float64\n",
      " 8   signal        280 non-null    float64\n",
      " 9   reaction      279 non-null    float64\n",
      " 10  action        279 non-null    float64\n",
      " 11  high %        280 non-null    float64\n",
      " 12  low %         280 non-null    float64\n",
      " 13  open %        280 non-null    float64\n",
      " 14  high - 15     278 non-null    float64\n",
      " 15  low - 15      278 non-null    float64\n",
      " 16  open - 15     278 non-null    float64\n",
      " 17  close - 15    278 non-null    float64\n",
      " 18  high % - 15   278 non-null    float64\n",
      " 19  low % - 15    278 non-null    float64\n",
      " 20  open % - 15   278 non-null    float64\n",
      " 21  close % - 15  278 non-null    float64\n",
      " 22  high - 60     269 non-null    float64\n",
      " 23  low - 60      269 non-null    float64\n",
      " 24  open - 60     269 non-null    float64\n",
      " 25  close - 60    269 non-null    float64\n",
      " 26  high % - 60   269 non-null    float64\n",
      " 27  low % - 60    269 non-null    float64\n",
      " 28  open % - 60   269 non-null    float64\n",
      " 29  close % - 60  269 non-null    float64\n",
      "dtypes: float64(30)\n",
      "memory usage: 77.0+ KB\n"
     ]
    }
   ],
   "source": [
    "bars_df.info()"
   ]
  },
  {
   "cell_type": "code",
   "execution_count": 11,
   "metadata": {},
   "outputs": [
    {
     "data": {
      "image/png": "[encoded data removed]",
      "text/plain": [
       "<Figure size 640x480 with 1 Axes>"
      ]
     },
     "metadata": {},
     "output_type": "display_data"
    }
   ],
   "source": [
    "fig = plt.figure()\n",
    "ax = fig.add_subplot(111, projection=\"3d\")\n",
    "\n",
    "# plot\n",
    "ax.scatter(bars_df[\"close\"],bars_df[\"close - 15\"], c = \"r\", marker = \"o\")\n",
    "\n",
    "# set labels\n",
    "ax.set_xlabel(\"Timestamp\")\n",
    "ax.set_ylabel(\"5 min\")\n",
    "ax.set_zlabel(\"15 min data\")\n",
    "\n",
    "plt.show()\n",
    "\n"
   ]
  },
  {
   "cell_type": "code",
   "execution_count": 12,
   "metadata": {},
   "outputs": [
    {
     "data": {
      "text/html": [
       "<div>\n",
       "<style scoped>\n",
       "    .dataframe tbody tr th:only-of-type {\n",
       "        vertical-align: middle;\n",
       "    }\n",
       "\n",
       "    .dataframe tbody tr th {\n",
       "        vertical-align: top;\n",
       "    }\n",
       "\n",
       "    .dataframe thead th {\n",
       "        text-align: right;\n",
       "    }\n",
       "</style>\n",
       "<table border=\"1\" class=\"dataframe\">\n",
       "  <thead>\n",
       "    <tr style=\"text-align: right;\">\n",
       "      <th></th>\n",
       "      <th>open</th>\n",
       "      <th>high</th>\n",
       "      <th>low</th>\n",
       "      <th>close</th>\n",
       "      <th>volume</th>\n",
       "      <th>trade_count</th>\n",
       "      <th>vwap</th>\n",
       "      <th>pct_change</th>\n",
       "      <th>signal</th>\n",
       "      <th>reaction</th>\n",
       "      <th>...</th>\n",
       "      <th>open % - 15</th>\n",
       "      <th>close % - 15</th>\n",
       "      <th>high - 60</th>\n",
       "      <th>low - 60</th>\n",
       "      <th>open - 60</th>\n",
       "      <th>close - 60</th>\n",
       "      <th>high % - 60</th>\n",
       "      <th>low % - 60</th>\n",
       "      <th>open % - 60</th>\n",
       "      <th>close % - 60</th>\n",
       "    </tr>\n",
       "    <tr>\n",
       "      <th>timestamp</th>\n",
       "      <th></th>\n",
       "      <th></th>\n",
       "      <th></th>\n",
       "      <th></th>\n",
       "      <th></th>\n",
       "      <th></th>\n",
       "      <th></th>\n",
       "      <th></th>\n",
       "      <th></th>\n",
       "      <th></th>\n",
       "      <th></th>\n",
       "      <th></th>\n",
       "      <th></th>\n",
       "      <th></th>\n",
       "      <th></th>\n",
       "      <th></th>\n",
       "      <th></th>\n",
       "      <th></th>\n",
       "      <th></th>\n",
       "      <th></th>\n",
       "      <th></th>\n",
       "    </tr>\n",
       "  </thead>\n",
       "  <tbody>\n",
       "    <tr>\n",
       "      <th>2024-02-20 04:00:00-05:00</th>\n",
       "      <td>196.98</td>\n",
       "      <td>198.23</td>\n",
       "      <td>196.37</td>\n",
       "      <td>197.30</td>\n",
       "      <td>45358.0</td>\n",
       "      <td>1353.0</td>\n",
       "      <td>197.439241</td>\n",
       "      <td>NaN</td>\n",
       "      <td>0.0</td>\n",
       "      <td>NaN</td>\n",
       "      <td>...</td>\n",
       "      <td>NaN</td>\n",
       "      <td>NaN</td>\n",
       "      <td>NaN</td>\n",
       "      <td>NaN</td>\n",
       "      <td>NaN</td>\n",
       "      <td>NaN</td>\n",
       "      <td>NaN</td>\n",
       "      <td>NaN</td>\n",
       "      <td>NaN</td>\n",
       "      <td>NaN</td>\n",
       "    </tr>\n",
       "    <tr>\n",
       "      <th>2024-02-20 04:05:00-05:00</th>\n",
       "      <td>197.19</td>\n",
       "      <td>197.36</td>\n",
       "      <td>196.82</td>\n",
       "      <td>196.82</td>\n",
       "      <td>17128.0</td>\n",
       "      <td>523.0</td>\n",
       "      <td>197.046080</td>\n",
       "      <td>-0.002433</td>\n",
       "      <td>0.0</td>\n",
       "      <td>0.0</td>\n",
       "      <td>...</td>\n",
       "      <td>NaN</td>\n",
       "      <td>NaN</td>\n",
       "      <td>NaN</td>\n",
       "      <td>NaN</td>\n",
       "      <td>NaN</td>\n",
       "      <td>NaN</td>\n",
       "      <td>NaN</td>\n",
       "      <td>NaN</td>\n",
       "      <td>NaN</td>\n",
       "      <td>NaN</td>\n",
       "    </tr>\n",
       "    <tr>\n",
       "      <th>2024-02-20 04:10:00-05:00</th>\n",
       "      <td>196.82</td>\n",
       "      <td>197.11</td>\n",
       "      <td>196.72</td>\n",
       "      <td>197.11</td>\n",
       "      <td>23857.0</td>\n",
       "      <td>548.0</td>\n",
       "      <td>196.912064</td>\n",
       "      <td>0.001473</td>\n",
       "      <td>1.0</td>\n",
       "      <td>1.0</td>\n",
       "      <td>...</td>\n",
       "      <td>-0.000660</td>\n",
       "      <td>0.000964</td>\n",
       "      <td>NaN</td>\n",
       "      <td>NaN</td>\n",
       "      <td>NaN</td>\n",
       "      <td>NaN</td>\n",
       "      <td>NaN</td>\n",
       "      <td>NaN</td>\n",
       "      <td>NaN</td>\n",
       "      <td>NaN</td>\n",
       "    </tr>\n",
       "    <tr>\n",
       "      <th>2024-02-20 04:15:00-05:00</th>\n",
       "      <td>197.15</td>\n",
       "      <td>197.50</td>\n",
       "      <td>197.06</td>\n",
       "      <td>197.24</td>\n",
       "      <td>17774.0</td>\n",
       "      <td>460.0</td>\n",
       "      <td>197.375357</td>\n",
       "      <td>0.000660</td>\n",
       "      <td>1.0</td>\n",
       "      <td>0.0</td>\n",
       "      <td>...</td>\n",
       "      <td>-0.000253</td>\n",
       "      <td>-0.002129</td>\n",
       "      <td>NaN</td>\n",
       "      <td>NaN</td>\n",
       "      <td>NaN</td>\n",
       "      <td>NaN</td>\n",
       "      <td>NaN</td>\n",
       "      <td>NaN</td>\n",
       "      <td>NaN</td>\n",
       "      <td>NaN</td>\n",
       "    </tr>\n",
       "    <tr>\n",
       "      <th>2024-02-20 04:20:00-05:00</th>\n",
       "      <td>197.18</td>\n",
       "      <td>197.29</td>\n",
       "      <td>197.00</td>\n",
       "      <td>197.00</td>\n",
       "      <td>7822.0</td>\n",
       "      <td>367.0</td>\n",
       "      <td>197.117828</td>\n",
       "      <td>-0.001217</td>\n",
       "      <td>0.0</td>\n",
       "      <td>-1.0</td>\n",
       "      <td>...</td>\n",
       "      <td>-0.000914</td>\n",
       "      <td>0.000558</td>\n",
       "      <td>NaN</td>\n",
       "      <td>NaN</td>\n",
       "      <td>NaN</td>\n",
       "      <td>NaN</td>\n",
       "      <td>NaN</td>\n",
       "      <td>NaN</td>\n",
       "      <td>NaN</td>\n",
       "      <td>NaN</td>\n",
       "    </tr>\n",
       "  </tbody>\n",
       "</table>\n",
       "<p>5 rows × 30 columns</p>\n",
       "</div>"
      ],
      "text/plain": [
       "                             open    high     low   close   volume  \\\n",
       "timestamp                                                            \n",
       "2024-02-20 04:00:00-05:00  196.98  198.23  196.37  197.30  45358.0   \n",
       "2024-02-20 04:05:00-05:00  197.19  197.36  196.82  196.82  17128.0   \n",
       "2024-02-20 04:10:00-05:00  196.82  197.11  196.72  197.11  23857.0   \n",
       "2024-02-20 04:15:00-05:00  197.15  197.50  197.06  197.24  17774.0   \n",
       "2024-02-20 04:20:00-05:00  197.18  197.29  197.00  197.00   7822.0   \n",
       "\n",
       "                           trade_count        vwap  pct_change  signal  \\\n",
       "timestamp                                                                \n",
       "2024-02-20 04:00:00-05:00       1353.0  197.439241         NaN     0.0   \n",
       "2024-02-20 04:05:00-05:00        523.0  197.046080   -0.002433     0.0   \n",
       "2024-02-20 04:10:00-05:00        548.0  196.912064    0.001473     1.0   \n",
       "2024-02-20 04:15:00-05:00        460.0  197.375357    0.000660     1.0   \n",
       "2024-02-20 04:20:00-05:00        367.0  197.117828   -0.001217     0.0   \n",
       "\n",
       "                           reaction  ...  open % - 15  close % - 15  \\\n",
       "timestamp                            ...                              \n",
       "2024-02-20 04:00:00-05:00       NaN  ...          NaN           NaN   \n",
       "2024-02-20 04:05:00-05:00       0.0  ...          NaN           NaN   \n",
       "2024-02-20 04:10:00-05:00       1.0  ...    -0.000660      0.000964   \n",
       "2024-02-20 04:15:00-05:00       0.0  ...    -0.000253     -0.002129   \n",
       "2024-02-20 04:20:00-05:00      -1.0  ...    -0.000914      0.000558   \n",
       "\n",
       "                           high - 60  low - 60  open - 60  close - 60  \\\n",
       "timestamp                                                               \n",
       "2024-02-20 04:00:00-05:00        NaN       NaN        NaN         NaN   \n",
       "2024-02-20 04:05:00-05:00        NaN       NaN        NaN         NaN   \n",
       "2024-02-20 04:10:00-05:00        NaN       NaN        NaN         NaN   \n",
       "2024-02-20 04:15:00-05:00        NaN       NaN        NaN         NaN   \n",
       "2024-02-20 04:20:00-05:00        NaN       NaN        NaN         NaN   \n",
       "\n",
       "                           high % - 60  low % - 60  open % - 60  close % - 60  \n",
       "timestamp                                                                      \n",
       "2024-02-20 04:00:00-05:00          NaN         NaN          NaN           NaN  \n",
       "2024-02-20 04:05:00-05:00          NaN         NaN          NaN           NaN  \n",
       "2024-02-20 04:10:00-05:00          NaN         NaN          NaN           NaN  \n",
       "2024-02-20 04:15:00-05:00          NaN         NaN          NaN           NaN  \n",
       "2024-02-20 04:20:00-05:00          NaN         NaN          NaN           NaN  \n",
       "\n",
       "[5 rows x 30 columns]"
      ]
     },
     "execution_count": 12,
     "metadata": {},
     "output_type": "execute_result"
    }
   ],
   "source": [
    "bars_df = bars_df.droplevel(level=0)\n",
    "\n",
    "bars_df.head()"
   ]
  },
  {
   "cell_type": "code",
   "execution_count": 13,
   "metadata": {},
   "outputs": [
    {
     "data": {
      "application/vnd.plotly.v1+json": {
       "config": {
        "plotlyServerURL": "https://plot.ly"
       },
       "data": [
        {
         "hovertemplate": "close=%{x}<br>close - 15=%{y}<br>time_normalized=%{z}<extra></extra>",
         "legendgroup": "",
         "marker": {
          "color": "#636efa",
          "symbol": "circle"
         },
         "mode": "markers",
         "name": "",
         "scene": "scene",
         "showlegend": false,
         "type": "scatter3d",
         "x": [
          197.3,
          196.82,
          197.11,
          197.24,
          197,
          196.67,
          196.1,
          196.4,
          196.39,
          196.5,
          196.5,
          196.21,
          196,
          195.7,
          196.07,
          195.92,
          195.89,
          196,
          196.5,
          196.6,
          196.57,
          196.64,
          196.39,
          196.5,
          196.33,
          196.1,
          196.38,
          196.44,
          196.44,
          196.3,
          196.42,
          196.54,
          196.8,
          196.88,
          196.96,
          196.99,
          197.1,
          197.1,
          197.28,
          197.05,
          196.97,
          197,
          197.02,
          197.28,
          197.19,
          197.1,
          197.1,
          197.3,
          197.05,
          196.8,
          197.2,
          197.08,
          197.04,
          197,
          196.74,
          197.0203,
          197.45,
          197.08,
          197.0205,
          197.15,
          197.38,
          197.2,
          197.18,
          197.08,
          196.9,
          196.15,
          198.33,
          195.81,
          194.1549,
          194.6,
          193.9503,
          193.2808,
          192.9,
          193.3234,
          193.5922,
          194.3,
          192.792,
          191.4188,
          191.66,
          191.62,
          191.235,
          192.1001,
          192.92,
          193.17,
          193.12,
          193.0001,
          193.14,
          193.12,
          193,
          192.6312,
          191.993,
          192.075,
          192.3226,
          192.33,
          191.8453,
          191.3501,
          190.3214,
          190.1,
          189.8808,
          189.4157,
          189.2215,
          190.18,
          190.2401,
          189.42,
          190.05,
          189.52,
          189.845,
          189.7,
          189.7899,
          190.06,
          190.72,
          190.7746,
          190.94,
          190.5399,
          190.16,
          190.305,
          191.1199,
          191.11,
          191.044,
          191.4749,
          191.285,
          191.1999,
          191.2719,
          191.57,
          191.08,
          191.59,
          191.4789,
          191.6901,
          192.0099,
          192.1997,
          191.955,
          192.1407,
          191.9818,
          192.695,
          192.6701,
          192.71,
          192.89,
          193.14,
          192.305,
          192.78,
          193.09,
          193.47,
          193.37,
          193.77,
          193.77,
          193.131,
          193.43,
          193.32,
          193.4,
          193.36,
          193.4979,
          193.61,
          193.58,
          193.72,
          193.61,
          193.56,
          193.57,
          193.58,
          193.59,
          193.6301,
          193.63,
          193.71,
          193.63,
          193.6301,
          193.59,
          193.47,
          193.34,
          193.2,
          193.22,
          193.27,
          193.5,
          193.53,
          193.3,
          193.26,
          192.89,
          192.8507,
          192.93,
          192.95,
          193.09,
          192.91,
          192.91,
          192.9,
          192.8,
          192.7,
          192.7199,
          192.68,
          192.67,
          192.58,
          192.71,
          192.58,
          192.33,
          192.4,
          192.15,
          192.56,
          192.33,
          192.05,
          192.27,
          192.1,
          192.1,
          192.06,
          192.06,
          192.21,
          192.27,
          192.2,
          192.13,
          192.13,
          192.56,
          192.92,
          193.12,
          193.39,
          193.1,
          193.4,
          193.35,
          193.3,
          193.35,
          193.17,
          192.87,
          192.81,
          192.95,
          193.03,
          193.25,
          193.03,
          192.92,
          193,
          193.18,
          192.57,
          192.66,
          192.56,
          192.86,
          192.64,
          192.8,
          192.84,
          192.67,
          192.75,
          192.33,
          192.33,
          192.21,
          192.77,
          192.42,
          192.25,
          192.23,
          191.82,
          192.0018,
          191.74,
          192.1,
          192.15,
          192.1,
          191.99,
          192.09,
          192.2,
          192.15,
          191.98,
          191.97,
          191.83,
          193.3,
          195.82,
          196.8,
          196.57,
          197.97,
          197.8973,
          197.21,
          198.965,
          197.69,
          197.9,
          197.09,
          196.402,
          196.17,
          195.8804,
          195.728,
          195.8198,
          195.9142,
          195.39,
          194.992,
          194.855,
          194.7344,
          194.8611,
          195.305,
          194.74,
          194.06,
          194.12
         ],
         "y": [
          null,
          null,
          197.3,
          196.82,
          197.11,
          197.24,
          197,
          196.67,
          196.1,
          196.4,
          196.39,
          196.5,
          196.5,
          196.21,
          196,
          195.7,
          196.07,
          195.92,
          195.89,
          196,
          196.5,
          196.6,
          196.57,
          196.64,
          196.39,
          196.5,
          196.33,
          196.1,
          196.38,
          196.44,
          196.44,
          196.3,
          196.42,
          196.54,
          196.8,
          196.88,
          196.96,
          196.99,
          197.1,
          197.1,
          197.28,
          197.05,
          196.97,
          197,
          197.02,
          197.28,
          197.19,
          197.1,
          197.1,
          197.3,
          197.05,
          196.8,
          197.2,
          197.08,
          197.04,
          197,
          196.74,
          197.0203,
          197.45,
          197.08,
          197.0205,
          197.15,
          197.38,
          197.2,
          197.18,
          197.08,
          196.9,
          196.15,
          198.33,
          195.81,
          194.1549,
          194.6,
          193.9503,
          193.2808,
          192.9,
          193.3234,
          193.5922,
          194.3,
          192.792,
          191.4188,
          191.66,
          191.62,
          191.235,
          192.1001,
          192.92,
          193.17,
          193.12,
          193.0001,
          193.14,
          193.12,
          193,
          192.6312,
          191.993,
          192.075,
          192.3226,
          192.33,
          191.8453,
          191.3501,
          190.3214,
          190.1,
          189.8808,
          189.4157,
          189.2215,
          190.18,
          190.2401,
          189.42,
          190.05,
          189.52,
          189.845,
          189.7,
          189.7899,
          190.06,
          190.72,
          190.7746,
          190.94,
          190.5399,
          190.16,
          190.305,
          191.1199,
          191.11,
          191.044,
          191.4749,
          191.285,
          191.1999,
          191.2719,
          191.57,
          191.08,
          191.59,
          191.4789,
          191.6901,
          192.0099,
          192.1997,
          191.955,
          192.1407,
          191.9818,
          192.695,
          192.6701,
          192.71,
          192.89,
          193.14,
          192.305,
          192.78,
          193.09,
          193.47,
          193.37,
          193.77,
          193.77,
          193.131,
          193.43,
          193.32,
          193.4,
          193.36,
          193.4979,
          193.61,
          193.58,
          193.72,
          193.61,
          193.56,
          193.57,
          193.58,
          193.59,
          193.6301,
          193.63,
          193.71,
          193.63,
          193.6301,
          193.59,
          193.47,
          193.34,
          193.2,
          193.22,
          193.27,
          193.5,
          193.53,
          193.3,
          193.26,
          192.89,
          192.8507,
          192.93,
          192.95,
          193.09,
          192.91,
          192.91,
          192.9,
          192.8,
          192.7,
          192.7199,
          192.68,
          192.67,
          192.58,
          192.71,
          192.58,
          192.33,
          192.4,
          192.15,
          192.56,
          192.33,
          192.05,
          192.27,
          192.1,
          192.1,
          192.06,
          192.06,
          192.21,
          192.27,
          192.2,
          192.13,
          192.13,
          192.56,
          192.92,
          193.12,
          193.39,
          193.1,
          193.4,
          193.35,
          193.3,
          193.35,
          193.17,
          192.87,
          192.81,
          192.95,
          193.03,
          193.25,
          193.03,
          192.92,
          193,
          193.18,
          192.57,
          192.66,
          192.56,
          192.86,
          192.64,
          192.8,
          192.84,
          192.67,
          192.75,
          192.33,
          192.33,
          192.21,
          192.77,
          192.42,
          192.25,
          192.23,
          191.82,
          192.0018,
          191.74,
          192.1,
          192.15,
          192.1,
          191.99,
          192.09,
          192.2,
          192.15,
          191.98,
          191.97,
          191.83,
          193.3,
          195.82,
          196.8,
          196.57,
          197.97,
          197.8973,
          197.21,
          198.965,
          197.69,
          197.9,
          197.09,
          196.402,
          196.17,
          195.8804,
          195.728,
          195.8198,
          195.9142,
          195.39,
          194.992,
          194.855,
          194.7344,
          194.8611,
          195.305,
          194.74
         ],
         "z": [
          0,
          5,
          10,
          15,
          20,
          25,
          30,
          35,
          40,
          45,
          50,
          55,
          60,
          65,
          70,
          75,
          80,
          85,
          90,
          95,
          100,
          105,
          110,
          115,
          120,
          125,
          130,
          135,
          140,
          145,
          150,
          155,
          160,
          165,
          170,
          175,
          180,
          185,
          190,
          195,
          200,
          205,
          210,
          215,
          220,
          225,
          230,
          235,
          240,
          245,
          250,
          255,
          260,
          265,
          270,
          275,
          280,
          285,
          290,
          295,
          300,
          305,
          310,
          315,
          320,
          325,
          330,
          335,
          340,
          345,
          350,
          355,
          360,
          365,
          370,
          375,
          380,
          385,
          390,
          395,
          400,
          405,
          410,
          415,
          420,
          425,
          430,
          435,
          440,
          445,
          450,
          455,
          460,
          465,
          470,
          475,
          480,
          485,
          490,
          495,
          500,
          505,
          510,
          515,
          520,
          525,
          530,
          535,
          540,
          545,
          550,
          555,
          560,
          565,
          570,
          575,
          580,
          585,
          590,
          595,
          600,
          605,
          610,
          615,
          620,
          625,
          630,
          635,
          640,
          645,
          650,
          655,
          660,
          665,
          670,
          675,
          680,
          685,
          690,
          695,
          700,
          705,
          710,
          715,
          720,
          725,
          730,
          735,
          740,
          745,
          750,
          755,
          760,
          765,
          770,
          775,
          780,
          785,
          790,
          795,
          800,
          805,
          810,
          815,
          820,
          825,
          830,
          835,
          840,
          845,
          850,
          855,
          860,
          865,
          870,
          875,
          880,
          885,
          890,
          895,
          900,
          905,
          910,
          915,
          920,
          925,
          930,
          935,
          940,
          945,
          950,
          955,
          1440,
          1445,
          1450,
          1455,
          1460,
          1465,
          1470,
          1475,
          1480,
          1485,
          1490,
          1495,
          1500,
          1505,
          1510,
          1515,
          1520,
          1525,
          1530,
          1535,
          1540,
          1545,
          1550,
          1560,
          1570,
          1575,
          1585,
          1590,
          1595,
          1600,
          1605,
          1610,
          1615,
          1620,
          1625,
          1630,
          1635,
          1640,
          1645,
          1650,
          1655,
          1660,
          1665,
          1670,
          1675,
          1680,
          1685,
          1690,
          1695,
          1700,
          1705,
          1710,
          1715,
          1720,
          1725,
          1730,
          1735,
          1740,
          1745,
          1750,
          1755,
          1760,
          1765,
          1770,
          1775,
          1780,
          1785,
          1790,
          1795,
          1800,
          1805,
          1810,
          1815,
          1820,
          1825,
          1830,
          1835,
          1840,
          1845,
          1850,
          1855,
          1860,
          1865,
          1870,
          1875,
          1880,
          1885,
          1890
         ]
        }
       ],
       "layout": {
        "legend": {
         "tracegroupgap": 0
        },
        "margin": {
         "t": 60
        },
        "scene": {
         "domain": {
          "x": [
           0,
           1
          ],
          "y": [
           0,
           1
          ]
         },
         "xaxis": {
          "title": {
           "text": "close"
          }
         },
         "yaxis": {
          "title": {
           "text": "close - 15"
          }
         },
         "zaxis": {
          "title": {
           "text": "time_normalized"
          }
         }
        },
        "template": {
         "data": {
          "bar": [
           {
            "error_x": {
             "color": "#2a3f5f"
            },
            "error_y": {
             "color": "#2a3f5f"
            },
            "marker": {
             "line": {
              "color": "#E5ECF6",
              "width": 0.5
             },
             "pattern": {
              "fillmode": "overlay",
              "size": 10,
              "solidity": 0.2
             }
            },
            "type": "bar"
           }
          ],
          "barpolar": [
           {
            "marker": {
             "line": {
              "color": "#E5ECF6",
              "width": 0.5
             },
             "pattern": {
              "fillmode": "overlay",
              "size": 10,
              "solidity": 0.2
             }
            },
            "type": "barpolar"
           }
          ],
          "carpet": [
           {
            "aaxis": {
             "endlinecolor": "#2a3f5f",
             "gridcolor": "white",
             "linecolor": "white",
             "minorgridcolor": "white",
             "startlinecolor": "#2a3f5f"
            },
            "baxis": {
             "endlinecolor": "#2a3f5f",
             "gridcolor": "white",
             "linecolor": "white",
             "minorgridcolor": "white",
             "startlinecolor": "#2a3f5f"
            },
            "type": "carpet"
           }
          ],
          "choropleth": [
           {
            "colorbar": {
             "outlinewidth": 0,
             "ticks": ""
            },
            "type": "choropleth"
           }
          ],
          "contour": [
           {
            "colorbar": {
             "outlinewidth": 0,
             "ticks": ""
            },
            "colorscale": [
             [
              0,
              "#0d0887"
             ],
             [
              0.1111111111111111,
              "#46039f"
             ],
             [
              0.2222222222222222,
              "#7201a8"
             ],
             [
              0.3333333333333333,
              "#9c179e"
             ],
             [
              0.4444444444444444,
              "#bd3786"
             ],
             [
              0.5555555555555556,
              "#d8576b"
             ],
             [
              0.6666666666666666,
              "#ed7953"
             ],
             [
              0.7777777777777778,
              "#fb9f3a"
             ],
             [
              0.8888888888888888,
              "#fdca26"
             ],
             [
              1,
              "#f0f921"
             ]
            ],
            "type": "contour"
           }
          ],
          "contourcarpet": [
           {
            "colorbar": {
             "outlinewidth": 0,
             "ticks": ""
            },
            "type": "contourcarpet"
           }
          ],
          "heatmap": [
           {
            "colorbar": {
             "outlinewidth": 0,
             "ticks": ""
            },
            "colorscale": [
             [
              0,
              "#0d0887"
             ],
             [
              0.1111111111111111,
              "#46039f"
             ],
             [
              0.2222222222222222,
              "#7201a8"
             ],
             [
              0.3333333333333333,
              "#9c179e"
             ],
             [
              0.4444444444444444,
              "#bd3786"
             ],
             [
              0.5555555555555556,
              "#d8576b"
             ],
             [
              0.6666666666666666,
              "#ed7953"
             ],
             [
              0.7777777777777778,
              "#fb9f3a"
             ],
             [
              0.8888888888888888,
              "#fdca26"
             ],
             [
              1,
              "#f0f921"
             ]
            ],
            "type": "heatmap"
           }
          ],
          "heatmapgl": [
           {
            "colorbar": {
             "outlinewidth": 0,
             "ticks": ""
            },
            "colorscale": [
             [
              0,
              "#0d0887"
             ],
             [
              0.1111111111111111,
              "#46039f"
             ],
             [
              0.2222222222222222,
              "#7201a8"
             ],
             [
              0.3333333333333333,
              "#9c179e"
             ],
             [
              0.4444444444444444,
              "#bd3786"
             ],
             [
              0.5555555555555556,
              "#d8576b"
             ],
             [
              0.6666666666666666,
              "#ed7953"
             ],
             [
              0.7777777777777778,
              "#fb9f3a"
             ],
             [
              0.8888888888888888,
              "#fdca26"
             ],
             [
              1,
              "#f0f921"
             ]
            ],
            "type": "heatmapgl"
           }
          ],
          "histogram": [
           {
            "marker": {
             "pattern": {
              "fillmode": "overlay",
              "size": 10,
              "solidity": 0.2
             }
            },
            "type": "histogram"
           }
          ],
          "histogram2d": [
           {
            "colorbar": {
             "outlinewidth": 0,
             "ticks": ""
            },
            "colorscale": [
             [
              0,
              "#0d0887"
             ],
             [
              0.1111111111111111,
              "#46039f"
             ],
             [
              0.2222222222222222,
              "#7201a8"
             ],
             [
              0.3333333333333333,
              "#9c179e"
             ],
             [
              0.4444444444444444,
              "#bd3786"
             ],
             [
              0.5555555555555556,
              "#d8576b"
             ],
             [
              0.6666666666666666,
              "#ed7953"
             ],
             [
              0.7777777777777778,
              "#fb9f3a"
             ],
             [
              0.8888888888888888,
              "#fdca26"
             ],
             [
              1,
              "#f0f921"
             ]
            ],
            "type": "histogram2d"
           }
          ],
          "histogram2dcontour": [
           {
            "colorbar": {
             "outlinewidth": 0,
             "ticks": ""
            },
            "colorscale": [
             [
              0,
              "#0d0887"
             ],
             [
              0.1111111111111111,
              "#46039f"
             ],
             [
              0.2222222222222222,
              "#7201a8"
             ],
             [
              0.3333333333333333,
              "#9c179e"
             ],
             [
              0.4444444444444444,
              "#bd3786"
             ],
             [
              0.5555555555555556,
              "#d8576b"
             ],
             [
              0.6666666666666666,
              "#ed7953"
             ],
             [
              0.7777777777777778,
              "#fb9f3a"
             ],
             [
              0.8888888888888888,
              "#fdca26"
             ],
             [
              1,
              "#f0f921"
             ]
            ],
            "type": "histogram2dcontour"
           }
          ],
          "mesh3d": [
           {
            "colorbar": {
             "outlinewidth": 0,
             "ticks": ""
            },
            "type": "mesh3d"
           }
          ],
          "parcoords": [
           {
            "line": {
             "colorbar": {
              "outlinewidth": 0,
              "ticks": ""
             }
            },
            "type": "parcoords"
           }
          ],
          "pie": [
           {
            "automargin": true,
            "type": "pie"
           }
          ],
          "scatter": [
           {
            "fillpattern": {
             "fillmode": "overlay",
             "size": 10,
             "solidity": 0.2
            },
            "type": "scatter"
           }
          ],
          "scatter3d": [
           {
            "line": {
             "colorbar": {
              "outlinewidth": 0,
              "ticks": ""
             }
            },
            "marker": {
             "colorbar": {
              "outlinewidth": 0,
              "ticks": ""
             }
            },
            "type": "scatter3d"
           }
          ],
          "scattercarpet": [
           {
            "marker": {
             "colorbar": {
              "outlinewidth": 0,
              "ticks": ""
             }
            },
            "type": "scattercarpet"
           }
          ],
          "scattergeo": [
           {
            "marker": {
             "colorbar": {
              "outlinewidth": 0,
              "ticks": ""
             }
            },
            "type": "scattergeo"
           }
          ],
          "scattergl": [
           {
            "marker": {
             "colorbar": {
              "outlinewidth": 0,
              "ticks": ""
             }
            },
            "type": "scattergl"
           }
          ],
          "scattermapbox": [
           {
            "marker": {
             "colorbar": {
              "outlinewidth": 0,
              "ticks": ""
             }
            },
            "type": "scattermapbox"
           }
          ],
          "scatterpolar": [
           {
            "marker": {
             "colorbar": {
              "outlinewidth": 0,
              "ticks": ""
             }
            },
            "type": "scatterpolar"
           }
          ],
          "scatterpolargl": [
           {
            "marker": {
             "colorbar": {
              "outlinewidth": 0,
              "ticks": ""
             }
            },
            "type": "scatterpolargl"
           }
          ],
          "scatterternary": [
           {
            "marker": {
             "colorbar": {
              "outlinewidth": 0,
              "ticks": ""
             }
            },
            "type": "scatterternary"
           }
          ],
          "surface": [
           {
            "colorbar": {
             "outlinewidth": 0,
             "ticks": ""
            },
            "colorscale": [
             [
              0,
              "#0d0887"
             ],
             [
              0.1111111111111111,
              "#46039f"
             ],
             [
              0.2222222222222222,
              "#7201a8"
             ],
             [
              0.3333333333333333,
              "#9c179e"
             ],
             [
              0.4444444444444444,
              "#bd3786"
             ],
             [
              0.5555555555555556,
              "#d8576b"
             ],
             [
              0.6666666666666666,
              "#ed7953"
             ],
             [
              0.7777777777777778,
              "#fb9f3a"
             ],
             [
              0.8888888888888888,
              "#fdca26"
             ],
             [
              1,
              "#f0f921"
             ]
            ],
            "type": "surface"
           }
          ],
          "table": [
           {
            "cells": {
             "fill": {
              "color": "#EBF0F8"
             },
             "line": {
              "color": "white"
             }
            },
            "header": {
             "fill": {
              "color": "#C8D4E3"
             },
             "line": {
              "color": "white"
             }
            },
            "type": "table"
           }
          ]
         },
         "layout": {
          "annotationdefaults": {
           "arrowcolor": "#2a3f5f",
           "arrowhead": 0,
           "arrowwidth": 1
          },
          "autotypenumbers": "strict",
          "coloraxis": {
           "colorbar": {
            "outlinewidth": 0,
            "ticks": ""
           }
          },
          "colorscale": {
           "diverging": [
            [
             0,
             "#8e0152"
            ],
            [
             0.1,
             "#c51b7d"
            ],
            [
             0.2,
             "#de77ae"
            ],
            [
             0.3,
             "#f1b6da"
            ],
            [
             0.4,
             "#fde0ef"
            ],
            [
             0.5,
             "#f7f7f7"
            ],
            [
             0.6,
             "#e6f5d0"
            ],
            [
             0.7,
             "#b8e186"
            ],
            [
             0.8,
             "#7fbc41"
            ],
            [
             0.9,
             "#4d9221"
            ],
            [
             1,
             "#276419"
            ]
           ],
           "sequential": [
            [
             0,
             "#0d0887"
            ],
            [
             0.1111111111111111,
             "#46039f"
            ],
            [
             0.2222222222222222,
             "#7201a8"
            ],
            [
             0.3333333333333333,
             "#9c179e"
            ],
            [
             0.4444444444444444,
             "#bd3786"
            ],
            [
             0.5555555555555556,
             "#d8576b"
            ],
            [
             0.6666666666666666,
             "#ed7953"
            ],
            [
             0.7777777777777778,
             "#fb9f3a"
            ],
            [
             0.8888888888888888,
             "#fdca26"
            ],
            [
             1,
             "#f0f921"
            ]
           ],
           "sequentialminus": [
            [
             0,
             "#0d0887"
            ],
            [
             0.1111111111111111,
             "#46039f"
            ],
            [
             0.2222222222222222,
             "#7201a8"
            ],
            [
             0.3333333333333333,
             "#9c179e"
            ],
            [
             0.4444444444444444,
             "#bd3786"
            ],
            [
             0.5555555555555556,
             "#d8576b"
            ],
            [
             0.6666666666666666,
             "#ed7953"
            ],
            [
             0.7777777777777778,
             "#fb9f3a"
            ],
            [
             0.8888888888888888,
             "#fdca26"
            ],
            [
             1,
             "#f0f921"
            ]
           ]
          },
          "colorway": [
           "#636efa",
           "#EF553B",
           "#00cc96",
           "#ab63fa",
           "#FFA15A",
           "#19d3f3",
           "#FF6692",
           "#B6E880",
           "#FF97FF",
           "#FECB52"
          ],
          "font": {
           "color": "#2a3f5f"
          },
          "geo": {
           "bgcolor": "white",
           "lakecolor": "white",
           "landcolor": "#E5ECF6",
           "showlakes": true,
           "showland": true,
           "subunitcolor": "white"
          },
          "hoverlabel": {
           "align": "left"
          },
          "hovermode": "closest",
          "mapbox": {
           "style": "light"
          },
          "paper_bgcolor": "white",
          "plot_bgcolor": "#E5ECF6",
          "polar": {
           "angularaxis": {
            "gridcolor": "white",
            "linecolor": "white",
            "ticks": ""
           },
           "bgcolor": "#E5ECF6",
           "radialaxis": {
            "gridcolor": "white",
            "linecolor": "white",
            "ticks": ""
           }
          },
          "scene": {
           "xaxis": {
            "backgroundcolor": "#E5ECF6",
            "gridcolor": "white",
            "gridwidth": 2,
            "linecolor": "white",
            "showbackground": true,
            "ticks": "",
            "zerolinecolor": "white"
           },
           "yaxis": {
            "backgroundcolor": "#E5ECF6",
            "gridcolor": "white",
            "gridwidth": 2,
            "linecolor": "white",
            "showbackground": true,
            "ticks": "",
            "zerolinecolor": "white"
           },
           "zaxis": {
            "backgroundcolor": "#E5ECF6",
            "gridcolor": "white",
            "gridwidth": 2,
            "linecolor": "white",
            "showbackground": true,
            "ticks": "",
            "zerolinecolor": "white"
           }
          },
          "shapedefaults": {
           "line": {
            "color": "#2a3f5f"
           }
          },
          "ternary": {
           "aaxis": {
            "gridcolor": "white",
            "linecolor": "white",
            "ticks": ""
           },
           "baxis": {
            "gridcolor": "white",
            "linecolor": "white",
            "ticks": ""
           },
           "bgcolor": "#E5ECF6",
           "caxis": {
            "gridcolor": "white",
            "linecolor": "white",
            "ticks": ""
           }
          },
          "title": {
           "x": 0.05
          },
          "xaxis": {
           "automargin": true,
           "gridcolor": "white",
           "linecolor": "white",
           "ticks": "",
           "title": {
            "standoff": 15
           },
           "zerolinecolor": "white",
           "zerolinewidth": 2
          },
          "yaxis": {
           "automargin": true,
           "gridcolor": "white",
           "linecolor": "white",
           "ticks": "",
           "title": {
            "standoff": 15
           },
           "zerolinecolor": "white",
           "zerolinewidth": 2
          }
         }
        }
       }
      }
     },
     "metadata": {},
     "output_type": "display_data"
    }
   ],
   "source": [
    "bars_df[\"time_normalized\"] = (bars_df.index - bars_df.index[0]).total_seconds()/60\n",
    "\n",
    "scatter_plot = px.scatter_3d(bars_df, x=\"close\", y=\"close - 15\", z=\"time_normalized\",\n",
    "color_discrete_map={\"close\":\"red\",\"close - 15\":\"blue\"})\n",
    "\n",
    "scatter_plot"
   ]
  },
  {
   "cell_type": "code",
   "execution_count": 14,
   "metadata": {},
   "outputs": [
    {
     "data": {
      "application/vnd.plotly.v1+json": {
       "config": {
        "plotlyServerURL": "https://plot.ly"
       },
       "data": [
        {
         "marker": {
          "color": "blue",
          "size": 4
         },
         "mode": "markers",
         "name": "OHLC data",
         "type": "scatter3d",
         "x": [
          0,
          5,
          10,
          15,
          20,
          25,
          30,
          35,
          40,
          45,
          50,
          55,
          60,
          65,
          70,
          75,
          80,
          85,
          90,
          95,
          100,
          105,
          110,
          115,
          120,
          125,
          130,
          135,
          140,
          145,
          150,
          155,
          160,
          165,
          170,
          175,
          180,
          185,
          190,
          195,
          200,
          205,
          210,
          215,
          220,
          225,
          230,
          235,
          240,
          245,
          250,
          255,
          260,
          265,
          270,
          275,
          280,
          285,
          290,
          295,
          300,
          305,
          310,
          315,
          320,
          325,
          330,
          335,
          340,
          345,
          350,
          355,
          360,
          365,
          370,
          375,
          380,
          385,
          390,
          395,
          400,
          405,
          410,
          415,
          420,
          425,
          430,
          435,
          440,
          445,
          450,
          455,
          460,
          465,
          470,
          475,
          480,
          485,
          490,
          495,
          500,
          505,
          510,
          515,
          520,
          525,
          530,
          535,
          540,
          545,
          550,
          555,
          560,
          565,
          570,
          575,
          580,
          585,
          590,
          595,
          600,
          605,
          610,
          615,
          620,
          625,
          630,
          635,
          640,
          645,
          650,
          655,
          660,
          665,
          670,
          675,
          680,
          685,
          690,
          695,
          700,
          705,
          710,
          715,
          720,
          725,
          730,
          735,
          740,
          745,
          750,
          755,
          760,
          765,
          770,
          775,
          780,
          785,
          790,
          795,
          800,
          805,
          810,
          815,
          820,
          825,
          830,
          835,
          840,
          845,
          850,
          855,
          860,
          865,
          870,
          875,
          880,
          885,
          890,
          895,
          900,
          905,
          910,
          915,
          920,
          925,
          930,
          935,
          940,
          945,
          950,
          955,
          1440,
          1445,
          1450,
          1455,
          1460,
          1465,
          1470,
          1475,
          1480,
          1485,
          1490,
          1495,
          1500,
          1505,
          1510,
          1515,
          1520,
          1525,
          1530,
          1535,
          1540,
          1545,
          1550,
          1560,
          1570,
          1575,
          1585,
          1590,
          1595,
          1600,
          1605,
          1610,
          1615,
          1620,
          1625,
          1630,
          1635,
          1640,
          1645,
          1650,
          1655,
          1660,
          1665,
          1670,
          1675,
          1680,
          1685,
          1690,
          1695,
          1700,
          1705,
          1710,
          1715,
          1720,
          1725,
          1730,
          1735,
          1740,
          1745,
          1750,
          1755,
          1760,
          1765,
          1770,
          1775,
          1780,
          1785,
          1790,
          1795,
          1800,
          1805,
          1810,
          1815,
          1820,
          1825,
          1830,
          1835,
          1840,
          1845,
          1850,
          1855,
          1860,
          1865,
          1870,
          1875,
          1880,
          1885,
          1890
         ],
         "y": [
          0,
          5,
          10,
          15,
          20,
          25,
          30,
          35,
          40,
          45,
          50,
          55,
          60,
          65,
          70,
          75,
          80,
          85,
          90,
          95,
          100,
          105,
          110,
          115,
          120,
          125,
          130,
          135,
          140,
          145,
          150,
          155,
          160,
          165,
          170,
          175,
          180,
          185,
          190,
          195,
          200,
          205,
          210,
          215,
          220,
          225,
          230,
          235,
          240,
          245,
          250,
          255,
          260,
          265,
          270,
          275,
          280,
          285,
          290,
          295,
          300,
          305,
          310,
          315,
          320,
          325,
          330,
          335,
          340,
          345,
          350,
          355,
          360,
          365,
          370,
          375,
          380,
          385,
          390,
          395,
          400,
          405,
          410,
          415,
          420,
          425,
          430,
          435,
          440,
          445,
          450,
          455,
          460,
          465,
          470,
          475,
          480,
          485,
          490,
          495,
          500,
          505,
          510,
          515,
          520,
          525,
          530,
          535,
          540,
          545,
          550,
          555,
          560,
          565,
          570,
          575,
          580,
          585,
          590,
          595,
          600,
          605,
          610,
          615,
          620,
          625,
          630,
          635,
          640,
          645,
          650,
          655,
          660,
          665,
          670,
          675,
          680,
          685,
          690,
          695,
          700,
          705,
          710,
          715,
          720,
          725,
          730,
          735,
          740,
          745,
          750,
          755,
          760,
          765,
          770,
          775,
          780,
          785,
          790,
          795,
          800,
          805,
          810,
          815,
          820,
          825,
          830,
          835,
          840,
          845,
          850,
          855,
          860,
          865,
          870,
          875,
          880,
          885,
          890,
          895,
          900,
          905,
          910,
          915,
          920,
          925,
          930,
          935,
          940,
          945,
          950,
          955,
          1440,
          1445,
          1450,
          1455,
          1460,
          1465,
          1470,
          1475,
          1480,
          1485,
          1490,
          1495,
          1500,
          1505,
          1510,
          1515,
          1520,
          1525,
          1530,
          1535,
          1540,
          1545,
          1550,
          1560,
          1570,
          1575,
          1585,
          1590,
          1595,
          1600,
          1605,
          1610,
          1615,
          1620,
          1625,
          1630,
          1635,
          1640,
          1645,
          1650,
          1655,
          1660,
          1665,
          1670,
          1675,
          1680,
          1685,
          1690,
          1695,
          1700,
          1705,
          1710,
          1715,
          1720,
          1725,
          1730,
          1735,
          1740,
          1745,
          1750,
          1755,
          1760,
          1765,
          1770,
          1775,
          1780,
          1785,
          1790,
          1795,
          1800,
          1805,
          1810,
          1815,
          1820,
          1825,
          1830,
          1835,
          1840,
          1845,
          1850,
          1855,
          1860,
          1865,
          1870,
          1875,
          1880,
          1885,
          1890
         ],
         "z": [
          197.3,
          196.82,
          197.11,
          197.24,
          197,
          196.67,
          196.1,
          196.4,
          196.39,
          196.5,
          196.5,
          196.21,
          196,
          195.7,
          196.07,
          195.92,
          195.89,
          196,
          196.5,
          196.6,
          196.57,
          196.64,
          196.39,
          196.5,
          196.33,
          196.1,
          196.38,
          196.44,
          196.44,
          196.3,
          196.42,
          196.54,
          196.8,
          196.88,
          196.96,
          196.99,
          197.1,
          197.1,
          197.28,
          197.05,
          196.97,
          197,
          197.02,
          197.28,
          197.19,
          197.1,
          197.1,
          197.3,
          197.05,
          196.8,
          197.2,
          197.08,
          197.04,
          197,
          196.74,
          197.0203,
          197.45,
          197.08,
          197.0205,
          197.15,
          197.38,
          197.2,
          197.18,
          197.08,
          196.9,
          196.15,
          198.33,
          195.81,
          194.1549,
          194.6,
          193.9503,
          193.2808,
          192.9,
          193.3234,
          193.5922,
          194.3,
          192.792,
          191.4188,
          191.66,
          191.62,
          191.235,
          192.1001,
          192.92,
          193.17,
          193.12,
          193.0001,
          193.14,
          193.12,
          193,
          192.6312,
          191.993,
          192.075,
          192.3226,
          192.33,
          191.8453,
          191.3501,
          190.3214,
          190.1,
          189.8808,
          189.4157,
          189.2215,
          190.18,
          190.2401,
          189.42,
          190.05,
          189.52,
          189.845,
          189.7,
          189.7899,
          190.06,
          190.72,
          190.7746,
          190.94,
          190.5399,
          190.16,
          190.305,
          191.1199,
          191.11,
          191.044,
          191.4749,
          191.285,
          191.1999,
          191.2719,
          191.57,
          191.08,
          191.59,
          191.4789,
          191.6901,
          192.0099,
          192.1997,
          191.955,
          192.1407,
          191.9818,
          192.695,
          192.6701,
          192.71,
          192.89,
          193.14,
          192.305,
          192.78,
          193.09,
          193.47,
          193.37,
          193.77,
          193.77,
          193.131,
          193.43,
          193.32,
          193.4,
          193.36,
          193.4979,
          193.61,
          193.58,
          193.72,
          193.61,
          193.56,
          193.57,
          193.58,
          193.59,
          193.6301,
          193.63,
          193.71,
          193.63,
          193.6301,
          193.59,
          193.47,
          193.34,
          193.2,
          193.22,
          193.27,
          193.5,
          193.53,
          193.3,
          193.26,
          192.89,
          192.8507,
          192.93,
          192.95,
          193.09,
          192.91,
          192.91,
          192.9,
          192.8,
          192.7,
          192.7199,
          192.68,
          192.67,
          192.58,
          192.71,
          192.58,
          192.33,
          192.4,
          192.15,
          192.56,
          192.33,
          192.05,
          192.27,
          192.1,
          192.1,
          192.06,
          192.06,
          192.21,
          192.27,
          192.2,
          192.13,
          192.13,
          192.56,
          192.92,
          193.12,
          193.39,
          193.1,
          193.4,
          193.35,
          193.3,
          193.35,
          193.17,
          192.87,
          192.81,
          192.95,
          193.03,
          193.25,
          193.03,
          192.92,
          193,
          193.18,
          192.57,
          192.66,
          192.56,
          192.86,
          192.64,
          192.8,
          192.84,
          192.67,
          192.75,
          192.33,
          192.33,
          192.21,
          192.77,
          192.42,
          192.25,
          192.23,
          191.82,
          192.0018,
          191.74,
          192.1,
          192.15,
          192.1,
          191.99,
          192.09,
          192.2,
          192.15,
          191.98,
          191.97,
          191.83,
          193.3,
          195.82,
          196.8,
          196.57,
          197.97,
          197.8973,
          197.21,
          198.965,
          197.69,
          197.9,
          197.09,
          196.402,
          196.17,
          195.8804,
          195.728,
          195.8198,
          195.9142,
          195.39,
          194.992,
          194.855,
          194.7344,
          194.8611,
          195.305,
          194.74,
          194.06,
          194.12
         ]
        }
       ],
       "layout": {
        "template": {
         "data": {
          "bar": [
           {
            "error_x": {
             "color": "#2a3f5f"
            },
            "error_y": {
             "color": "#2a3f5f"
            },
            "marker": {
             "line": {
              "color": "#E5ECF6",
              "width": 0.5
             },
             "pattern": {
              "fillmode": "overlay",
              "size": 10,
              "solidity": 0.2
             }
            },
            "type": "bar"
           }
          ],
          "barpolar": [
           {
            "marker": {
             "line": {
              "color": "#E5ECF6",
              "width": 0.5
             },
             "pattern": {
              "fillmode": "overlay",
              "size": 10,
              "solidity": 0.2
             }
            },
            "type": "barpolar"
           }
          ],
          "carpet": [
           {
            "aaxis": {
             "endlinecolor": "#2a3f5f",
             "gridcolor": "white",
             "linecolor": "white",
             "minorgridcolor": "white",
             "startlinecolor": "#2a3f5f"
            },
            "baxis": {
             "endlinecolor": "#2a3f5f",
             "gridcolor": "white",
             "linecolor": "white",
             "minorgridcolor": "white",
             "startlinecolor": "#2a3f5f"
            },
            "type": "carpet"
           }
          ],
          "choropleth": [
           {
            "colorbar": {
             "outlinewidth": 0,
             "ticks": ""
            },
            "type": "choropleth"
           }
          ],
          "contour": [
           {
            "colorbar": {
             "outlinewidth": 0,
             "ticks": ""
            },
            "colorscale": [
             [
              0,
              "#0d0887"
             ],
             [
              0.1111111111111111,
              "#46039f"
             ],
             [
              0.2222222222222222,
              "#7201a8"
             ],
             [
              0.3333333333333333,
              "#9c179e"
             ],
             [
              0.4444444444444444,
              "#bd3786"
             ],
             [
              0.5555555555555556,
              "#d8576b"
             ],
             [
              0.6666666666666666,
              "#ed7953"
             ],
             [
              0.7777777777777778,
              "#fb9f3a"
             ],
             [
              0.8888888888888888,
              "#fdca26"
             ],
             [
              1,
              "#f0f921"
             ]
            ],
            "type": "contour"
           }
          ],
          "contourcarpet": [
           {
            "colorbar": {
             "outlinewidth": 0,
             "ticks": ""
            },
            "type": "contourcarpet"
           }
          ],
          "heatmap": [
           {
            "colorbar": {
             "outlinewidth": 0,
             "ticks": ""
            },
            "colorscale": [
             [
              0,
              "#0d0887"
             ],
             [
              0.1111111111111111,
              "#46039f"
             ],
             [
              0.2222222222222222,
              "#7201a8"
             ],
             [
              0.3333333333333333,
              "#9c179e"
             ],
             [
              0.4444444444444444,
              "#bd3786"
             ],
             [
              0.5555555555555556,
              "#d8576b"
             ],
             [
              0.6666666666666666,
              "#ed7953"
             ],
             [
              0.7777777777777778,
              "#fb9f3a"
             ],
             [
              0.8888888888888888,
              "#fdca26"
             ],
             [
              1,
              "#f0f921"
             ]
            ],
            "type": "heatmap"
           }
          ],
          "heatmapgl": [
           {
            "colorbar": {
             "outlinewidth": 0,
             "ticks": ""
            },
            "colorscale": [
             [
              0,
              "#0d0887"
             ],
             [
              0.1111111111111111,
              "#46039f"
             ],
             [
              0.2222222222222222,
              "#7201a8"
             ],
             [
              0.3333333333333333,
              "#9c179e"
             ],
             [
              0.4444444444444444,
              "#bd3786"
             ],
             [
              0.5555555555555556,
              "#d8576b"
             ],
             [
              0.6666666666666666,
              "#ed7953"
             ],
             [
              0.7777777777777778,
              "#fb9f3a"
             ],
             [
              0.8888888888888888,
              "#fdca26"
             ],
             [
              1,
              "#f0f921"
             ]
            ],
            "type": "heatmapgl"
           }
          ],
          "histogram": [
           {
            "marker": {
             "pattern": {
              "fillmode": "overlay",
              "size": 10,
              "solidity": 0.2
             }
            },
            "type": "histogram"
           }
          ],
          "histogram2d": [
           {
            "colorbar": {
             "outlinewidth": 0,
             "ticks": ""
            },
            "colorscale": [
             [
              0,
              "#0d0887"
             ],
             [
              0.1111111111111111,
              "#46039f"
             ],
             [
              0.2222222222222222,
              "#7201a8"
             ],
             [
              0.3333333333333333,
              "#9c179e"
             ],
             [
              0.4444444444444444,
              "#bd3786"
             ],
             [
              0.5555555555555556,
              "#d8576b"
             ],
             [
              0.6666666666666666,
              "#ed7953"
             ],
             [
              0.7777777777777778,
              "#fb9f3a"
             ],
             [
              0.8888888888888888,
              "#fdca26"
             ],
             [
              1,
              "#f0f921"
             ]
            ],
            "type": "histogram2d"
           }
          ],
          "histogram2dcontour": [
           {
            "colorbar": {
             "outlinewidth": 0,
             "ticks": ""
            },
            "colorscale": [
             [
              0,
              "#0d0887"
             ],
             [
              0.1111111111111111,
              "#46039f"
             ],
             [
              0.2222222222222222,
              "#7201a8"
             ],
             [
              0.3333333333333333,
              "#9c179e"
             ],
             [
              0.4444444444444444,
              "#bd3786"
             ],
             [
              0.5555555555555556,
              "#d8576b"
             ],
             [
              0.6666666666666666,
              "#ed7953"
             ],
             [
              0.7777777777777778,
              "#fb9f3a"
             ],
             [
              0.8888888888888888,
              "#fdca26"
             ],
             [
              1,
              "#f0f921"
             ]
            ],
            "type": "histogram2dcontour"
           }
          ],
          "mesh3d": [
           {
            "colorbar": {
             "outlinewidth": 0,
             "ticks": ""
            },
            "type": "mesh3d"
           }
          ],
          "parcoords": [
           {
            "line": {
             "colorbar": {
              "outlinewidth": 0,
              "ticks": ""
             }
            },
            "type": "parcoords"
           }
          ],
          "pie": [
           {
            "automargin": true,
            "type": "pie"
           }
          ],
          "scatter": [
           {
            "fillpattern": {
             "fillmode": "overlay",
             "size": 10,
             "solidity": 0.2
            },
            "type": "scatter"
           }
          ],
          "scatter3d": [
           {
            "line": {
             "colorbar": {
              "outlinewidth": 0,
              "ticks": ""
             }
            },
            "marker": {
             "colorbar": {
              "outlinewidth": 0,
              "ticks": ""
             }
            },
            "type": "scatter3d"
           }
          ],
          "scattercarpet": [
           {
            "marker": {
             "colorbar": {
              "outlinewidth": 0,
              "ticks": ""
             }
            },
            "type": "scattercarpet"
           }
          ],
          "scattergeo": [
           {
            "marker": {
             "colorbar": {
              "outlinewidth": 0,
              "ticks": ""
             }
            },
            "type": "scattergeo"
           }
          ],
          "scattergl": [
           {
            "marker": {
             "colorbar": {
              "outlinewidth": 0,
              "ticks": ""
             }
            },
            "type": "scattergl"
           }
          ],
          "scattermapbox": [
           {
            "marker": {
             "colorbar": {
              "outlinewidth": 0,
              "ticks": ""
             }
            },
            "type": "scattermapbox"
           }
          ],
          "scatterpolar": [
           {
            "marker": {
             "colorbar": {
              "outlinewidth": 0,
              "ticks": ""
             }
            },
            "type": "scatterpolar"
           }
          ],
          "scatterpolargl": [
           {
            "marker": {
             "colorbar": {
              "outlinewidth": 0,
              "ticks": ""
             }
            },
            "type": "scatterpolargl"
           }
          ],
          "scatterternary": [
           {
            "marker": {
             "colorbar": {
              "outlinewidth": 0,
              "ticks": ""
             }
            },
            "type": "scatterternary"
           }
          ],
          "surface": [
           {
            "colorbar": {
             "outlinewidth": 0,
             "ticks": ""
            },
            "colorscale": [
             [
              0,
              "#0d0887"
             ],
             [
              0.1111111111111111,
              "#46039f"
             ],
             [
              0.2222222222222222,
              "#7201a8"
             ],
             [
              0.3333333333333333,
              "#9c179e"
             ],
             [
              0.4444444444444444,
              "#bd3786"
             ],
             [
              0.5555555555555556,
              "#d8576b"
             ],
             [
              0.6666666666666666,
              "#ed7953"
             ],
             [
              0.7777777777777778,
              "#fb9f3a"
             ],
             [
              0.8888888888888888,
              "#fdca26"
             ],
             [
              1,
              "#f0f921"
             ]
            ],
            "type": "surface"
           }
          ],
          "table": [
           {
            "cells": {
             "fill": {
              "color": "#EBF0F8"
             },
             "line": {
              "color": "white"
             }
            },
            "header": {
             "fill": {
              "color": "#C8D4E3"
             },
             "line": {
              "color": "white"
             }
            },
            "type": "table"
           }
          ]
         },
         "layout": {
          "annotationdefaults": {
           "arrowcolor": "#2a3f5f",
           "arrowhead": 0,
           "arrowwidth": 1
          },
          "autotypenumbers": "strict",
          "coloraxis": {
           "colorbar": {
            "outlinewidth": 0,
            "ticks": ""
           }
          },
          "colorscale": {
           "diverging": [
            [
             0,
             "#8e0152"
            ],
            [
             0.1,
             "#c51b7d"
            ],
            [
             0.2,
             "#de77ae"
            ],
            [
             0.3,
             "#f1b6da"
            ],
            [
             0.4,
             "#fde0ef"
            ],
            [
             0.5,
             "#f7f7f7"
            ],
            [
             0.6,
             "#e6f5d0"
            ],
            [
             0.7,
             "#b8e186"
            ],
            [
             0.8,
             "#7fbc41"
            ],
            [
             0.9,
             "#4d9221"
            ],
            [
             1,
             "#276419"
            ]
           ],
           "sequential": [
            [
             0,
             "#0d0887"
            ],
            [
             0.1111111111111111,
             "#46039f"
            ],
            [
             0.2222222222222222,
             "#7201a8"
            ],
            [
             0.3333333333333333,
             "#9c179e"
            ],
            [
             0.4444444444444444,
             "#bd3786"
            ],
            [
             0.5555555555555556,
             "#d8576b"
            ],
            [
             0.6666666666666666,
             "#ed7953"
            ],
            [
             0.7777777777777778,
             "#fb9f3a"
            ],
            [
             0.8888888888888888,
             "#fdca26"
            ],
            [
             1,
             "#f0f921"
            ]
           ],
           "sequentialminus": [
            [
             0,
             "#0d0887"
            ],
            [
             0.1111111111111111,
             "#46039f"
            ],
            [
             0.2222222222222222,
             "#7201a8"
            ],
            [
             0.3333333333333333,
             "#9c179e"
            ],
            [
             0.4444444444444444,
             "#bd3786"
            ],
            [
             0.5555555555555556,
             "#d8576b"
            ],
            [
             0.6666666666666666,
             "#ed7953"
            ],
            [
             0.7777777777777778,
             "#fb9f3a"
            ],
            [
             0.8888888888888888,
             "#fdca26"
            ],
            [
             1,
             "#f0f921"
            ]
           ]
          },
          "colorway": [
           "#636efa",
           "#EF553B",
           "#00cc96",
           "#ab63fa",
           "#FFA15A",
           "#19d3f3",
           "#FF6692",
           "#B6E880",
           "#FF97FF",
           "#FECB52"
          ],
          "font": {
           "color": "#2a3f5f"
          },
          "geo": {
           "bgcolor": "white",
           "lakecolor": "white",
           "landcolor": "#E5ECF6",
           "showlakes": true,
           "showland": true,
           "subunitcolor": "white"
          },
          "hoverlabel": {
           "align": "left"
          },
          "hovermode": "closest",
          "mapbox": {
           "style": "light"
          },
          "paper_bgcolor": "white",
          "plot_bgcolor": "#E5ECF6",
          "polar": {
           "angularaxis": {
            "gridcolor": "white",
            "linecolor": "white",
            "ticks": ""
           },
           "bgcolor": "#E5ECF6",
           "radialaxis": {
            "gridcolor": "white",
            "linecolor": "white",
            "ticks": ""
           }
          },
          "scene": {
           "xaxis": {
            "backgroundcolor": "#E5ECF6",
            "gridcolor": "white",
            "gridwidth": 2,
            "linecolor": "white",
            "showbackground": true,
            "ticks": "",
            "zerolinecolor": "white"
           },
           "yaxis": {
            "backgroundcolor": "#E5ECF6",
            "gridcolor": "white",
            "gridwidth": 2,
            "linecolor": "white",
            "showbackground": true,
            "ticks": "",
            "zerolinecolor": "white"
           },
           "zaxis": {
            "backgroundcolor": "#E5ECF6",
            "gridcolor": "white",
            "gridwidth": 2,
            "linecolor": "white",
            "showbackground": true,
            "ticks": "",
            "zerolinecolor": "white"
           }
          },
          "shapedefaults": {
           "line": {
            "color": "#2a3f5f"
           }
          },
          "ternary": {
           "aaxis": {
            "gridcolor": "white",
            "linecolor": "white",
            "ticks": ""
           },
           "baxis": {
            "gridcolor": "white",
            "linecolor": "white",
            "ticks": ""
           },
           "bgcolor": "#E5ECF6",
           "caxis": {
            "gridcolor": "white",
            "linecolor": "white",
            "ticks": ""
           }
          },
          "title": {
           "x": 0.05
          },
          "xaxis": {
           "automargin": true,
           "gridcolor": "white",
           "linecolor": "white",
           "ticks": "",
           "title": {
            "standoff": 15
           },
           "zerolinecolor": "white",
           "zerolinewidth": 2
          },
          "yaxis": {
           "automargin": true,
           "gridcolor": "white",
           "linecolor": "white",
           "ticks": "",
           "title": {
            "standoff": 15
           },
           "zerolinecolor": "white",
           "zerolinewidth": 2
          }
         }
        }
       }
      }
     },
     "metadata": {},
     "output_type": "display_data"
    }
   ],
   "source": [
    "# 3d scatter plot for OHLC data\n",
    "\n",
    "fig = go.Figure()\n",
    "\n",
    "fig.add_trace(go.Scatter3d(\n",
    "    x=bars_df[\"time_normalized\"],\n",
    "    y=bars_df[\"time_normalized\"],\n",
    "    z=bars_df[\"close\"],\n",
    "    mode = \"markers\",\n",
    "    marker = dict(size=4, color=\"blue\"),\n",
    "    name = \"OHLC data\"\n",
    "))"
   ]
  },
  {
   "cell_type": "code",
   "execution_count": 15,
   "metadata": {},
   "outputs": [],
   "source": [
    "inner_ellipsoid_centers = bars_df[['close', 'close - 15']].values\n",
    "inner_ellipsoid_radii = bars_df[['close', 'close - 15']].subtract(bars_df[['open', 'open - 15']]).values / 2\n",
    "\n",
    "outer_ellipsoid_centers = bars_df[['high', 'high - 15']].values\n",
    "outer_ellipsoid_radii = bars_df[['high', 'high - 15']].subtract(bars_df[['low', 'low - 15']]).values / 2\n"
   ]
  },
  {
   "cell_type": "code",
   "execution_count": 16,
   "metadata": {},
   "outputs": [
    {
     "name": "stdout",
     "output_type": "stream",
     "text": [
      "[[197.3         nan]\n",
      " [196.82        nan]\n",
      " [197.11   197.3   ]\n",
      " [197.24   196.82  ]\n",
      " [197.     197.11  ]\n",
      " [196.67   197.24  ]\n",
      " [196.1    197.    ]\n",
      " [196.4    196.67  ]\n",
      " [196.39   196.1   ]\n",
      " [196.5    196.4   ]\n",
      " [196.5    196.39  ]\n",
      " [196.21   196.5   ]\n",
      " [196.     196.5   ]\n",
      " [195.7    196.21  ]\n",
      " [196.07   196.    ]\n",
      " [195.92   195.7   ]\n",
      " [195.89   196.07  ]\n",
      " [196.     195.92  ]\n",
      " [196.5    195.89  ]\n",
      " [196.6    196.    ]\n",
      " [196.57   196.5   ]\n",
      " [196.64   196.6   ]\n",
      " [196.39   196.57  ]\n",
      " [196.5    196.64  ]\n",
      " [196.33   196.39  ]\n",
      " [196.1    196.5   ]\n",
      " [196.38   196.33  ]\n",
      " [196.44   196.1   ]\n",
      " [196.44   196.38  ]\n",
      " [196.3    196.44  ]\n",
      " [196.42   196.44  ]\n",
      " [196.54   196.3   ]\n",
      " [196.8    196.42  ]\n",
      " [196.88   196.54  ]\n",
      " [196.96   196.8   ]\n",
      " [196.99   196.88  ]\n",
      " [197.1    196.96  ]\n",
      " [197.1    196.99  ]\n",
      " [197.28   197.1   ]\n",
      " [197.05   197.1   ]\n",
      " [196.97   197.28  ]\n",
      " [197.     197.05  ]\n",
      " [197.02   196.97  ]\n",
      " [197.28   197.    ]\n",
      " [197.19   197.02  ]\n",
      " [197.1    197.28  ]\n",
      " [197.1    197.19  ]\n",
      " [197.3    197.1   ]\n",
      " [197.05   197.1   ]\n",
      " [196.8    197.3   ]\n",
      " [197.2    197.05  ]\n",
      " [197.08   196.8   ]\n",
      " [197.04   197.2   ]\n",
      " [197.     197.08  ]\n",
      " [196.74   197.04  ]\n",
      " [197.0203 197.    ]\n",
      " [197.45   196.74  ]\n",
      " [197.08   197.0203]\n",
      " [197.0205 197.45  ]\n",
      " [197.15   197.08  ]\n",
      " [197.38   197.0205]\n",
      " [197.2    197.15  ]\n",
      " [197.18   197.38  ]\n",
      " [197.08   197.2   ]\n",
      " [196.9    197.18  ]\n",
      " [196.15   197.08  ]\n",
      " [198.33   196.9   ]\n",
      " [195.81   196.15  ]\n",
      " [194.1549 198.33  ]\n",
      " [194.6    195.81  ]\n",
      " [193.9503 194.1549]\n",
      " [193.2808 194.6   ]\n",
      " [192.9    193.9503]\n",
      " [193.3234 193.2808]\n",
      " [193.5922 192.9   ]\n",
      " [194.3    193.3234]\n",
      " [192.792  193.5922]\n",
      " [191.4188 194.3   ]\n",
      " [191.66   192.792 ]\n",
      " [191.62   191.4188]\n",
      " [191.235  191.66  ]\n",
      " [192.1001 191.62  ]\n",
      " [192.92   191.235 ]\n",
      " [193.17   192.1001]\n",
      " [193.12   192.92  ]\n",
      " [193.0001 193.17  ]\n",
      " [193.14   193.12  ]\n",
      " [193.12   193.0001]\n",
      " [193.     193.14  ]\n",
      " [192.6312 193.12  ]\n",
      " [191.993  193.    ]\n",
      " [192.075  192.6312]\n",
      " [192.3226 191.993 ]\n",
      " [192.33   192.075 ]\n",
      " [191.8453 192.3226]\n",
      " [191.3501 192.33  ]\n",
      " [190.3214 191.8453]\n",
      " [190.1    191.3501]\n",
      " [189.8808 190.3214]\n",
      " [189.4157 190.1   ]\n",
      " [189.2215 189.8808]\n",
      " [190.18   189.4157]\n",
      " [190.2401 189.2215]\n",
      " [189.42   190.18  ]\n",
      " [190.05   190.2401]\n",
      " [189.52   189.42  ]\n",
      " [189.845  190.05  ]\n",
      " [189.7    189.52  ]\n",
      " [189.7899 189.845 ]\n",
      " [190.06   189.7   ]\n",
      " [190.72   189.7899]\n",
      " [190.7746 190.06  ]\n",
      " [190.94   190.72  ]\n",
      " [190.5399 190.7746]\n",
      " [190.16   190.94  ]\n",
      " [190.305  190.5399]\n",
      " [191.1199 190.16  ]\n",
      " [191.11   190.305 ]\n",
      " [191.044  191.1199]\n",
      " [191.4749 191.11  ]\n",
      " [191.285  191.044 ]\n",
      " [191.1999 191.4749]\n",
      " [191.2719 191.285 ]\n",
      " [191.57   191.1999]\n",
      " [191.08   191.2719]\n",
      " [191.59   191.57  ]\n",
      " [191.4789 191.08  ]\n",
      " [191.6901 191.59  ]\n",
      " [192.0099 191.4789]\n",
      " [192.1997 191.6901]\n",
      " [191.955  192.0099]\n",
      " [192.1407 192.1997]\n",
      " [191.9818 191.955 ]\n",
      " [192.695  192.1407]\n",
      " [192.6701 191.9818]\n",
      " [192.71   192.695 ]\n",
      " [192.89   192.6701]\n",
      " [193.14   192.71  ]\n",
      " [192.305  192.89  ]\n",
      " [192.78   193.14  ]\n",
      " [193.09   192.305 ]\n",
      " [193.47   192.78  ]\n",
      " [193.37   193.09  ]\n",
      " [193.77   193.47  ]\n",
      " [193.77   193.37  ]\n",
      " [193.131  193.77  ]\n",
      " [193.43   193.77  ]\n",
      " [193.32   193.131 ]\n",
      " [193.4    193.43  ]\n",
      " [193.36   193.32  ]\n",
      " [193.4979 193.4   ]\n",
      " [193.61   193.36  ]\n",
      " [193.58   193.4979]\n",
      " [193.72   193.61  ]\n",
      " [193.61   193.58  ]\n",
      " [193.56   193.72  ]\n",
      " [193.57   193.61  ]\n",
      " [193.58   193.56  ]\n",
      " [193.59   193.57  ]\n",
      " [193.6301 193.58  ]\n",
      " [193.63   193.59  ]\n",
      " [193.71   193.6301]\n",
      " [193.63   193.63  ]\n",
      " [193.6301 193.71  ]\n",
      " [193.59   193.63  ]\n",
      " [193.47   193.6301]\n",
      " [193.34   193.59  ]\n",
      " [193.2    193.47  ]\n",
      " [193.22   193.34  ]\n",
      " [193.27   193.2   ]\n",
      " [193.5    193.22  ]\n",
      " [193.53   193.27  ]\n",
      " [193.3    193.5   ]\n",
      " [193.26   193.53  ]\n",
      " [192.89   193.3   ]\n",
      " [192.8507 193.26  ]\n",
      " [192.93   192.89  ]\n",
      " [192.95   192.8507]\n",
      " [193.09   192.93  ]\n",
      " [192.91   192.95  ]\n",
      " [192.91   193.09  ]\n",
      " [192.9    192.91  ]\n",
      " [192.8    192.91  ]\n",
      " [192.7    192.9   ]\n",
      " [192.7199 192.8   ]\n",
      " [192.68   192.7   ]\n",
      " [192.67   192.7199]\n",
      " [192.58   192.68  ]\n",
      " [192.71   192.67  ]\n",
      " [192.58   192.58  ]\n",
      " [192.33   192.71  ]\n",
      " [192.4    192.58  ]\n",
      " [192.15   192.33  ]\n",
      " [192.56   192.4   ]\n",
      " [192.33   192.15  ]\n",
      " [192.05   192.56  ]\n",
      " [192.27   192.33  ]\n",
      " [192.1    192.05  ]\n",
      " [192.1    192.27  ]\n",
      " [192.06   192.1   ]\n",
      " [192.06   192.1   ]\n",
      " [192.21   192.06  ]\n",
      " [192.27   192.06  ]\n",
      " [192.2    192.21  ]\n",
      " [192.13   192.27  ]\n",
      " [192.13   192.2   ]\n",
      " [192.56   192.13  ]\n",
      " [192.92   192.13  ]\n",
      " [193.12   192.56  ]\n",
      " [193.39   192.92  ]\n",
      " [193.1    193.12  ]\n",
      " [193.4    193.39  ]\n",
      " [193.35   193.1   ]\n",
      " [193.3    193.4   ]\n",
      " [193.35   193.35  ]\n",
      " [193.17   193.3   ]\n",
      " [192.87   193.35  ]\n",
      " [192.81   193.17  ]\n",
      " [192.95   192.87  ]\n",
      " [193.03   192.81  ]\n",
      " [193.25   192.95  ]\n",
      " [193.03   193.03  ]\n",
      " [192.92   193.25  ]\n",
      " [193.     193.03  ]\n",
      " [193.18   192.92  ]\n",
      " [192.57   193.    ]\n",
      " [192.66   193.18  ]\n",
      " [192.56   192.57  ]\n",
      " [192.86   192.66  ]\n",
      " [192.64   192.56  ]\n",
      " [192.8    192.86  ]\n",
      " [192.84   192.64  ]\n",
      " [192.67   192.8   ]\n",
      " [192.75   192.84  ]\n",
      " [192.33   192.67  ]\n",
      " [192.33   192.75  ]\n",
      " [192.21   192.33  ]\n",
      " [192.77   192.33  ]\n",
      " [192.42   192.21  ]\n",
      " [192.25   192.77  ]\n",
      " [192.23   192.42  ]\n",
      " [191.82   192.25  ]\n",
      " [192.0018 192.23  ]\n",
      " [191.74   191.82  ]\n",
      " [192.1    192.0018]\n",
      " [192.15   191.74  ]\n",
      " [192.1    192.1   ]\n",
      " [191.99   192.15  ]\n",
      " [192.09   192.1   ]\n",
      " [192.2    191.99  ]\n",
      " [192.15   192.09  ]\n",
      " [191.98   192.2   ]\n",
      " [191.97   192.15  ]\n",
      " [191.83   191.98  ]\n",
      " [193.3    191.97  ]\n",
      " [195.82   191.83  ]\n",
      " [196.8    193.3   ]\n",
      " [196.57   195.82  ]\n",
      " [197.97   196.8   ]\n",
      " [197.8973 196.57  ]\n",
      " [197.21   197.97  ]\n",
      " [198.965  197.8973]\n",
      " [197.69   197.21  ]\n",
      " [197.9    198.965 ]\n",
      " [197.09   197.69  ]\n",
      " [196.402  197.9   ]\n",
      " [196.17   197.09  ]\n",
      " [195.8804 196.402 ]\n",
      " [195.728  196.17  ]\n",
      " [195.8198 195.8804]\n",
      " [195.9142 195.728 ]\n",
      " [195.39   195.8198]\n",
      " [194.992  195.9142]\n",
      " [194.855  195.39  ]\n",
      " [194.7344 194.992 ]\n",
      " [194.8611 194.855 ]\n",
      " [195.305  194.7344]\n",
      " [194.74   194.8611]\n",
      " [194.06   195.305 ]\n",
      " [194.12   194.74  ]]\n"
     ]
    }
   ],
   "source": [
    "print(inner_ellipsoid_centers)"
   ]
  },
  {
   "cell_type": "code",
   "execution_count": 17,
   "metadata": {},
   "outputs": [
    {
     "name": "stderr",
     "output_type": "stream",
     "text": [
      "/var/folders/sr/78cv2dx14kgdcwtf90634z580000gn/T/ipykernel_11990/2004110499.py:5: FutureWarning:\n",
      "\n",
      "Series.__getitem__ treating keys as positions is deprecated. In a future version, integer keys will always be treated as labels (consistent with DataFrame behavior). To access a value by position, use `ser.iloc[pos]`\n",
      "\n"
     ]
    },
    {
     "ename": "ValueError",
     "evalue": "\n    Invalid value of type 'numpy.float64' received for the 'x' property of mesh3d\n        Received value: 197.3\n\n    The 'x' property is an array that may be specified as a tuple,\n    list, numpy array, or pandas Series",
     "output_type": "error",
     "traceback": [
      "\u001b[0;31m---------------------------------------------------------------------------\u001b[0m",
      "\u001b[0;31mValueError\u001b[0m                                Traceback (most recent call last)",
      "\u001b[1;32m/Users/ebrown/Desktop/Price_Action_Reloaded/Visualizations/visualization_EB.ipynb Cell 17\u001b[0m line \u001b[0;36m2\n\u001b[1;32m      <a href='vscode-notebook-cell:/Users/ebrown/Desktop/Price_Action_Reloaded/Visualizations/visualization_EB.ipynb#X22sZmlsZQ%3D%3D?line=0'>1</a>\u001b[0m \u001b[39mfor\u001b[39;00m i \u001b[39min\u001b[39;00m \u001b[39mrange\u001b[39m(\u001b[39mlen\u001b[39m(inner_ellipsoid_centers)):\n\u001b[0;32m----> <a href='vscode-notebook-cell:/Users/ebrown/Desktop/Price_Action_Reloaded/Visualizations/visualization_EB.ipynb#X22sZmlsZQ%3D%3D?line=1'>2</a>\u001b[0m     fig\u001b[39m.\u001b[39madd_trace(go\u001b[39m.\u001b[39;49mMesh3d(\n\u001b[1;32m      <a href='vscode-notebook-cell:/Users/ebrown/Desktop/Price_Action_Reloaded/Visualizations/visualization_EB.ipynb#X22sZmlsZQ%3D%3D?line=2'>3</a>\u001b[0m         x\u001b[39m=\u001b[39;49minner_ellipsoid_centers[i, \u001b[39m0\u001b[39;49m],\n\u001b[1;32m      <a href='vscode-notebook-cell:/Users/ebrown/Desktop/Price_Action_Reloaded/Visualizations/visualization_EB.ipynb#X22sZmlsZQ%3D%3D?line=3'>4</a>\u001b[0m         y\u001b[39m=\u001b[39;49minner_ellipsoid_centers[i, \u001b[39m1\u001b[39;49m],\n\u001b[1;32m      <a href='vscode-notebook-cell:/Users/ebrown/Desktop/Price_Action_Reloaded/Visualizations/visualization_EB.ipynb#X22sZmlsZQ%3D%3D?line=4'>5</a>\u001b[0m         z\u001b[39m=\u001b[39;49mbars_df[\u001b[39m'\u001b[39;49m\u001b[39mtime_normalized\u001b[39;49m\u001b[39m'\u001b[39;49m][i],\n\u001b[1;32m      <a href='vscode-notebook-cell:/Users/ebrown/Desktop/Price_Action_Reloaded/Visualizations/visualization_EB.ipynb#X22sZmlsZQ%3D%3D?line=5'>6</a>\u001b[0m         opacity\u001b[39m=\u001b[39;49m\u001b[39m0.5\u001b[39;49m,  \u001b[39m# Inner ellipsoid opacity\u001b[39;49;00m\n\u001b[1;32m      <a href='vscode-notebook-cell:/Users/ebrown/Desktop/Price_Action_Reloaded/Visualizations/visualization_EB.ipynb#X22sZmlsZQ%3D%3D?line=6'>7</a>\u001b[0m         color\u001b[39m=\u001b[39;49m\u001b[39m'\u001b[39;49m\u001b[39mred\u001b[39;49m\u001b[39m'\u001b[39;49m,  \u001b[39m# Inner ellipsoid color\u001b[39;49;00m\n\u001b[1;32m      <a href='vscode-notebook-cell:/Users/ebrown/Desktop/Price_Action_Reloaded/Visualizations/visualization_EB.ipynb#X22sZmlsZQ%3D%3D?line=7'>8</a>\u001b[0m         sizemode\u001b[39m=\u001b[39;49m\u001b[39m'\u001b[39;49m\u001b[39mabsolute\u001b[39;49m\u001b[39m'\u001b[39;49m,\n\u001b[1;32m      <a href='vscode-notebook-cell:/Users/ebrown/Desktop/Price_Action_Reloaded/Visualizations/visualization_EB.ipynb#X22sZmlsZQ%3D%3D?line=8'>9</a>\u001b[0m         sizeref\u001b[39m=\u001b[39;49minner_ellipsoid_radii[i, \u001b[39m0\u001b[39;49m],  \u001b[39m# Set size reference to the radius of the ellipsoid\u001b[39;49;00m\n\u001b[1;32m     <a href='vscode-notebook-cell:/Users/ebrown/Desktop/Price_Action_Reloaded/Visualizations/visualization_EB.ipynb#X22sZmlsZQ%3D%3D?line=9'>10</a>\u001b[0m         xaxis\u001b[39m=\u001b[39;49m\u001b[39m'\u001b[39;49m\u001b[39mx\u001b[39;49m\u001b[39m'\u001b[39;49m,\n\u001b[1;32m     <a href='vscode-notebook-cell:/Users/ebrown/Desktop/Price_Action_Reloaded/Visualizations/visualization_EB.ipynb#X22sZmlsZQ%3D%3D?line=10'>11</a>\u001b[0m         yaxis\u001b[39m=\u001b[39;49m\u001b[39m'\u001b[39;49m\u001b[39my\u001b[39;49m\u001b[39m'\u001b[39;49m,\n\u001b[1;32m     <a href='vscode-notebook-cell:/Users/ebrown/Desktop/Price_Action_Reloaded/Visualizations/visualization_EB.ipynb#X22sZmlsZQ%3D%3D?line=11'>12</a>\u001b[0m         zaxis\u001b[39m=\u001b[39;49m\u001b[39m'\u001b[39;49m\u001b[39mz\u001b[39;49m\u001b[39m'\u001b[39;49m,\n\u001b[1;32m     <a href='vscode-notebook-cell:/Users/ebrown/Desktop/Price_Action_Reloaded/Visualizations/visualization_EB.ipynb#X22sZmlsZQ%3D%3D?line=12'>13</a>\u001b[0m         name\u001b[39m=\u001b[39;49m\u001b[39m'\u001b[39;49m\u001b[39mInner Ellipsoid\u001b[39;49m\u001b[39m'\u001b[39;49m\n\u001b[1;32m     <a href='vscode-notebook-cell:/Users/ebrown/Desktop/Price_Action_Reloaded/Visualizations/visualization_EB.ipynb#X22sZmlsZQ%3D%3D?line=13'>14</a>\u001b[0m     ))\n",
      "File \u001b[0;32m~/anaconda3/envs/machine_learning/lib/python3.10/site-packages/plotly/graph_objs/_mesh3d.py:3313\u001b[0m, in \u001b[0;36mMesh3d.__init__\u001b[0;34m(self, arg, alphahull, autocolorscale, cauto, cmax, cmid, cmin, color, coloraxis, colorbar, colorscale, contour, customdata, customdatasrc, delaunayaxis, facecolor, facecolorsrc, flatshading, hoverinfo, hoverinfosrc, hoverlabel, hovertemplate, hovertemplatesrc, hovertext, hovertextsrc, i, ids, idssrc, intensity, intensitymode, intensitysrc, isrc, j, jsrc, k, ksrc, legend, legendgroup, legendgrouptitle, legendrank, legendwidth, lighting, lightposition, meta, metasrc, name, opacity, reversescale, scene, showlegend, showscale, stream, text, textsrc, uid, uirevision, vertexcolor, vertexcolorsrc, visible, x, xcalendar, xhoverformat, xsrc, y, ycalendar, yhoverformat, ysrc, z, zcalendar, zhoverformat, zsrc, **kwargs)\u001b[0m\n\u001b[1;32m   3311\u001b[0m _v \u001b[39m=\u001b[39m x \u001b[39mif\u001b[39;00m x \u001b[39mis\u001b[39;00m \u001b[39mnot\u001b[39;00m \u001b[39mNone\u001b[39;00m \u001b[39melse\u001b[39;00m _v\n\u001b[1;32m   3312\u001b[0m \u001b[39mif\u001b[39;00m _v \u001b[39mis\u001b[39;00m \u001b[39mnot\u001b[39;00m \u001b[39mNone\u001b[39;00m:\n\u001b[0;32m-> 3313\u001b[0m     \u001b[39mself\u001b[39m[\u001b[39m\"\u001b[39m\u001b[39mx\u001b[39m\u001b[39m\"\u001b[39m] \u001b[39m=\u001b[39m _v\n\u001b[1;32m   3314\u001b[0m _v \u001b[39m=\u001b[39m arg\u001b[39m.\u001b[39mpop(\u001b[39m\"\u001b[39m\u001b[39mxcalendar\u001b[39m\u001b[39m\"\u001b[39m, \u001b[39mNone\u001b[39;00m)\n\u001b[1;32m   3315\u001b[0m _v \u001b[39m=\u001b[39m xcalendar \u001b[39mif\u001b[39;00m xcalendar \u001b[39mis\u001b[39;00m \u001b[39mnot\u001b[39;00m \u001b[39mNone\u001b[39;00m \u001b[39melse\u001b[39;00m _v\n",
      "File \u001b[0;32m~/anaconda3/envs/machine_learning/lib/python3.10/site-packages/plotly/basedatatypes.py:4874\u001b[0m, in \u001b[0;36mBasePlotlyType.__setitem__\u001b[0;34m(self, prop, value)\u001b[0m\n\u001b[1;32m   4870\u001b[0m         \u001b[39mself\u001b[39m\u001b[39m.\u001b[39m_set_array_prop(prop, value)\n\u001b[1;32m   4872\u001b[0m     \u001b[39m# ### Handle simple property ###\u001b[39;00m\n\u001b[1;32m   4873\u001b[0m     \u001b[39melse\u001b[39;00m:\n\u001b[0;32m-> 4874\u001b[0m         \u001b[39mself\u001b[39;49m\u001b[39m.\u001b[39;49m_set_prop(prop, value)\n\u001b[1;32m   4875\u001b[0m \u001b[39melse\u001b[39;00m:\n\u001b[1;32m   4876\u001b[0m     \u001b[39m# Make sure properties dict is initialized\u001b[39;00m\n\u001b[1;32m   4877\u001b[0m     \u001b[39mself\u001b[39m\u001b[39m.\u001b[39m_init_props()\n",
      "File \u001b[0;32m~/anaconda3/envs/machine_learning/lib/python3.10/site-packages/plotly/basedatatypes.py:5218\u001b[0m, in \u001b[0;36mBasePlotlyType._set_prop\u001b[0;34m(self, prop, val)\u001b[0m\n\u001b[1;32m   5216\u001b[0m         \u001b[39mreturn\u001b[39;00m\n\u001b[1;32m   5217\u001b[0m     \u001b[39melse\u001b[39;00m:\n\u001b[0;32m-> 5218\u001b[0m         \u001b[39mraise\u001b[39;00m err\n\u001b[1;32m   5220\u001b[0m \u001b[39m# val is None\u001b[39;00m\n\u001b[1;32m   5221\u001b[0m \u001b[39m# -----------\u001b[39;00m\n\u001b[1;32m   5222\u001b[0m \u001b[39mif\u001b[39;00m val \u001b[39mis\u001b[39;00m \u001b[39mNone\u001b[39;00m:\n\u001b[1;32m   5223\u001b[0m     \u001b[39m# Check if we should send null update\u001b[39;00m\n",
      "File \u001b[0;32m~/anaconda3/envs/machine_learning/lib/python3.10/site-packages/plotly/basedatatypes.py:5213\u001b[0m, in \u001b[0;36mBasePlotlyType._set_prop\u001b[0;34m(self, prop, val)\u001b[0m\n\u001b[1;32m   5210\u001b[0m validator \u001b[39m=\u001b[39m \u001b[39mself\u001b[39m\u001b[39m.\u001b[39m_get_validator(prop)\n\u001b[1;32m   5212\u001b[0m \u001b[39mtry\u001b[39;00m:\n\u001b[0;32m-> 5213\u001b[0m     val \u001b[39m=\u001b[39m validator\u001b[39m.\u001b[39;49mvalidate_coerce(val)\n\u001b[1;32m   5214\u001b[0m \u001b[39mexcept\u001b[39;00m \u001b[39mValueError\u001b[39;00m \u001b[39mas\u001b[39;00m err:\n\u001b[1;32m   5215\u001b[0m     \u001b[39mif\u001b[39;00m \u001b[39mself\u001b[39m\u001b[39m.\u001b[39m_skip_invalid:\n",
      "File \u001b[0;32m~/anaconda3/envs/machine_learning/lib/python3.10/site-packages/_plotly_utils/basevalidators.py:412\u001b[0m, in \u001b[0;36mDataArrayValidator.validate_coerce\u001b[0;34m(self, v)\u001b[0m\n\u001b[1;32m    410\u001b[0m     v \u001b[39m=\u001b[39m to_scalar_or_list(v)\n\u001b[1;32m    411\u001b[0m \u001b[39melse\u001b[39;00m:\n\u001b[0;32m--> 412\u001b[0m     \u001b[39mself\u001b[39;49m\u001b[39m.\u001b[39;49mraise_invalid_val(v)\n\u001b[1;32m    413\u001b[0m \u001b[39mreturn\u001b[39;00m v\n",
      "File \u001b[0;32m~/anaconda3/envs/machine_learning/lib/python3.10/site-packages/_plotly_utils/basevalidators.py:296\u001b[0m, in \u001b[0;36mBaseValidator.raise_invalid_val\u001b[0;34m(self, v, inds)\u001b[0m\n\u001b[1;32m    293\u001b[0m             \u001b[39mfor\u001b[39;00m i \u001b[39min\u001b[39;00m inds:\n\u001b[1;32m    294\u001b[0m                 name \u001b[39m+\u001b[39m\u001b[39m=\u001b[39m \u001b[39m\"\u001b[39m\u001b[39m[\u001b[39m\u001b[39m\"\u001b[39m \u001b[39m+\u001b[39m \u001b[39mstr\u001b[39m(i) \u001b[39m+\u001b[39m \u001b[39m\"\u001b[39m\u001b[39m]\u001b[39m\u001b[39m\"\u001b[39m\n\u001b[0;32m--> 296\u001b[0m         \u001b[39mraise\u001b[39;00m \u001b[39mValueError\u001b[39;00m(\n\u001b[1;32m    297\u001b[0m \u001b[39m            \u001b[39m\u001b[39m\"\"\"\u001b[39;00m\n\u001b[1;32m    298\u001b[0m \u001b[39m    Invalid value of type {typ} received for the '{name}' property of {pname}\u001b[39;00m\n\u001b[1;32m    299\u001b[0m \u001b[39m        Received value: {v}\u001b[39;00m\n\u001b[1;32m    300\u001b[0m \n\u001b[1;32m    301\u001b[0m \u001b[39m{valid_clr_desc}\"\"\"\u001b[39;00m\u001b[39m.\u001b[39mformat(\n\u001b[1;32m    302\u001b[0m                 name\u001b[39m=\u001b[39mname,\n\u001b[1;32m    303\u001b[0m                 pname\u001b[39m=\u001b[39m\u001b[39mself\u001b[39m\u001b[39m.\u001b[39mparent_name,\n\u001b[1;32m    304\u001b[0m                 typ\u001b[39m=\u001b[39mtype_str(v),\n\u001b[1;32m    305\u001b[0m                 v\u001b[39m=\u001b[39m\u001b[39mrepr\u001b[39m(v),\n\u001b[1;32m    306\u001b[0m                 valid_clr_desc\u001b[39m=\u001b[39m\u001b[39mself\u001b[39m\u001b[39m.\u001b[39mdescription(),\n\u001b[1;32m    307\u001b[0m             )\n\u001b[1;32m    308\u001b[0m         )\n",
      "\u001b[0;31mValueError\u001b[0m: \n    Invalid value of type 'numpy.float64' received for the 'x' property of mesh3d\n        Received value: 197.3\n\n    The 'x' property is an array that may be specified as a tuple,\n    list, numpy array, or pandas Series"
     ]
    }
   ],
   "source": [
    "for i in range(len(inner_ellipsoid_centers)):\n",
    "    fig.add_trace(go.Mesh3d(\n",
    "        x=inner_ellipsoid_centers[i, 0],\n",
    "        y=inner_ellipsoid_centers[i, 1],\n",
    "        z=bars_df['time_normalized'][i],\n",
    "        opacity=0.5,  # Inner ellipsoid opacity\n",
    "        color='red',  # Inner ellipsoid color\n",
    "        sizemode='absolute',\n",
    "        sizeref=inner_ellipsoid_radii[i, 0],  # Set size reference to the radius of the ellipsoid\n",
    "        xaxis='x',\n",
    "        yaxis='y',\n",
    "        zaxis='z',\n",
    "        name='Inner Ellipsoid'\n",
    "    ))"
   ]
  },
  {
   "cell_type": "code",
   "execution_count": null,
   "metadata": {},
   "outputs": [],
   "source": []
  }
 ],
 "metadata": {
  "kernelspec": {
   "display_name": "machine_learning",
   "language": "python",
   "name": "python3"
  },
  "language_info": {
   "codemirror_mode": {
    "name": "ipython",
    "version": 3
   },
   "file_extension": ".py",
   "mimetype": "text/x-python",
   "name": "python",
   "nbconvert_exporter": "python",
   "pygments_lexer": "ipython3",
   "version": "3.10.13"
  },
  "orig_nbformat": 4
 },
 "nbformat": 4,
 "nbformat_minor": 2
}
