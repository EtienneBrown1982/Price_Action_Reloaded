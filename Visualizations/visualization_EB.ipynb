{
 "cells": [
  {
   "cell_type": "code",
   "execution_count": null,
   "metadata": {},
   "outputs": [],
   "source": [
    "# Import libraries \n",
    "\n",
    "import pandas as pd \n",
    "import os\n",
    "import datetime\n",
    "from datetime import timedelta\n",
    "import numpy as np\n",
    "import alpaca_trade_api as tradeapi \n",
    "import matplotlib.pyplot as plt \n",
    "import matplotlib.dates as mpdates\n"
   ]
  },
  {
   "cell_type": "code",
   "execution_count": null,
   "metadata": {},
   "outputs": [],
   "source": [
    "# Load .env file\n",
    "\n",
    "load_dotenv()"
   ]
  },
  {
   "cell_type": "code",
   "execution_count": null,
   "metadata": {},
   "outputs": [],
   "source": [
    "# Set Alpaca API key and secret\n",
    "\n",
    "ALPACA_API_KEY = os.getenv(\"ALPACA_API_KEY\")\n",
    "ALPACA_SECRET_KEY = os.getenv(\"ALPACA_SECRET_KEY\")\n",
    "ALPACA_ENDPOINT_KEY = os.getenv(\"ALPACA_END_POINT\")\n",
    "\n",
    "\n",
    "# Create the Alpaca API object\n",
    "\n",
    "api = tradeapi.REST(\n",
    "    ALPACA_API_KEY,\n",
    "    ALPACA_SECRET_KEY,\n",
    "    api_version=\"v2\",\n",
    "    base_url= ALPACA_ENDPOINT_KEY\n",
    ")"
   ]
  },
  {
   "cell_type": "code",
   "execution_count": null,
   "metadata": {},
   "outputs": [],
   "source": [
    "# Parameters for Stock Data from Alpacas\n",
    "# Establish time frame (5 minute)\n",
    "\n",
    "time_frame_1 = \"5min\"\n",
    "time_frame_2 = \"15min\"\n",
    "\n",
    "# Identify what stock symbol is trading\n",
    "\n",
    "stock_symbol = \"QQQ\"\n",
    "\n",
    "# Identify what start date to begin data analysis\n",
    "\n",
    "start_date = pd.Timestamp(\"2020-01-01\", tz=\"America/New_York\").isoformat()\n",
    "\n",
    "# Identify what end date to finalize data analysis\n",
    "\n",
    "end_date = pd.Timestamp(\"2022-01-02\", tz=\"America/New_York\").isoformat()"
   ]
  }
 ],
 "metadata": {
  "language_info": {
   "name": "python"
  },
  "orig_nbformat": 4
 },
 "nbformat": 4,
 "nbformat_minor": 2
}
