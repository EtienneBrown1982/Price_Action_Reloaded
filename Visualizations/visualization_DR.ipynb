{
 "cells": [
  {
   "cell_type": "code",
   "execution_count": 11,
   "metadata": {},
   "outputs": [],
   "source": [
    "import os\n",
    "import pandas as pd\n",
    "\n",
    "from datetime import datetime, timedelta\n",
    "from dotenv import load_dotenv\n",
    " \n",
    "from alpaca.data.requests import StockBarsRequest\n",
    "from alpaca.data.historical.stock import StockHistoricalDataClient\n",
    "from  alpaca.data.timeframe import TimeFrame, TimeFrameUnit"
   ]
  },
  {
   "cell_type": "code",
   "execution_count": 12,
   "metadata": {},
   "outputs": [
    {
     "data": {
      "text/plain": [
       "True"
      ]
     },
     "execution_count": 12,
     "metadata": {},
     "output_type": "execute_result"
    }
   ],
   "source": [
    "load_dotenv()"
   ]
  },
  {
   "cell_type": "code",
   "execution_count": 13,
   "metadata": {},
   "outputs": [],
   "source": [
    "ALPACA_API_KEY = os.getenv(\"ALPACA_API_KEY\")\n",
    "ALPACA_SECRET_KEY = os.getenv(\"ALPACA_API_SECRET\")"
   ]
  },
  {
   "cell_type": "code",
   "execution_count": 14,
   "metadata": {},
   "outputs": [],
   "source": [
    "client = StockHistoricalDataClient(ALPACA_API_KEY, ALPACA_SECRET_KEY)"
   ]
  },
  {
   "cell_type": "code",
   "execution_count": 15,
   "metadata": {},
   "outputs": [],
   "source": [
    "timeframe = TimeFrame(5, TimeFrameUnit.Minute)\n",
    "symbol = 'TSLA'\n",
    "start = datetime.utcnow() - timedelta(days=30)\n",
    "end=datetime.utcnow() - timedelta(days=1)\n",
    "request = StockBarsRequest(symbol_or_symbols=symbol, start=start, end=end, timeframe=timeframe)"
   ]
  },
  {
   "cell_type": "code",
   "execution_count": 16,
   "metadata": {},
   "outputs": [],
   "source": [
    "bars_df = client.get_stock_bars(request).df.tz_convert('America/New_York', level=1)"
   ]
  },
  {
   "cell_type": "code",
   "execution_count": 17,
   "metadata": {},
   "outputs": [
    {
     "data": {
      "text/html": [
       "<div>\n",
       "<style scoped>\n",
       "    .dataframe tbody tr th:only-of-type {\n",
       "        vertical-align: middle;\n",
       "    }\n",
       "\n",
       "    .dataframe tbody tr th {\n",
       "        vertical-align: top;\n",
       "    }\n",
       "\n",
       "    .dataframe thead th {\n",
       "        text-align: right;\n",
       "    }\n",
       "</style>\n",
       "<table border=\"1\" class=\"dataframe\">\n",
       "  <thead>\n",
       "    <tr style=\"text-align: right;\">\n",
       "      <th></th>\n",
       "      <th></th>\n",
       "      <th>open</th>\n",
       "      <th>high</th>\n",
       "      <th>low</th>\n",
       "      <th>close</th>\n",
       "      <th>volume</th>\n",
       "      <th>trade_count</th>\n",
       "      <th>vwap</th>\n",
       "    </tr>\n",
       "    <tr>\n",
       "      <th>symbol</th>\n",
       "      <th>timestamp</th>\n",
       "      <th></th>\n",
       "      <th></th>\n",
       "      <th></th>\n",
       "      <th></th>\n",
       "      <th></th>\n",
       "      <th></th>\n",
       "      <th></th>\n",
       "    </tr>\n",
       "  </thead>\n",
       "  <tbody>\n",
       "    <tr>\n",
       "      <th rowspan=\"5\" valign=\"top\">TSLA</th>\n",
       "      <th>2024-02-14 19:35:00-05:00</th>\n",
       "      <td>190.11</td>\n",
       "      <td>190.25</td>\n",
       "      <td>190.05</td>\n",
       "      <td>190.25</td>\n",
       "      <td>10956.0</td>\n",
       "      <td>322.0</td>\n",
       "      <td>190.149127</td>\n",
       "    </tr>\n",
       "    <tr>\n",
       "      <th>2024-02-14 19:40:00-05:00</th>\n",
       "      <td>190.21</td>\n",
       "      <td>190.28</td>\n",
       "      <td>190.10</td>\n",
       "      <td>190.21</td>\n",
       "      <td>10499.0</td>\n",
       "      <td>825.0</td>\n",
       "      <td>190.167741</td>\n",
       "    </tr>\n",
       "    <tr>\n",
       "      <th>2024-02-14 19:45:00-05:00</th>\n",
       "      <td>190.17</td>\n",
       "      <td>190.25</td>\n",
       "      <td>190.17</td>\n",
       "      <td>190.22</td>\n",
       "      <td>12958.0</td>\n",
       "      <td>472.0</td>\n",
       "      <td>190.228856</td>\n",
       "    </tr>\n",
       "    <tr>\n",
       "      <th>2024-02-14 19:50:00-05:00</th>\n",
       "      <td>190.25</td>\n",
       "      <td>190.38</td>\n",
       "      <td>190.25</td>\n",
       "      <td>190.38</td>\n",
       "      <td>17475.0</td>\n",
       "      <td>371.0</td>\n",
       "      <td>190.314200</td>\n",
       "    </tr>\n",
       "    <tr>\n",
       "      <th>2024-02-14 19:55:00-05:00</th>\n",
       "      <td>190.40</td>\n",
       "      <td>190.48</td>\n",
       "      <td>190.28</td>\n",
       "      <td>190.28</td>\n",
       "      <td>34163.0</td>\n",
       "      <td>512.0</td>\n",
       "      <td>190.412154</td>\n",
       "    </tr>\n",
       "  </tbody>\n",
       "</table>\n",
       "</div>"
      ],
      "text/plain": [
       "                                    open    high     low   close   volume  \\\n",
       "symbol timestamp                                                            \n",
       "TSLA   2024-02-14 19:35:00-05:00  190.11  190.25  190.05  190.25  10956.0   \n",
       "       2024-02-14 19:40:00-05:00  190.21  190.28  190.10  190.21  10499.0   \n",
       "       2024-02-14 19:45:00-05:00  190.17  190.25  190.17  190.22  12958.0   \n",
       "       2024-02-14 19:50:00-05:00  190.25  190.38  190.25  190.38  17475.0   \n",
       "       2024-02-14 19:55:00-05:00  190.40  190.48  190.28  190.28  34163.0   \n",
       "\n",
       "                                  trade_count        vwap  \n",
       "symbol timestamp                                           \n",
       "TSLA   2024-02-14 19:35:00-05:00        322.0  190.149127  \n",
       "       2024-02-14 19:40:00-05:00        825.0  190.167741  \n",
       "       2024-02-14 19:45:00-05:00        472.0  190.228856  \n",
       "       2024-02-14 19:50:00-05:00        371.0  190.314200  \n",
       "       2024-02-14 19:55:00-05:00        512.0  190.412154  "
      ]
     },
     "metadata": {},
     "output_type": "display_data"
    }
   ],
   "source": [
    "display(bars_df.tail())"
   ]
  }
 ],
 "metadata": {
  "kernelspec": {
   "display_name": "Python 3",
   "language": "python",
   "name": "python3"
  },
  "language_info": {
   "codemirror_mode": {
    "name": "ipython",
    "version": 3
   },
   "file_extension": ".py",
   "mimetype": "text/x-python",
   "name": "python",
   "nbconvert_exporter": "python",
   "pygments_lexer": "ipython3",
   "version": "3.11.5"
  }
 },
 "nbformat": 4,
 "nbformat_minor": 2
}
