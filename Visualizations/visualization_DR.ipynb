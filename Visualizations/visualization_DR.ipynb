{
 "cells": [
  {
   "cell_type": "code",
   "execution_count": null,
   "metadata": {},
   "outputs": [],
   "source": [
    "import numpy as np\n",
    "import os\n",
    "import pandas as pd\n",
    "\n",
    "from datetime import datetime, timedelta\n",
    "from dotenv import load_dotenv\n",
    "\n",
    "import hvplot.pandas\n",
    " \n",
    "from alpaca.data.requests import StockBarsRequest\n",
    "from alpaca.data.historical.stock import StockHistoricalDataClient\n",
    "from  alpaca.data.timeframe import TimeFrame, TimeFrameUnit"
   ]
  },
  {
   "cell_type": "code",
   "execution_count": null,
   "metadata": {},
   "outputs": [],
   "source": [
    "load_dotenv()"
   ]
  },
  {
   "cell_type": "code",
   "execution_count": null,
   "metadata": {},
   "outputs": [],
   "source": [
    "ALPACA_API_KEY = os.getenv(\"ALPACA_API_KEY\")\n",
    "ALPACA_SECRET_KEY = os.getenv(\"ALPACA_API_SECRET\")"
   ]
  },
  {
   "cell_type": "code",
   "execution_count": null,
   "metadata": {},
   "outputs": [],
   "source": [
    "client = StockHistoricalDataClient(ALPACA_API_KEY, ALPACA_SECRET_KEY)"
   ]
  },
  {
   "cell_type": "code",
   "execution_count": null,
   "metadata": {},
   "outputs": [],
   "source": [
    "timeframe = TimeFrame(5, TimeFrameUnit.Minute)\n",
    "symbol = 'TSLA'\n",
    "start = datetime.utcnow() - timedelta(days=30)\n",
    "end=datetime.utcnow() - timedelta(days=1)\n",
    "request = StockBarsRequest(symbol_or_symbols=symbol, start=start, end=end, timeframe=timeframe)"
   ]
  },
  {
   "cell_type": "code",
   "execution_count": null,
   "metadata": {},
   "outputs": [],
   "source": [
    "source_df = client.get_stock_bars(request).df.tz_convert('America/New_York', level=1)"
   ]
  },
  {
   "cell_type": "code",
   "execution_count": null,
   "metadata": {},
   "outputs": [],
   "source": [
    "display(source_df.tail())"
   ]
  },
  {
   "cell_type": "code",
   "execution_count": null,
   "metadata": {},
   "outputs": [],
   "source": [
    "bars_df = source_df.copy()\n",
    "bars_df = bars_df.reset_index(level=[0]).drop(columns=[\"symbol\"])\n",
    "display(bars_df)"
   ]
  },
  {
   "cell_type": "code",
   "execution_count": null,
   "metadata": {},
   "outputs": [],
   "source": [
    "\n",
    "\n",
    "# pct_change is profit from last close\n",
    "bars_df[\"pct_change\"] = bars_df[\"close\"].pct_change()\n",
    "# signal for when we want to be in or out of a stock\n",
    "bars_df[\"signal\"] = np.where(bars_df[\"pct_change\"] > 0, 1.0, 0.0)\n",
    "# reaction is the signal diff\n",
    "bars_df[\"reaction\"] = bars_df[\"signal\"].diff()\n",
    "# action is if we could perfectly predict the next close\n",
    "bars_df[\"action\"] = bars_df[\"reaction\"].shift(-1)\n",
    "# these values are the high, low, and open as a percentage of the current close\n",
    "bars_df[\"high %\"] = (bars_df[\"high\"] - bars_df[\"close\"])/bars_df[\"close\"]\n",
    "bars_df[\"low %\"] = (bars_df[\"low\"] - bars_df[\"close\"])/bars_df[\"close\"]\n",
    "bars_df[\"open %\"] = (bars_df[\"open\"] - bars_df[\"close\"])/bars_df[\"close\"]"
   ]
  },
  {
   "cell_type": "code",
   "execution_count": null,
   "metadata": {},
   "outputs": [],
   "source": [
    "display(bars_df.head(100))\n",
    "display(bars_df.tail(100))"
   ]
  },
  {
   "cell_type": "code",
   "execution_count": null,
   "metadata": {},
   "outputs": [],
   "source": [
    "# So we want to add the high, low, and open for the 15 minute and 60 minute window\n",
    "minutes = 5\n",
    "windows = [3, 12]"
   ]
  },
  {
   "cell_type": "code",
   "execution_count": null,
   "metadata": {},
   "outputs": [],
   "source": [
    "for window in windows:\n",
    "    wm = window*minutes\n",
    "    # compute the rolling high, low, open for a given window.  the close is the same at this time for all windows\n",
    "    bars_df[f\"high - {wm}\"] = bars_df[\"high\"].rolling(window=window).max()\n",
    "    bars_df[f\"low - {wm}\"] = bars_df[\"low\"].rolling(window=window).min()\n",
    "    bars_df[f\"open - {wm}\"] = bars_df[\"open\"].shift(periods=window-1)\n",
    "    # these values are the high, low, and open as a percentage of the current close\n",
    "    bars_df[f\"high % - {wm}\"] = (bars_df[f\"high - {wm}\"] - bars_df[\"close\"])/bars_df[\"close\"]\n",
    "    bars_df[f\"low % - {wm}\"] = (bars_df[f\"low - {wm}\"] - bars_df[\"close\"])/bars_df[\"close\"]\n",
    "    bars_df[f\"open % - {wm}\"] = (bars_df[f\"open - {wm}\"] - bars_df[\"close\"])/bars_df[\"close\"]"
   ]
  },
  {
   "cell_type": "code",
   "execution_count": null,
   "metadata": {},
   "outputs": [],
   "source": [
    "display(bars_df.head(100))\n",
    "display(bars_df.tail(100))"
   ]
  }
 ],
 "metadata": {
  "kernelspec": {
   "display_name": "Python 3",
   "language": "python",
   "name": "python3"
  },
  "language_info": {
   "codemirror_mode": {
    "name": "ipython",
    "version": 3
   },
   "file_extension": ".py",
   "mimetype": "text/x-python",
   "name": "python",
   "nbconvert_exporter": "python",
   "pygments_lexer": "ipython3",
   "version": "3.11.5"
  }
 },
 "nbformat": 4,
 "nbformat_minor": 2
}
