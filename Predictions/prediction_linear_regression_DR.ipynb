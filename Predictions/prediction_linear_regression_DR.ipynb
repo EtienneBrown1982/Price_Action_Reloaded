{
 "cells": [
  {
   "cell_type": "code",
   "execution_count": null,
   "metadata": {},
   "outputs": [],
   "source": [
    "import numpy as np\n",
    "import os\n",
    "import pandas as pd\n",
    "\n",
    "from datetime import datetime, timedelta\n",
    "from dotenv import load_dotenv\n",
    " \n",
    "from alpaca.data.requests import StockBarsRequest\n",
    "from alpaca.data.historical.stock import StockHistoricalDataClient\n",
    "from  alpaca.data.timeframe import TimeFrame, TimeFrameUnit\n",
    "\n",
    "import hvplot.pandas\n",
    "\n",
    "from sklearn.metrics import classification_report\n",
    "from sklearn.model_selection import train_test_split\n",
    "from sklearn.preprocessing import StandardScaler\n",
    "from sklearn.metrics import confusion_matrix\n",
    "from sklearn.metrics import balanced_accuracy_score\n",
    "from sklearn.linear_model import LinearRegression"
   ]
  },
  {
   "cell_type": "code",
   "execution_count": null,
   "metadata": {},
   "outputs": [],
   "source": [
    "load_dotenv()"
   ]
  },
  {
   "cell_type": "code",
   "execution_count": null,
   "metadata": {},
   "outputs": [],
   "source": [
    "source_df = None"
   ]
  },
  {
   "cell_type": "code",
   "execution_count": null,
   "metadata": {},
   "outputs": [],
   "source": [
    "symbol = 'TSLA'\n",
    "file_name = f\"{symbol}.csv\"\n",
    "source_df = None"
   ]
  },
  {
   "cell_type": "code",
   "execution_count": null,
   "metadata": {},
   "outputs": [],
   "source": [
    "if os.path.exists(file_name):\n",
    "    source_df = pd.read_csv(file_name)"
   ]
  },
  {
   "cell_type": "code",
   "execution_count": null,
   "metadata": {},
   "outputs": [],
   "source": [
    "if source_df is None:\n",
    "    display(\"download\")\n",
    "    ALPACA_API_KEY = os.getenv(\"ALPACA_API_KEY\")\n",
    "    ALPACA_SECRET_KEY = os.getenv(\"ALPACA_API_SECRET\")\n",
    "    client = StockHistoricalDataClient(ALPACA_API_KEY, ALPACA_SECRET_KEY)\n",
    "    timeframe = TimeFrame(1, TimeFrameUnit.Day)\n",
    "    start = datetime.utcnow() - timedelta(days=10*365)\n",
    "    end=datetime.utcnow() - timedelta(days=1)\n",
    "    request = StockBarsRequest(symbol_or_symbols=symbol, start=start, end=end, timeframe=timeframe)\n",
    "    source_df = client.get_stock_bars(request).df.tz_convert('America/New_York', level=1)\n",
    "    source_df.to_csv(f\"{symbol}.csv\")"
   ]
  },
  {
   "cell_type": "code",
   "execution_count": null,
   "metadata": {},
   "outputs": [],
   "source": [
    "display(source_df.tail())"
   ]
  },
  {
   "cell_type": "code",
   "execution_count": null,
   "metadata": {},
   "outputs": [],
   "source": [
    "bars_df = source_df.copy()\n",
    "bars_df[\"next close\"] = bars_df[\"close\"].shift(-1)\n",
    "bars_df[\"next high\"] = bars_df[\"high\"].shift(-1)\n",
    "bars_df[\"next low\"] = bars_df[\"low\"].shift(-1)\n",
    "bars_df = bars_df.reset_index(level=[0]).drop(columns=[\"symbol\"])\n",
    "display(bars_df)"
   ]
  },
  {
   "cell_type": "code",
   "execution_count": null,
   "metadata": {},
   "outputs": [],
   "source": [
    "# these values are the high, low, and open as a percentage of the current close\n",
    "bars_df[\"high %\"] = (bars_df[\"high\"] - bars_df[\"close\"])/bars_df[\"close\"]\n",
    "bars_df[\"low %\"] = (bars_df[\"low\"] - bars_df[\"close\"])/bars_df[\"close\"]\n",
    "bars_df[\"open %\"] = (bars_df[\"open\"] - bars_df[\"close\"])/bars_df[\"close\"]"
   ]
  },
  {
   "cell_type": "code",
   "execution_count": null,
   "metadata": {},
   "outputs": [],
   "source": [
    "display(bars_df.head(100))\n",
    "display(bars_df.tail(100))"
   ]
  },
  {
   "cell_type": "code",
   "execution_count": null,
   "metadata": {},
   "outputs": [],
   "source": [
    "# So we want to add the high, low, and open for the 15 minute and 60 minute window\n",
    "period = 1\n",
    "windows = [3, 12]"
   ]
  },
  {
   "cell_type": "code",
   "execution_count": null,
   "metadata": {},
   "outputs": [],
   "source": [
    "for window in windows:\n",
    "    wp = window*period\n",
    "    # compute the rolling high, low, open for a given window.  the close is the same at this time for all windows\n",
    "    bars_df[f\"high - {wp}\"] = bars_df[\"high\"].rolling(window=window).max()\n",
    "    bars_df[f\"low - {wp}\"] = bars_df[\"low\"].rolling(window=window).min()\n",
    "    bars_df[f\"open - {wp}\"] = bars_df[\"open\"].shift(periods=window-1)\n",
    "    # these values are the high, low, and open as a percentage of the current close\n",
    "    bars_df[f\"high % - {wp}\"] = (bars_df[f\"high - {wp}\"] - bars_df[\"close\"])/bars_df[\"close\"]\n",
    "    bars_df[f\"low % - {wp}\"] = (bars_df[f\"low - {wp}\"] - bars_df[\"close\"])/bars_df[\"close\"]\n",
    "    bars_df[f\"open % - {wp}\"] = (bars_df[f\"open - {wp}\"] - bars_df[\"close\"])/bars_df[\"close\"]"
   ]
  },
  {
   "cell_type": "code",
   "execution_count": null,
   "metadata": {},
   "outputs": [],
   "source": [
    "bars_df = bars_df.dropna()\n",
    "display(bars_df.head(100))\n",
    "display(bars_df.tail(100))"
   ]
  },
  {
   "cell_type": "code",
   "execution_count": null,
   "metadata": {},
   "outputs": [],
   "source": [
    "df = bars_df.reset_index()\n",
    "\n",
    "ys = {\n",
    "    \"predicted high\": df[\"next high\"], \n",
    "    \"predicted low\": df[\"next low\"], \n",
    "    \"predicted close\": df[\"next close\"],\n",
    "}\n",
    "\n",
    "X = df.drop(columns=[\"next close\", \"next low\", \"next high\", \"timestamp\"])\n",
    "display(X)"
   ]
  },
  {
   "cell_type": "code",
   "execution_count": null,
   "metadata": {},
   "outputs": [],
   "source": [
    "for name, y in ys.items():\n",
    "    X_train, X_test, y_train, y_test = train_test_split(X, y, random_state=1)\n",
    "    model = LinearRegression()\n",
    "    model.fit(X_train, y_train)\n",
    "    predicted_y_values = model.predict(X)\n",
    "    # Create a copy of the original data\n",
    "    bars_df[name] = predicted_y_values\n",
    "    bars_df"
   ]
  },
  {
   "cell_type": "code",
   "execution_count": null,
   "metadata": {},
   "outputs": [],
   "source": [
    "display(bars_df.tail())"
   ]
  },
  {
   "cell_type": "code",
   "execution_count": null,
   "metadata": {},
   "outputs": [],
   "source": [
    "bars_df[\"high/low success\"] = np.where(\n",
    "    (bars_df[\"next close\"] >= bars_df[\"predicted low\"]),\n",
    "    np.where(\n",
    "        bars_df[\"next close\"] <= bars_df[\"predicted high\"], 1, 0\n",
    "    ), 0\n",
    ")"
   ]
  },
  {
   "cell_type": "code",
   "execution_count": null,
   "metadata": {},
   "outputs": [],
   "source": [
    "bars_df[\"predicted close delta\"] = bars_df[\"predicted close\"] - bars_df[\"close\"]\n",
    "bars_df[\"next close delta\"] = bars_df[\"next close\"] - bars_df[\"close\"]\n",
    "bars_df[\"close product\"] = bars_df[\"next close delta\"] * bars_df[\"predicted close delta\"]\n",
    "bars_df[\"close success\"] = np.where(\n",
    "    bars_df[\"close product\"] >= 0, 1, 0\n",
    ")"
   ]
  },
  {
   "cell_type": "code",
   "execution_count": null,
   "metadata": {},
   "outputs": [],
   "source": [
    "actual_close = bars_df.hvplot.line(\n",
    "    x=\"timestamp\",\n",
    "    y=\"close\",\n",
    "    title=\"Actual Close\"\n",
    ")\n",
    "actual_close"
   ]
  },
  {
   "cell_type": "code",
   "execution_count": null,
   "metadata": {},
   "outputs": [],
   "source": [
    "predicted_high = bars_df.hvplot.line(\n",
    "    x=\"timestamp\",\n",
    "    y=\"predicted high\",\n",
    "    title=\"Predicted High\"\n",
    ")\n",
    "predicted_high"
   ]
  },
  {
   "cell_type": "code",
   "execution_count": null,
   "metadata": {},
   "outputs": [],
   "source": [
    "predicted_low = bars_df.hvplot.line(\n",
    "    x=\"timestamp\",\n",
    "    y=\"predicted low\",\n",
    "    title=\"Predicted Low\"\n",
    ")\n",
    "predicted_low"
   ]
  },
  {
   "cell_type": "code",
   "execution_count": null,
   "metadata": {},
   "outputs": [],
   "source": [
    "actual_close * predicted_high * predicted_low"
   ]
  },
  {
   "cell_type": "code",
   "execution_count": null,
   "metadata": {},
   "outputs": [],
   "source": [
    "bars_df.describe()"
   ]
  }
 ],
 "metadata": {
  "kernelspec": {
   "display_name": "base",
   "language": "python",
   "name": "python3"
  },
  "language_info": {
   "codemirror_mode": {
    "name": "ipython",
    "version": 3
   },
   "file_extension": ".py",
   "mimetype": "text/x-python",
   "name": "python",
   "nbconvert_exporter": "python",
   "pygments_lexer": "ipython3",
   "version": "3.11.5"
  }
 },
 "nbformat": 4,
 "nbformat_minor": 2
}
