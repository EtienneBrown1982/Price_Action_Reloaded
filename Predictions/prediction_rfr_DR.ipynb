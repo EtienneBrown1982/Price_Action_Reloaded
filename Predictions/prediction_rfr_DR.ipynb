{
 "cells": [
  {
   "cell_type": "code",
   "execution_count": null,
   "metadata": {},
   "outputs": [],
   "source": [
    "import numpy as np\n",
    "import os\n",
    "import pandas as pd\n",
    "\n",
    "import math\n",
    "\n",
    "from datetime import datetime, timedelta\n",
    "from dotenv import load_dotenv\n",
    " \n",
    "import yfinance as yf\n",
    "\n",
    "import hvplot.pandas\n",
    "\n",
    "from sklearn.metrics import classification_report\n",
    "from sklearn.model_selection import train_test_split\n",
    "from sklearn.metrics import confusion_matrix\n",
    "from sklearn.metrics import balanced_accuracy_score\n",
    "from sklearn.ensemble import RandomForestRegressor"
   ]
  },
  {
   "cell_type": "code",
   "execution_count": null,
   "metadata": {},
   "outputs": [],
   "source": [
    "load_dotenv()"
   ]
  },
  {
   "cell_type": "code",
   "execution_count": null,
   "metadata": {},
   "outputs": [],
   "source": [
    "source_df = None"
   ]
  },
  {
   "cell_type": "code",
   "execution_count": null,
   "metadata": {},
   "outputs": [],
   "source": [
    "symbol = 'amzn'\n",
    "file_name = f\"{symbol}.csv\"\n",
    "source_df = None"
   ]
  },
  {
   "cell_type": "code",
   "execution_count": null,
   "metadata": {},
   "outputs": [],
   "source": [
    "if os.path.exists(file_name):\n",
    "    source_df = pd.read_csv(file_name)"
   ]
  },
  {
   "cell_type": "code",
   "execution_count": null,
   "metadata": {},
   "outputs": [],
   "source": [
    "if source_df is None:\n",
    "    display(\"download\")\n",
    "    ticker = yf.Ticker(symbol)\n",
    "    start = datetime.utcnow() - timedelta(days=10*365)\n",
    "    end=datetime.utcnow() - timedelta(days=1)\n",
    "    source_df = ticker.history(start=start, end=end)\n",
    "    source_df.to_csv(f\"{symbol}.csv\")"
   ]
  },
  {
   "cell_type": "code",
   "execution_count": null,
   "metadata": {},
   "outputs": [],
   "source": [
    "display(source_df.tail())"
   ]
  },
  {
   "cell_type": "code",
   "execution_count": null,
   "metadata": {},
   "outputs": [],
   "source": [
    "bars_df = source_df.copy()\n",
    "bars_df[\"Next Close\"] = bars_df[\"Close\"].shift(-1)\n",
    "bars_df[\"Next High\"] = bars_df[\"High\"].shift(-1)\n",
    "bars_df[\"Next Low\"] = bars_df[\"Low\"].shift(-1)"
   ]
  },
  {
   "cell_type": "code",
   "execution_count": null,
   "metadata": {},
   "outputs": [],
   "source": [
    "# So we want to add the high, low, and open for the 15 minute and 60 minute window\n",
    "period = 1\n",
    "windows = [3, 12]\n",
    "\n",
    "for window in windows:\n",
    "    wp = window*period\n",
    "    # compute the rolling high, low, open for a given window.  the close is the same at this time for all windows\n",
    "    bars_df[f\"High - {wp}\"] = bars_df[\"High\"].rolling(window=window).max()\n",
    "    bars_df[f\"Low - {wp}\"] = bars_df[\"Low\"].rolling(window=window).min()\n",
    "    bars_df[f\"Open - {wp}\"] = bars_df[\"Open\"].shift(periods=window-1)\n",
    "\n",
    "bars_df = bars_df.dropna()\n",
    "display(bars_df)"
   ]
  },
  {
   "cell_type": "code",
   "execution_count": null,
   "metadata": {},
   "outputs": [],
   "source": [
    "df = bars_df.reset_index()\n",
    "ys = {\n",
    "    \"Predicted High\": df[\"Next High\"], \n",
    "    \"Predicted Low\": df[\"Next Low\"], \n",
    "    \"Predicted Close\": df[\"Next Close\"],\n",
    "}\n",
    "\n",
    "X = df.drop(columns=[\"Next Close\", \"Next Low\", \"Next High\", \"Date\"])\n",
    "display(X)"
   ]
  },
  {
   "cell_type": "code",
   "execution_count": null,
   "metadata": {},
   "outputs": [],
   "source": [
    "for name, y in ys.items():\n",
    "    X_train, X_test, y_train, y_test = train_test_split(X, y, random_state=1)\n",
    "    model = RandomForestRegressor()\n",
    "    model.fit(X_train, y_train)\n",
    "    predicted_y_values = model.predict(X)\n",
    "    # Create a copy of the original data\n",
    "    bars_df[name] = predicted_y_values\n",
    "    bars_df"
   ]
  },
  {
   "cell_type": "code",
   "execution_count": null,
   "metadata": {},
   "outputs": [],
   "source": [
    "display(bars_df.tail())"
   ]
  },
  {
   "cell_type": "code",
   "execution_count": null,
   "metadata": {},
   "outputs": [],
   "source": [
    "bars_df[\"High/Low Success\"] = np.where(\n",
    "    (bars_df[\"Next Close\"] >= bars_df[\"Predicted Low\"]),\n",
    "    np.where(\n",
    "        bars_df[\"Next Close\"] <= bars_df[\"Predicted High\"], 1, 0\n",
    "    ), 0\n",
    ")"
   ]
  },
  {
   "cell_type": "code",
   "execution_count": null,
   "metadata": {},
   "outputs": [],
   "source": [
    "bars_df[\"Predicted Close Delta\"] = bars_df[\"Predicted Close\"] - bars_df[\"Close\"]\n",
    "bars_df[\"Next Close Delta\"] = bars_df[\"Next Close\"] - bars_df[\"Close\"]\n",
    "bars_df[\"Close Product\"] = bars_df[\"Next Close Delta\"] * bars_df[\"Predicted Close Delta\"]\n",
    "bars_df[\"Close Success\"] = np.where(\n",
    "    bars_df[\"Close Product\"] >= 0, 1, 0\n",
    ")"
   ]
  },
  {
   "cell_type": "code",
   "execution_count": null,
   "metadata": {},
   "outputs": [],
   "source": [
    "actual_close = bars_df.hvplot.line(\n",
    "    x=\"Date\",\n",
    "    y=\"Next Close\",\n",
    ")"
   ]
  },
  {
   "cell_type": "code",
   "execution_count": null,
   "metadata": {},
   "outputs": [],
   "source": [
    "predicted_high = bars_df.hvplot.line(\n",
    "    x=\"Date\",\n",
    "    y=\"Predicted High\",\n",
    ")"
   ]
  },
  {
   "cell_type": "code",
   "execution_count": null,
   "metadata": {},
   "outputs": [],
   "source": [
    "predicted_low = bars_df.hvplot.line(\n",
    "    x=\"Date\",\n",
    "    y=\"Predicted Low\",\n",
    ")"
   ]
  },
  {
   "cell_type": "code",
   "execution_count": null,
   "metadata": {},
   "outputs": [],
   "source": [
    "predicted_close = bars_df.hvplot.line(\n",
    "    x=\"Date\",\n",
    "    y=\"Predicted Close\",\n",
    ")"
   ]
  },
  {
   "cell_type": "code",
   "execution_count": null,
   "metadata": {},
   "outputs": [],
   "source": [
    "actual_close * predicted_high * predicted_low * predicted_close"
   ]
  },
  {
   "cell_type": "code",
   "execution_count": null,
   "metadata": {},
   "outputs": [],
   "source": [
    "bars_df.describe()"
   ]
  },
  {
   "cell_type": "code",
   "execution_count": null,
   "metadata": {},
   "outputs": [],
   "source": [
    "bars_df[\"Action\"] = np.where(\n",
    "    bars_df[\"Next Close\"] > bars_df[\"Close\"], 1, -1\n",
    ")"
   ]
  },
  {
   "cell_type": "code",
   "execution_count": null,
   "metadata": {},
   "outputs": [],
   "source": [
    "display(bars_df.head())\n",
    "display(bars_df.tail())"
   ]
  },
  {
   "cell_type": "code",
   "execution_count": null,
   "metadata": {},
   "outputs": [],
   "source": [
    "current_position = 0\n",
    "starting_cash = 1000\n",
    "current_cash = starting_cash\n",
    "max_position = 50\n",
    "for index, row in bars_df.iterrows():\n",
    "    # Get the current action\n",
    "    close = row[\"Close\"]\n",
    "    action = row[\"Action\"]\n",
    "\n",
    "    # Take the action if possible\n",
    "    if action > 0:\n",
    "        if action + current_position <= max_position and action * close < current_cash:\n",
    "            current_position += action\n",
    "            current_cash -= action*close\n",
    "        else:\n",
    "            action = 0\n",
    "    elif action < 0:\n",
    "        if action + current_position >= 0:\n",
    "            current_position += action\n",
    "            current_cash += -action*close\n",
    "        else:\n",
    "            action = 0\n",
    "\n",
    "    # Update enabled and position\n",
    "    bars_df.loc[index, \"Position\"] = current_position\n",
    "    bars_df.loc[index, \"Cash\"] = current_cash"
   ]
  },
  {
   "cell_type": "code",
   "execution_count": null,
   "metadata": {},
   "outputs": [],
   "source": [
    "# Compute Holdings\n",
    "bars_df[\"Holdings\"] = bars_df[\"Close\"] * bars_df[\"Position\"]\n",
    "\n",
    "# Compute Profit\n",
    "bars_df[\"Strategy Value\"] = bars_df[\"Holdings\"] + bars_df[\"Cash\"]\n",
    "starting_close = bars_df.iloc[0][\"Close\"] \n",
    "display(f\"starting_close {starting_close}\")\n",
    "starting_shares = math.floor(starting_cash / starting_close)\n",
    "display(f\"starting_shares {starting_shares}\")\n",
    "bars_df[\"Stock Value\"] =  bars_df[\"Close\"] * starting_shares\n",
    "\n",
    "# Compute Returns\n",
    "bars_df[\"Stock Returns\"] = bars_df[\"Close\"].pct_change()\n",
    "bars_df[\"Strategy Returns\"] = bars_df[\"Strategy Value\"].pct_change()\n",
    "\n",
    "# Compute Cumulative Daily Returns\n",
    "bars_df[\"Stock Cumulative Returns\"] = (bars_df[\"Stock Returns\"] + 1).cumprod()\n",
    "bars_df[\"Strategy Cumulative Returns\"] = (bars_df[\"Strategy Returns\"] + 1).cumprod()"
   ]
  },
  {
   "cell_type": "code",
   "execution_count": null,
   "metadata": {},
   "outputs": [],
   "source": [
    "bars_df.tail()"
   ]
  },
  {
   "cell_type": "code",
   "execution_count": null,
   "metadata": {},
   "outputs": [],
   "source": [
    "returns = bars_df.hvplot.line(\n",
    "    x=\"Date\",\n",
    "    y=[\"Strategy Cumulative Returns\", \"Stock Cumulative Returns\"],\n",
    ").opts(\n",
    "    title=f\"Stock vs Strategy Returns for {symbol} using Random Forest Regressor\",\n",
    "    ylabel=\"Percent Returns\"\n",
    ")\n",
    "returns"
   ]
  },
  {
   "cell_type": "code",
   "execution_count": null,
   "metadata": {},
   "outputs": [],
   "source": [
    "portfolio = bars_df.hvplot.line(\n",
    "    x=\"Date\",\n",
    "    y=[\"Cash\", \"Holdings\"],\n",
    ").opts(\n",
    "    title=f\"Cash vs Holdings for {symbol} using Random Forest Regressor\",\n",
    "    ylabel=\"Dollar Value\"\n",
    ")\n",
    "portfolio"
   ]
  },
  {
   "cell_type": "code",
   "execution_count": null,
   "metadata": {},
   "outputs": [],
   "source": [
    "position = bars_df.hvplot.line(\n",
    "    x=\"Date\",\n",
    "    y=[\"Position\"],\n",
    ").opts(\n",
    "    title=f\"Number of shares of {symbol} using Random Forest Regressor\",\n",
    "    ylabel=\"Number of Shares\"\n",
    ")\n",
    "position"
   ]
  }
 ],
 "metadata": {
  "kernelspec": {
   "display_name": "base",
   "language": "python",
   "name": "python3"
  },
  "language_info": {
   "codemirror_mode": {
    "name": "ipython",
    "version": 3
   },
   "file_extension": ".py",
   "mimetype": "text/x-python",
   "name": "python",
   "nbconvert_exporter": "python",
   "pygments_lexer": "ipython3",
   "version": "3.11.5"
  }
 },
 "nbformat": 4,
 "nbformat_minor": 2
}
